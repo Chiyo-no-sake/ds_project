{
 "cells": [
  {
   "cell_type": "code",
   "execution_count": 2,
   "metadata": {},
   "outputs": [],
   "source": [
    "from google.cloud import bigquery as bq\n",
    "from google.cloud import bigquery_storage as bq_storage\n",
    "import plotly.express as px\n",
    "import pandas as pd\n",
    "\n",
    "# create clients\n",
    "client = bq.Client.from_service_account_json(\"key.json\")\n",
    "storage_client = bq_storage.BigQueryReadClient.from_service_account_json(\"key.json\")\n",
    "\n",
    "bq_dataset_ref = client.dataset(\"stackoverflow\", project=\"bigquery-public-data\")\n",
    "bq_dataset = client.get_dataset(bq_dataset_ref)\n"
   ]
  },
  {
   "cell_type": "code",
   "execution_count": 3,
   "metadata": {},
   "outputs": [
    {
     "data": {
      "text/html": [
       "<div>\n",
       "<style scoped>\n",
       "    .dataframe tbody tr th:only-of-type {\n",
       "        vertical-align: middle;\n",
       "    }\n",
       "\n",
       "    .dataframe tbody tr th {\n",
       "        vertical-align: top;\n",
       "    }\n",
       "\n",
       "    .dataframe thead th {\n",
       "        text-align: right;\n",
       "    }\n",
       "</style>\n",
       "<table border=\"1\" class=\"dataframe\">\n",
       "  <thead>\n",
       "    <tr style=\"text-align: right;\">\n",
       "      <th></th>\n",
       "      <th>r</th>\n",
       "      <th>id</th>\n",
       "      <th>tags</th>\n",
       "      <th>creation_date</th>\n",
       "    </tr>\n",
       "  </thead>\n",
       "  <tbody>\n",
       "    <tr>\n",
       "      <th>0</th>\n",
       "      <td>9.467786e-07</td>\n",
       "      <td>53763078</td>\n",
       "      <td>twitter-bootstrap|typescript|angular2-template...</td>\n",
       "      <td>2018-12-13 13:34:33.387000+00:00</td>\n",
       "    </tr>\n",
       "    <tr>\n",
       "      <th>1</th>\n",
       "      <td>1.153978e-06</td>\n",
       "      <td>28349546</td>\n",
       "      <td>javascript|css|angularjs</td>\n",
       "      <td>2015-02-05 16:49:21.420000+00:00</td>\n",
       "    </tr>\n",
       "    <tr>\n",
       "      <th>2</th>\n",
       "      <td>2.698203e-06</td>\n",
       "      <td>35769951</td>\n",
       "      <td>html|angularjs|selenium</td>\n",
       "      <td>2016-03-03 10:45:13.417000+00:00</td>\n",
       "    </tr>\n",
       "    <tr>\n",
       "      <th>3</th>\n",
       "      <td>3.467710e-06</td>\n",
       "      <td>27061890</td>\n",
       "      <td>angularjs|angularjs-scope|angularjs-injector</td>\n",
       "      <td>2014-11-21 12:53:33.067000+00:00</td>\n",
       "    </tr>\n",
       "    <tr>\n",
       "      <th>4</th>\n",
       "      <td>3.485237e-06</td>\n",
       "      <td>39903325</td>\n",
       "      <td>javascript|angularjs|angular-components|angula...</td>\n",
       "      <td>2016-10-06 18:33:56.357000+00:00</td>\n",
       "    </tr>\n",
       "    <tr>\n",
       "      <th>...</th>\n",
       "      <td>...</td>\n",
       "      <td>...</td>\n",
       "      <td>...</td>\n",
       "      <td>...</td>\n",
       "    </tr>\n",
       "    <tr>\n",
       "      <th>19995</th>\n",
       "      <td>2.186995e-02</td>\n",
       "      <td>50472899</td>\n",
       "      <td>javascript|angular|angular2-template</td>\n",
       "      <td>2018-05-22 16:55:20.140000+00:00</td>\n",
       "    </tr>\n",
       "    <tr>\n",
       "      <th>19996</th>\n",
       "      <td>2.187005e-02</td>\n",
       "      <td>47476812</td>\n",
       "      <td>angular|cors|.net-core|adfs4.0</td>\n",
       "      <td>2017-11-24 16:09:47.427000+00:00</td>\n",
       "    </tr>\n",
       "    <tr>\n",
       "      <th>19997</th>\n",
       "      <td>2.187075e-02</td>\n",
       "      <td>38289989</td>\n",
       "      <td>ruby-on-rails|angularjs|ionic-framework</td>\n",
       "      <td>2016-07-10 08:18:32.437000+00:00</td>\n",
       "    </tr>\n",
       "    <tr>\n",
       "      <th>19998</th>\n",
       "      <td>2.187211e-02</td>\n",
       "      <td>46452347</td>\n",
       "      <td>javascript|angular|typescript|rxjs</td>\n",
       "      <td>2017-09-27 15:58:32.067000+00:00</td>\n",
       "    </tr>\n",
       "    <tr>\n",
       "      <th>19999</th>\n",
       "      <td>2.187356e-02</td>\n",
       "      <td>36089537</td>\n",
       "      <td>java|angularjs|apache|api|angular-ui-router</td>\n",
       "      <td>2016-03-18 16:28:10.103000+00:00</td>\n",
       "    </tr>\n",
       "  </tbody>\n",
       "</table>\n",
       "<p>20000 rows × 4 columns</p>\n",
       "</div>"
      ],
      "text/plain": [
       "                  r        id  \\\n",
       "0      9.467786e-07  53763078   \n",
       "1      1.153978e-06  28349546   \n",
       "2      2.698203e-06  35769951   \n",
       "3      3.467710e-06  27061890   \n",
       "4      3.485237e-06  39903325   \n",
       "...             ...       ...   \n",
       "19995  2.186995e-02  50472899   \n",
       "19996  2.187005e-02  47476812   \n",
       "19997  2.187075e-02  38289989   \n",
       "19998  2.187211e-02  46452347   \n",
       "19999  2.187356e-02  36089537   \n",
       "\n",
       "                                                    tags  \\\n",
       "0      twitter-bootstrap|typescript|angular2-template...   \n",
       "1                               javascript|css|angularjs   \n",
       "2                                html|angularjs|selenium   \n",
       "3           angularjs|angularjs-scope|angularjs-injector   \n",
       "4      javascript|angularjs|angular-components|angula...   \n",
       "...                                                  ...   \n",
       "19995               javascript|angular|angular2-template   \n",
       "19996                     angular|cors|.net-core|adfs4.0   \n",
       "19997            ruby-on-rails|angularjs|ionic-framework   \n",
       "19998                 javascript|angular|typescript|rxjs   \n",
       "19999        java|angularjs|apache|api|angular-ui-router   \n",
       "\n",
       "                         creation_date  \n",
       "0     2018-12-13 13:34:33.387000+00:00  \n",
       "1     2015-02-05 16:49:21.420000+00:00  \n",
       "2     2016-03-03 10:45:13.417000+00:00  \n",
       "3     2014-11-21 12:53:33.067000+00:00  \n",
       "4     2016-10-06 18:33:56.357000+00:00  \n",
       "...                                ...  \n",
       "19995 2018-05-22 16:55:20.140000+00:00  \n",
       "19996 2017-11-24 16:09:47.427000+00:00  \n",
       "19997 2016-07-10 08:18:32.437000+00:00  \n",
       "19998 2017-09-27 15:58:32.067000+00:00  \n",
       "19999 2016-03-18 16:28:10.103000+00:00  \n",
       "\n",
       "[20000 rows x 4 columns]"
      ]
     },
     "execution_count": 3,
     "metadata": {},
     "output_type": "execute_result"
    }
   ],
   "source": [
    "#### GET react, angular, vue.js QUESTIONS ##############\n",
    "\n",
    "sample_size = 20000\n",
    "\n",
    "query = '''\n",
    "    SELECT RAND() as r, id, tags, creation_date FROM `bigquery-public-data.stackoverflow.posts_questions`\n",
    "    WHERE (REGEXP_CONTAINS(tags, r\"vue.js\") OR REGEXP_CONTAINS(tags, r\"react\") OR REGEXP_CONTAINS(tags, r\"angular\"))\n",
    "    ORDER BY r\n",
    "    LIMIT ''' + str(sample_size)\n",
    "\n",
    "df = (\n",
    "    client.query(query)\n",
    "    .result()\n",
    "    .to_dataframe(bqstorage_client=storage_client)\n",
    ")\n",
    "\n",
    "df"
   ]
  },
  {
   "cell_type": "code",
   "execution_count": 13,
   "metadata": {},
   "outputs": [],
   "source": [
    "##### CHANGE TAG, SAVE TO CSV ################\n",
    "\n",
    "def setTag(x):\n",
    "    if(x.find('react') != -1):\n",
    "        return 'react'\n",
    "    elif(x.find('angular') != -1):\n",
    "        return 'angular'\n",
    "    elif(x.find('vue.js') != -1):\n",
    "        return 'vue.js'\n",
    "    \n",
    "\n",
    "toSaveDf = pd.DataFrame(df)\n",
    "toSaveDf = toSaveDf.drop(columns=['id', 'r'])\n",
    "toSaveDf.rename(columns={'tags':'framework'}, inplace=True)\n",
    "toSaveDf['framework'] = toSaveDf['framework'].map(setTag)\n",
    "toSaveDf.to_csv('js-framework-tags-dataframe')"
   ]
  },
  {
   "cell_type": "code",
   "execution_count": 22,
   "metadata": {},
   "outputs": [
    {
     "ename": "AttributeError",
     "evalue": "'int' object has no attribute 'year'",
     "output_type": "error",
     "traceback": [
      "\u001b[0;31m---------------------------------------------------------------------------\u001b[0m",
      "\u001b[0;31mAttributeError\u001b[0m                            Traceback (most recent call last)",
      "\u001b[0;32m<ipython-input-22-de51ff1c041a>\u001b[0m in \u001b[0;36m<module>\u001b[0;34m\u001b[0m\n\u001b[1;32m     15\u001b[0m \u001b[0;34m\u001b[0m\u001b[0m\n\u001b[1;32m     16\u001b[0m \u001b[0mmyDf\u001b[0m\u001b[0;34m[\u001b[0m\u001b[0;34m'tags'\u001b[0m\u001b[0;34m]\u001b[0m \u001b[0;34m=\u001b[0m \u001b[0mmyDf\u001b[0m\u001b[0;34m[\u001b[0m\u001b[0;34m'tags'\u001b[0m\u001b[0;34m]\u001b[0m\u001b[0;34m.\u001b[0m\u001b[0mmap\u001b[0m\u001b[0;34m(\u001b[0m\u001b[0msetTag\u001b[0m\u001b[0;34m)\u001b[0m\u001b[0;34m\u001b[0m\u001b[0;34m\u001b[0m\u001b[0m\n\u001b[0;32m---> 17\u001b[0;31m \u001b[0mmyDf\u001b[0m\u001b[0;34m[\u001b[0m\u001b[0;34m'creation_date'\u001b[0m\u001b[0;34m]\u001b[0m \u001b[0;34m=\u001b[0m \u001b[0mmyDf\u001b[0m\u001b[0;34m[\u001b[0m\u001b[0;34m'creation_date'\u001b[0m\u001b[0;34m]\u001b[0m\u001b[0;34m.\u001b[0m\u001b[0mmap\u001b[0m\u001b[0;34m(\u001b[0m\u001b[0msetDate\u001b[0m\u001b[0;34m)\u001b[0m\u001b[0;34m\u001b[0m\u001b[0;34m\u001b[0m\u001b[0m\n\u001b[0m",
      "\u001b[0;32m~/.local/lib/python3.8/site-packages/pandas/core/series.py\u001b[0m in \u001b[0;36mmap\u001b[0;34m(self, arg, na_action)\u001b[0m\n\u001b[1;32m   3968\u001b[0m         \u001b[0mdtype\u001b[0m\u001b[0;34m:\u001b[0m \u001b[0mobject\u001b[0m\u001b[0;34m\u001b[0m\u001b[0;34m\u001b[0m\u001b[0m\n\u001b[1;32m   3969\u001b[0m         \"\"\"\n\u001b[0;32m-> 3970\u001b[0;31m         \u001b[0mnew_values\u001b[0m \u001b[0;34m=\u001b[0m \u001b[0msuper\u001b[0m\u001b[0;34m(\u001b[0m\u001b[0;34m)\u001b[0m\u001b[0;34m.\u001b[0m\u001b[0m_map_values\u001b[0m\u001b[0;34m(\u001b[0m\u001b[0marg\u001b[0m\u001b[0;34m,\u001b[0m \u001b[0mna_action\u001b[0m\u001b[0;34m=\u001b[0m\u001b[0mna_action\u001b[0m\u001b[0;34m)\u001b[0m\u001b[0;34m\u001b[0m\u001b[0;34m\u001b[0m\u001b[0m\n\u001b[0m\u001b[1;32m   3971\u001b[0m         return self._constructor(new_values, index=self.index).__finalize__(\n\u001b[1;32m   3972\u001b[0m             \u001b[0mself\u001b[0m\u001b[0;34m,\u001b[0m \u001b[0mmethod\u001b[0m\u001b[0;34m=\u001b[0m\u001b[0;34m\"map\"\u001b[0m\u001b[0;34m\u001b[0m\u001b[0;34m\u001b[0m\u001b[0m\n",
      "\u001b[0;32m~/.local/lib/python3.8/site-packages/pandas/core/base.py\u001b[0m in \u001b[0;36m_map_values\u001b[0;34m(self, mapper, na_action)\u001b[0m\n\u001b[1;32m   1158\u001b[0m \u001b[0;34m\u001b[0m\u001b[0m\n\u001b[1;32m   1159\u001b[0m         \u001b[0;31m# mapper is a function\u001b[0m\u001b[0;34m\u001b[0m\u001b[0;34m\u001b[0m\u001b[0;34m\u001b[0m\u001b[0m\n\u001b[0;32m-> 1160\u001b[0;31m         \u001b[0mnew_values\u001b[0m \u001b[0;34m=\u001b[0m \u001b[0mmap_f\u001b[0m\u001b[0;34m(\u001b[0m\u001b[0mvalues\u001b[0m\u001b[0;34m,\u001b[0m \u001b[0mmapper\u001b[0m\u001b[0;34m)\u001b[0m\u001b[0;34m\u001b[0m\u001b[0;34m\u001b[0m\u001b[0m\n\u001b[0m\u001b[1;32m   1161\u001b[0m \u001b[0;34m\u001b[0m\u001b[0m\n\u001b[1;32m   1162\u001b[0m         \u001b[0;32mreturn\u001b[0m \u001b[0mnew_values\u001b[0m\u001b[0;34m\u001b[0m\u001b[0;34m\u001b[0m\u001b[0m\n",
      "\u001b[0;32mpandas/_libs/lib.pyx\u001b[0m in \u001b[0;36mpandas._libs.lib.map_infer\u001b[0;34m()\u001b[0m\n",
      "\u001b[0;32m<ipython-input-22-de51ff1c041a>\u001b[0m in \u001b[0;36msetDate\u001b[0;34m(x)\u001b[0m\n\u001b[1;32m     12\u001b[0m \u001b[0;34m\u001b[0m\u001b[0m\n\u001b[1;32m     13\u001b[0m \u001b[0;32mdef\u001b[0m \u001b[0msetDate\u001b[0m\u001b[0;34m(\u001b[0m\u001b[0mx\u001b[0m\u001b[0;34m)\u001b[0m\u001b[0;34m:\u001b[0m\u001b[0;34m\u001b[0m\u001b[0;34m\u001b[0m\u001b[0m\n\u001b[0;32m---> 14\u001b[0;31m     \u001b[0;32mreturn\u001b[0m \u001b[0mx\u001b[0m\u001b[0;34m.\u001b[0m\u001b[0myear\u001b[0m\u001b[0;34m;\u001b[0m\u001b[0;34m\u001b[0m\u001b[0;34m\u001b[0m\u001b[0m\n\u001b[0m\u001b[1;32m     15\u001b[0m \u001b[0;34m\u001b[0m\u001b[0m\n\u001b[1;32m     16\u001b[0m \u001b[0mmyDf\u001b[0m\u001b[0;34m[\u001b[0m\u001b[0;34m'tags'\u001b[0m\u001b[0;34m]\u001b[0m \u001b[0;34m=\u001b[0m \u001b[0mmyDf\u001b[0m\u001b[0;34m[\u001b[0m\u001b[0;34m'tags'\u001b[0m\u001b[0;34m]\u001b[0m\u001b[0;34m.\u001b[0m\u001b[0mmap\u001b[0m\u001b[0;34m(\u001b[0m\u001b[0msetTag\u001b[0m\u001b[0;34m)\u001b[0m\u001b[0;34m\u001b[0m\u001b[0;34m\u001b[0m\u001b[0m\n",
      "\u001b[0;31mAttributeError\u001b[0m: 'int' object has no attribute 'year'"
     ]
    }
   ],
   "source": [
    "myDf = df\n",
    "\n",
    "# i[0] = 'tag|tag2'\n",
    "\n",
    "def setTag(x):\n",
    "    if(x.find('react') != -1):\n",
    "        return 'react'\n",
    "    elif(x.find('angular') != -1):\n",
    "        return 'angular'\n",
    "    elif(x.find('vue.js') != -1):\n",
    "        return 'vue.js'\n",
    "\n",
    "def setDate(x):\n",
    "    return x.year;\n",
    "\n",
    "myDf['tags'] = myDf['tags'].map(setTag)\n",
    "myDf['creation_date'] = myDf['creation_date'].map(setDate)"
   ]
  },
  {
   "cell_type": "code",
   "execution_count": 12,
   "metadata": {},
   "outputs": [
    {
     "data": {
      "text/html": [
       "<div>\n",
       "<style scoped>\n",
       "    .dataframe tbody tr th:only-of-type {\n",
       "        vertical-align: middle;\n",
       "    }\n",
       "\n",
       "    .dataframe tbody tr th {\n",
       "        vertical-align: top;\n",
       "    }\n",
       "\n",
       "    .dataframe thead th {\n",
       "        text-align: right;\n",
       "    }\n",
       "</style>\n",
       "<table border=\"1\" class=\"dataframe\">\n",
       "  <thead>\n",
       "    <tr style=\"text-align: right;\">\n",
       "      <th></th>\n",
       "      <th>r</th>\n",
       "      <th>creation_date</th>\n",
       "      <th>tags</th>\n",
       "    </tr>\n",
       "  </thead>\n",
       "  <tbody>\n",
       "    <tr>\n",
       "      <th>0</th>\n",
       "      <td>0.000003</td>\n",
       "      <td>2018</td>\n",
       "      <td>angular</td>\n",
       "    </tr>\n",
       "    <tr>\n",
       "      <th>1</th>\n",
       "      <td>0.000008</td>\n",
       "      <td>2019</td>\n",
       "      <td>vue.js</td>\n",
       "    </tr>\n",
       "    <tr>\n",
       "      <th>2</th>\n",
       "      <td>0.000008</td>\n",
       "      <td>2018</td>\n",
       "      <td>react</td>\n",
       "    </tr>\n",
       "    <tr>\n",
       "      <th>3</th>\n",
       "      <td>0.000008</td>\n",
       "      <td>2019</td>\n",
       "      <td>react</td>\n",
       "    </tr>\n",
       "    <tr>\n",
       "      <th>4</th>\n",
       "      <td>0.000016</td>\n",
       "      <td>2019</td>\n",
       "      <td>react</td>\n",
       "    </tr>\n",
       "    <tr>\n",
       "      <th>...</th>\n",
       "      <td>...</td>\n",
       "      <td>...</td>\n",
       "      <td>...</td>\n",
       "    </tr>\n",
       "    <tr>\n",
       "      <th>1995</th>\n",
       "      <td>0.004371</td>\n",
       "      <td>2017</td>\n",
       "      <td>angular</td>\n",
       "    </tr>\n",
       "    <tr>\n",
       "      <th>1996</th>\n",
       "      <td>0.004371</td>\n",
       "      <td>2018</td>\n",
       "      <td>vue.js</td>\n",
       "    </tr>\n",
       "    <tr>\n",
       "      <th>1997</th>\n",
       "      <td>0.004371</td>\n",
       "      <td>2017</td>\n",
       "      <td>angular</td>\n",
       "    </tr>\n",
       "    <tr>\n",
       "      <th>1998</th>\n",
       "      <td>0.004372</td>\n",
       "      <td>2019</td>\n",
       "      <td>react</td>\n",
       "    </tr>\n",
       "    <tr>\n",
       "      <th>1999</th>\n",
       "      <td>0.004373</td>\n",
       "      <td>2019</td>\n",
       "      <td>react</td>\n",
       "    </tr>\n",
       "  </tbody>\n",
       "</table>\n",
       "<p>2000 rows × 3 columns</p>\n",
       "</div>"
      ],
      "text/plain": [
       "             r  creation_date     tags\n",
       "0     0.000003           2018  angular\n",
       "1     0.000008           2019   vue.js\n",
       "2     0.000008           2018    react\n",
       "3     0.000008           2019    react\n",
       "4     0.000016           2019    react\n",
       "...        ...            ...      ...\n",
       "1995  0.004371           2017  angular\n",
       "1996  0.004371           2018   vue.js\n",
       "1997  0.004371           2017  angular\n",
       "1998  0.004372           2019    react\n",
       "1999  0.004373           2019    react\n",
       "\n",
       "[2000 rows x 3 columns]"
      ]
     },
     "execution_count": 12,
     "metadata": {},
     "output_type": "execute_result"
    }
   ],
   "source": [
    "myDf.sort_values(by='creation_date')\n",
    "myDf"
   ]
  },
  {
   "cell_type": "code",
   "execution_count": 21,
   "metadata": {},
   "outputs": [
    {
     "data": {
      "application/vnd.plotly.v1+json": {
       "config": {
        "plotlyServerURL": "https://plot.ly"
       },
       "data": [
        {
         "alignmentgroup": "True",
         "bingroup": "x",
         "hovertemplate": "variable=tags<br>value=%{x}<br>count=%{y}<extra></extra>",
         "legendgroup": "tags",
         "marker": {
          "color": "#636efa"
         },
         "name": "tags",
         "offsetgroup": "tags",
         "orientation": "v",
         "showlegend": true,
         "type": "histogram",
         "x": [
          "vue.js",
          "react",
          "react",
          "react",
          "react",
          "vue.js",
          "angular",
          "react",
          "angular",
          "angular",
          "angular",
          "react",
          "angular",
          "react",
          "react",
          "react",
          "vue.js",
          "react",
          "angular",
          "react",
          "react",
          "angular",
          "react",
          "react",
          "angular",
          "react",
          "angular",
          "react",
          "vue.js",
          "react",
          "react",
          "vue.js",
          "angular",
          "react",
          "react",
          "angular",
          "angular",
          "react",
          "angular",
          "angular",
          "angular",
          "react",
          "react",
          "react",
          "react",
          "angular",
          "angular",
          "react",
          "react",
          "angular",
          "angular",
          "react",
          "angular",
          "react",
          "react",
          "react",
          "react",
          "react",
          "vue.js",
          "react",
          "vue.js",
          "vue.js",
          "react",
          "react",
          "angular",
          "react",
          "react",
          "react",
          "react",
          "vue.js",
          "react",
          "react",
          "react",
          "angular",
          "angular",
          "angular",
          "react",
          "angular",
          "angular",
          "react",
          "react",
          "react",
          "angular",
          "angular",
          "vue.js",
          "react",
          "react",
          "react",
          "react",
          "angular",
          "react",
          "react",
          "react",
          "react",
          "react",
          "react",
          "react",
          "react",
          "angular",
          "angular",
          "angular",
          "react",
          "angular",
          "angular",
          "react",
          "react",
          "angular",
          "react",
          "react",
          "react",
          "angular",
          "react",
          "angular",
          "angular",
          "angular",
          "angular",
          "react",
          "react",
          "react",
          "react",
          "vue.js",
          "react",
          "vue.js",
          "react",
          "angular",
          "angular",
          "angular",
          "react",
          "react",
          "react",
          "angular",
          "vue.js",
          "angular",
          "react",
          "angular",
          "angular",
          "angular",
          "react",
          "react",
          "react",
          "angular",
          "angular",
          "angular",
          "vue.js",
          "angular",
          "angular",
          "react",
          "angular",
          "react",
          "angular",
          "angular",
          "angular",
          "angular",
          "angular",
          "angular",
          "react",
          "angular",
          "angular",
          "react",
          "vue.js",
          "angular",
          "vue.js",
          "react",
          "angular",
          "angular",
          "angular",
          "angular",
          "angular",
          "angular",
          "vue.js",
          "vue.js",
          "angular",
          "vue.js",
          "angular",
          "react",
          "angular",
          "angular",
          "react",
          "angular",
          "vue.js",
          "angular",
          "angular",
          "angular",
          "angular",
          "react",
          "react",
          "react",
          "angular",
          "angular",
          "react",
          "react",
          "react",
          "vue.js",
          "react",
          "angular",
          "angular",
          "react",
          "angular",
          "angular",
          "angular",
          "angular",
          "react",
          "react",
          "angular",
          "react",
          "react",
          "react",
          "react",
          "angular",
          "angular",
          "angular",
          "angular",
          "vue.js",
          "angular",
          "react",
          "react",
          "vue.js",
          "react",
          "react",
          "react",
          "react",
          "angular",
          "react",
          "react",
          "react",
          "angular",
          "angular",
          "react",
          "react",
          "react",
          "angular",
          "angular",
          "react",
          "react",
          "react",
          "react",
          "angular",
          "angular",
          "react",
          "angular",
          "vue.js",
          "vue.js",
          "react",
          "react",
          "react",
          "angular",
          "angular",
          "react",
          "react",
          "react",
          "angular",
          "vue.js",
          "angular",
          "angular",
          "react",
          "react",
          "react",
          "react",
          "vue.js",
          "angular",
          "angular",
          "angular",
          "react",
          "react",
          "angular",
          "vue.js",
          "angular",
          "react",
          "angular",
          "react",
          "react",
          "angular",
          "react",
          "vue.js",
          "angular",
          "react",
          "angular",
          "react",
          "react",
          "vue.js",
          "vue.js",
          "angular",
          "angular",
          "angular",
          "angular",
          "angular",
          "angular",
          "react",
          "angular",
          "vue.js",
          "react",
          "vue.js",
          "react",
          "vue.js",
          "react",
          "angular",
          "angular",
          "vue.js",
          "angular",
          "react",
          "react",
          "react",
          "angular",
          "vue.js",
          "react",
          "angular",
          "angular",
          "react",
          "react",
          "react",
          "react",
          "vue.js",
          "react",
          "angular",
          "vue.js",
          "angular",
          "vue.js",
          "react",
          "react",
          "vue.js",
          "react",
          "angular",
          "angular",
          "angular",
          "angular",
          "react",
          "angular",
          "react",
          "react",
          "react",
          "angular",
          "react",
          "angular",
          "react",
          "react",
          "angular",
          "react",
          "angular",
          "react",
          "angular",
          "vue.js",
          "angular",
          "react",
          "angular",
          "angular",
          "react",
          "react",
          "react",
          "react",
          "angular",
          "react",
          "react",
          "react",
          "react",
          "angular",
          "angular",
          "react",
          "angular",
          "react",
          "react",
          "react",
          "angular",
          "react",
          "vue.js",
          "angular",
          "angular",
          "react",
          "vue.js",
          "react",
          "react",
          "angular",
          "angular",
          "react",
          "react",
          "react",
          "angular",
          "vue.js",
          "react",
          "react",
          "react",
          "angular",
          "angular",
          "vue.js",
          "react",
          "vue.js",
          "react",
          "react",
          "angular",
          "vue.js",
          "angular",
          "angular",
          "angular",
          "react",
          "react",
          "react",
          "react",
          "react",
          "react",
          "react",
          "react",
          "react",
          "react",
          "react",
          "angular",
          "angular",
          "react",
          "vue.js",
          "react",
          "angular",
          "react",
          "angular",
          "react",
          "react",
          "react",
          "react",
          "react",
          "angular",
          "angular",
          "angular",
          "react",
          "vue.js",
          "react",
          "react",
          "vue.js",
          "vue.js",
          "react",
          "angular",
          "react",
          "angular",
          "react",
          "angular",
          "react",
          "angular",
          "react",
          "react",
          "react",
          "angular",
          "react",
          "angular",
          "angular",
          "react",
          "vue.js",
          "angular",
          "react",
          "react",
          "react",
          "angular",
          "angular",
          "react",
          "react",
          "react",
          "react",
          "vue.js",
          "react",
          "react",
          "react",
          "react",
          "angular",
          "react",
          "react",
          "react",
          "angular",
          "react",
          "angular",
          "react",
          "angular",
          "angular",
          "react",
          "angular",
          "angular",
          "react",
          "angular",
          "react",
          "react",
          "react",
          "react",
          "angular",
          "react",
          "vue.js",
          "react",
          "react",
          "react",
          "vue.js",
          "vue.js",
          "react",
          "angular",
          "react",
          "angular",
          "react",
          "react",
          "angular",
          "angular",
          "vue.js",
          "angular",
          "vue.js",
          "react",
          "vue.js",
          "react",
          "react",
          "vue.js",
          "angular",
          "angular",
          "react",
          "react",
          "react",
          "react",
          "react",
          "vue.js",
          "react",
          "vue.js",
          "vue.js",
          "react",
          "react",
          "react",
          "react",
          "react",
          "angular",
          "react",
          "vue.js",
          "react",
          "react",
          "angular",
          "react",
          "react",
          "angular",
          "react",
          "react",
          "angular",
          "angular",
          "angular",
          "react",
          "react",
          "react",
          "angular",
          "angular",
          "react",
          "angular",
          "react",
          "angular",
          "react",
          "angular",
          "react",
          "angular",
          "react",
          "react",
          "angular",
          "react",
          "react",
          "vue.js",
          "angular",
          "react",
          "react",
          "react",
          "react",
          "react",
          "react",
          "angular",
          "angular",
          "angular",
          "react",
          "react",
          "react",
          "react",
          "react",
          "vue.js",
          "angular",
          "react",
          "angular",
          "angular",
          "react",
          "angular",
          "react",
          "react",
          "react",
          "angular",
          "angular",
          "react",
          "angular",
          "react",
          "angular",
          "react",
          "angular",
          "react",
          "react",
          "vue.js",
          "vue.js",
          "angular",
          "angular",
          "angular",
          "angular",
          "react",
          "angular",
          "vue.js",
          "angular",
          "angular",
          "react",
          "react",
          "angular",
          "vue.js",
          "vue.js",
          "react",
          "vue.js",
          "react",
          "react",
          "react",
          "react",
          "react",
          "vue.js",
          "react",
          "react",
          "react",
          "react",
          "react",
          "angular",
          "react",
          "react",
          "react",
          "react",
          "react",
          "vue.js",
          "angular",
          "angular",
          "vue.js",
          "react",
          "react",
          "react",
          "react",
          "react",
          "angular",
          "vue.js",
          "react",
          "angular",
          "angular",
          "react",
          "angular",
          "react",
          "angular",
          "angular",
          "angular",
          "react",
          "vue.js",
          "react",
          "angular",
          "react",
          "react",
          "angular",
          "react",
          "angular",
          "react",
          "angular",
          "angular",
          "angular",
          "react",
          "react",
          "vue.js",
          "angular",
          "react",
          "react",
          "angular",
          "react",
          "angular",
          "angular",
          "angular",
          "angular",
          "angular",
          "react",
          "react",
          "angular",
          "angular",
          "react",
          "angular",
          "react",
          "react",
          "react",
          "angular",
          "react",
          "vue.js",
          "react",
          "react",
          "react",
          "react",
          "react",
          "angular",
          "angular",
          "angular",
          "angular",
          "react",
          "angular",
          "react",
          "angular",
          "vue.js",
          "angular",
          "react",
          "angular",
          "angular",
          "angular",
          "angular",
          "angular",
          "react",
          "angular",
          "react",
          "react",
          "react",
          "react",
          "angular",
          "vue.js",
          "angular",
          "react",
          "angular",
          "react",
          "react",
          "react",
          "angular",
          "angular",
          "react",
          "react"
         ],
         "xaxis": "x",
         "yaxis": "y"
        }
       ],
       "layout": {
        "barmode": "relative",
        "legend": {
         "title": {
          "text": "variable"
         },
         "tracegroupgap": 0
        },
        "template": {
         "data": {
          "bar": [
           {
            "error_x": {
             "color": "#2a3f5f"
            },
            "error_y": {
             "color": "#2a3f5f"
            },
            "marker": {
             "line": {
              "color": "#E5ECF6",
              "width": 0.5
             }
            },
            "type": "bar"
           }
          ],
          "barpolar": [
           {
            "marker": {
             "line": {
              "color": "#E5ECF6",
              "width": 0.5
             }
            },
            "type": "barpolar"
           }
          ],
          "carpet": [
           {
            "aaxis": {
             "endlinecolor": "#2a3f5f",
             "gridcolor": "white",
             "linecolor": "white",
             "minorgridcolor": "white",
             "startlinecolor": "#2a3f5f"
            },
            "baxis": {
             "endlinecolor": "#2a3f5f",
             "gridcolor": "white",
             "linecolor": "white",
             "minorgridcolor": "white",
             "startlinecolor": "#2a3f5f"
            },
            "type": "carpet"
           }
          ],
          "choropleth": [
           {
            "colorbar": {
             "outlinewidth": 0,
             "ticks": ""
            },
            "type": "choropleth"
           }
          ],
          "contour": [
           {
            "colorbar": {
             "outlinewidth": 0,
             "ticks": ""
            },
            "colorscale": [
             [
              0,
              "#0d0887"
             ],
             [
              0.1111111111111111,
              "#46039f"
             ],
             [
              0.2222222222222222,
              "#7201a8"
             ],
             [
              0.3333333333333333,
              "#9c179e"
             ],
             [
              0.4444444444444444,
              "#bd3786"
             ],
             [
              0.5555555555555556,
              "#d8576b"
             ],
             [
              0.6666666666666666,
              "#ed7953"
             ],
             [
              0.7777777777777778,
              "#fb9f3a"
             ],
             [
              0.8888888888888888,
              "#fdca26"
             ],
             [
              1,
              "#f0f921"
             ]
            ],
            "type": "contour"
           }
          ],
          "contourcarpet": [
           {
            "colorbar": {
             "outlinewidth": 0,
             "ticks": ""
            },
            "type": "contourcarpet"
           }
          ],
          "heatmap": [
           {
            "colorbar": {
             "outlinewidth": 0,
             "ticks": ""
            },
            "colorscale": [
             [
              0,
              "#0d0887"
             ],
             [
              0.1111111111111111,
              "#46039f"
             ],
             [
              0.2222222222222222,
              "#7201a8"
             ],
             [
              0.3333333333333333,
              "#9c179e"
             ],
             [
              0.4444444444444444,
              "#bd3786"
             ],
             [
              0.5555555555555556,
              "#d8576b"
             ],
             [
              0.6666666666666666,
              "#ed7953"
             ],
             [
              0.7777777777777778,
              "#fb9f3a"
             ],
             [
              0.8888888888888888,
              "#fdca26"
             ],
             [
              1,
              "#f0f921"
             ]
            ],
            "type": "heatmap"
           }
          ],
          "heatmapgl": [
           {
            "colorbar": {
             "outlinewidth": 0,
             "ticks": ""
            },
            "colorscale": [
             [
              0,
              "#0d0887"
             ],
             [
              0.1111111111111111,
              "#46039f"
             ],
             [
              0.2222222222222222,
              "#7201a8"
             ],
             [
              0.3333333333333333,
              "#9c179e"
             ],
             [
              0.4444444444444444,
              "#bd3786"
             ],
             [
              0.5555555555555556,
              "#d8576b"
             ],
             [
              0.6666666666666666,
              "#ed7953"
             ],
             [
              0.7777777777777778,
              "#fb9f3a"
             ],
             [
              0.8888888888888888,
              "#fdca26"
             ],
             [
              1,
              "#f0f921"
             ]
            ],
            "type": "heatmapgl"
           }
          ],
          "histogram": [
           {
            "marker": {
             "colorbar": {
              "outlinewidth": 0,
              "ticks": ""
             }
            },
            "type": "histogram"
           }
          ],
          "histogram2d": [
           {
            "colorbar": {
             "outlinewidth": 0,
             "ticks": ""
            },
            "colorscale": [
             [
              0,
              "#0d0887"
             ],
             [
              0.1111111111111111,
              "#46039f"
             ],
             [
              0.2222222222222222,
              "#7201a8"
             ],
             [
              0.3333333333333333,
              "#9c179e"
             ],
             [
              0.4444444444444444,
              "#bd3786"
             ],
             [
              0.5555555555555556,
              "#d8576b"
             ],
             [
              0.6666666666666666,
              "#ed7953"
             ],
             [
              0.7777777777777778,
              "#fb9f3a"
             ],
             [
              0.8888888888888888,
              "#fdca26"
             ],
             [
              1,
              "#f0f921"
             ]
            ],
            "type": "histogram2d"
           }
          ],
          "histogram2dcontour": [
           {
            "colorbar": {
             "outlinewidth": 0,
             "ticks": ""
            },
            "colorscale": [
             [
              0,
              "#0d0887"
             ],
             [
              0.1111111111111111,
              "#46039f"
             ],
             [
              0.2222222222222222,
              "#7201a8"
             ],
             [
              0.3333333333333333,
              "#9c179e"
             ],
             [
              0.4444444444444444,
              "#bd3786"
             ],
             [
              0.5555555555555556,
              "#d8576b"
             ],
             [
              0.6666666666666666,
              "#ed7953"
             ],
             [
              0.7777777777777778,
              "#fb9f3a"
             ],
             [
              0.8888888888888888,
              "#fdca26"
             ],
             [
              1,
              "#f0f921"
             ]
            ],
            "type": "histogram2dcontour"
           }
          ],
          "mesh3d": [
           {
            "colorbar": {
             "outlinewidth": 0,
             "ticks": ""
            },
            "type": "mesh3d"
           }
          ],
          "parcoords": [
           {
            "line": {
             "colorbar": {
              "outlinewidth": 0,
              "ticks": ""
             }
            },
            "type": "parcoords"
           }
          ],
          "pie": [
           {
            "automargin": true,
            "type": "pie"
           }
          ],
          "scatter": [
           {
            "marker": {
             "colorbar": {
              "outlinewidth": 0,
              "ticks": ""
             }
            },
            "type": "scatter"
           }
          ],
          "scatter3d": [
           {
            "line": {
             "colorbar": {
              "outlinewidth": 0,
              "ticks": ""
             }
            },
            "marker": {
             "colorbar": {
              "outlinewidth": 0,
              "ticks": ""
             }
            },
            "type": "scatter3d"
           }
          ],
          "scattercarpet": [
           {
            "marker": {
             "colorbar": {
              "outlinewidth": 0,
              "ticks": ""
             }
            },
            "type": "scattercarpet"
           }
          ],
          "scattergeo": [
           {
            "marker": {
             "colorbar": {
              "outlinewidth": 0,
              "ticks": ""
             }
            },
            "type": "scattergeo"
           }
          ],
          "scattergl": [
           {
            "marker": {
             "colorbar": {
              "outlinewidth": 0,
              "ticks": ""
             }
            },
            "type": "scattergl"
           }
          ],
          "scattermapbox": [
           {
            "marker": {
             "colorbar": {
              "outlinewidth": 0,
              "ticks": ""
             }
            },
            "type": "scattermapbox"
           }
          ],
          "scatterpolar": [
           {
            "marker": {
             "colorbar": {
              "outlinewidth": 0,
              "ticks": ""
             }
            },
            "type": "scatterpolar"
           }
          ],
          "scatterpolargl": [
           {
            "marker": {
             "colorbar": {
              "outlinewidth": 0,
              "ticks": ""
             }
            },
            "type": "scatterpolargl"
           }
          ],
          "scatterternary": [
           {
            "marker": {
             "colorbar": {
              "outlinewidth": 0,
              "ticks": ""
             }
            },
            "type": "scatterternary"
           }
          ],
          "surface": [
           {
            "colorbar": {
             "outlinewidth": 0,
             "ticks": ""
            },
            "colorscale": [
             [
              0,
              "#0d0887"
             ],
             [
              0.1111111111111111,
              "#46039f"
             ],
             [
              0.2222222222222222,
              "#7201a8"
             ],
             [
              0.3333333333333333,
              "#9c179e"
             ],
             [
              0.4444444444444444,
              "#bd3786"
             ],
             [
              0.5555555555555556,
              "#d8576b"
             ],
             [
              0.6666666666666666,
              "#ed7953"
             ],
             [
              0.7777777777777778,
              "#fb9f3a"
             ],
             [
              0.8888888888888888,
              "#fdca26"
             ],
             [
              1,
              "#f0f921"
             ]
            ],
            "type": "surface"
           }
          ],
          "table": [
           {
            "cells": {
             "fill": {
              "color": "#EBF0F8"
             },
             "line": {
              "color": "white"
             }
            },
            "header": {
             "fill": {
              "color": "#C8D4E3"
             },
             "line": {
              "color": "white"
             }
            },
            "type": "table"
           }
          ]
         },
         "layout": {
          "annotationdefaults": {
           "arrowcolor": "#2a3f5f",
           "arrowhead": 0,
           "arrowwidth": 1
          },
          "coloraxis": {
           "colorbar": {
            "outlinewidth": 0,
            "ticks": ""
           }
          },
          "colorscale": {
           "diverging": [
            [
             0,
             "#8e0152"
            ],
            [
             0.1,
             "#c51b7d"
            ],
            [
             0.2,
             "#de77ae"
            ],
            [
             0.3,
             "#f1b6da"
            ],
            [
             0.4,
             "#fde0ef"
            ],
            [
             0.5,
             "#f7f7f7"
            ],
            [
             0.6,
             "#e6f5d0"
            ],
            [
             0.7,
             "#b8e186"
            ],
            [
             0.8,
             "#7fbc41"
            ],
            [
             0.9,
             "#4d9221"
            ],
            [
             1,
             "#276419"
            ]
           ],
           "sequential": [
            [
             0,
             "#0d0887"
            ],
            [
             0.1111111111111111,
             "#46039f"
            ],
            [
             0.2222222222222222,
             "#7201a8"
            ],
            [
             0.3333333333333333,
             "#9c179e"
            ],
            [
             0.4444444444444444,
             "#bd3786"
            ],
            [
             0.5555555555555556,
             "#d8576b"
            ],
            [
             0.6666666666666666,
             "#ed7953"
            ],
            [
             0.7777777777777778,
             "#fb9f3a"
            ],
            [
             0.8888888888888888,
             "#fdca26"
            ],
            [
             1,
             "#f0f921"
            ]
           ],
           "sequentialminus": [
            [
             0,
             "#0d0887"
            ],
            [
             0.1111111111111111,
             "#46039f"
            ],
            [
             0.2222222222222222,
             "#7201a8"
            ],
            [
             0.3333333333333333,
             "#9c179e"
            ],
            [
             0.4444444444444444,
             "#bd3786"
            ],
            [
             0.5555555555555556,
             "#d8576b"
            ],
            [
             0.6666666666666666,
             "#ed7953"
            ],
            [
             0.7777777777777778,
             "#fb9f3a"
            ],
            [
             0.8888888888888888,
             "#fdca26"
            ],
            [
             1,
             "#f0f921"
            ]
           ]
          },
          "colorway": [
           "#636efa",
           "#EF553B",
           "#00cc96",
           "#ab63fa",
           "#FFA15A",
           "#19d3f3",
           "#FF6692",
           "#B6E880",
           "#FF97FF",
           "#FECB52"
          ],
          "font": {
           "color": "#2a3f5f"
          },
          "geo": {
           "bgcolor": "white",
           "lakecolor": "white",
           "landcolor": "#E5ECF6",
           "showlakes": true,
           "showland": true,
           "subunitcolor": "white"
          },
          "hoverlabel": {
           "align": "left"
          },
          "hovermode": "closest",
          "mapbox": {
           "style": "light"
          },
          "paper_bgcolor": "white",
          "plot_bgcolor": "#E5ECF6",
          "polar": {
           "angularaxis": {
            "gridcolor": "white",
            "linecolor": "white",
            "ticks": ""
           },
           "bgcolor": "#E5ECF6",
           "radialaxis": {
            "gridcolor": "white",
            "linecolor": "white",
            "ticks": ""
           }
          },
          "scene": {
           "xaxis": {
            "backgroundcolor": "#E5ECF6",
            "gridcolor": "white",
            "gridwidth": 2,
            "linecolor": "white",
            "showbackground": true,
            "ticks": "",
            "zerolinecolor": "white"
           },
           "yaxis": {
            "backgroundcolor": "#E5ECF6",
            "gridcolor": "white",
            "gridwidth": 2,
            "linecolor": "white",
            "showbackground": true,
            "ticks": "",
            "zerolinecolor": "white"
           },
           "zaxis": {
            "backgroundcolor": "#E5ECF6",
            "gridcolor": "white",
            "gridwidth": 2,
            "linecolor": "white",
            "showbackground": true,
            "ticks": "",
            "zerolinecolor": "white"
           }
          },
          "shapedefaults": {
           "line": {
            "color": "#2a3f5f"
           }
          },
          "ternary": {
           "aaxis": {
            "gridcolor": "white",
            "linecolor": "white",
            "ticks": ""
           },
           "baxis": {
            "gridcolor": "white",
            "linecolor": "white",
            "ticks": ""
           },
           "bgcolor": "#E5ECF6",
           "caxis": {
            "gridcolor": "white",
            "linecolor": "white",
            "ticks": ""
           }
          },
          "title": {
           "x": 0.05
          },
          "xaxis": {
           "automargin": true,
           "gridcolor": "white",
           "linecolor": "white",
           "ticks": "",
           "title": {
            "standoff": 15
           },
           "zerolinecolor": "white",
           "zerolinewidth": 2
          },
          "yaxis": {
           "automargin": true,
           "gridcolor": "white",
           "linecolor": "white",
           "ticks": "",
           "title": {
            "standoff": 15
           },
           "zerolinecolor": "white",
           "zerolinewidth": 2
          }
         }
        },
        "title": {
         "text": "JS Framework Interest in 2019 (based on 2k sample)"
        },
        "xaxis": {
         "anchor": "y",
         "domain": [
          0,
          1
         ],
         "title": {
          "text": "value"
         }
        },
        "yaxis": {
         "anchor": "x",
         "domain": [
          0,
          1
         ],
         "title": {
          "text": "count"
         }
        }
       }
      },
      "text/html": [
       "<div>                            <div id=\"c0413e3e-d96d-4db5-9fdd-84718bf0a4e2\" class=\"plotly-graph-div\" style=\"height:525px; width:100%;\"></div>            <script type=\"text/javascript\">                require([\"plotly\"], function(Plotly) {                    window.PLOTLYENV=window.PLOTLYENV || {};                                    if (document.getElementById(\"c0413e3e-d96d-4db5-9fdd-84718bf0a4e2\")) {                    Plotly.newPlot(                        \"c0413e3e-d96d-4db5-9fdd-84718bf0a4e2\",                        [{\"alignmentgroup\": \"True\", \"bingroup\": \"x\", \"hovertemplate\": \"variable=tags<br>value=%{x}<br>count=%{y}<extra></extra>\", \"legendgroup\": \"tags\", \"marker\": {\"color\": \"#636efa\"}, \"name\": \"tags\", \"offsetgroup\": \"tags\", \"orientation\": \"v\", \"showlegend\": true, \"type\": \"histogram\", \"x\": [\"vue.js\", \"react\", \"react\", \"react\", \"react\", \"vue.js\", \"angular\", \"react\", \"angular\", \"angular\", \"angular\", \"react\", \"angular\", \"react\", \"react\", \"react\", \"vue.js\", \"react\", \"angular\", \"react\", \"react\", \"angular\", \"react\", \"react\", \"angular\", \"react\", \"angular\", \"react\", \"vue.js\", \"react\", \"react\", \"vue.js\", \"angular\", \"react\", \"react\", \"angular\", \"angular\", \"react\", \"angular\", \"angular\", \"angular\", \"react\", \"react\", \"react\", \"react\", \"angular\", \"angular\", \"react\", \"react\", \"angular\", \"angular\", \"react\", \"angular\", \"react\", \"react\", \"react\", \"react\", \"react\", \"vue.js\", \"react\", \"vue.js\", \"vue.js\", \"react\", \"react\", \"angular\", \"react\", \"react\", \"react\", \"react\", \"vue.js\", \"react\", \"react\", \"react\", \"angular\", \"angular\", \"angular\", \"react\", \"angular\", \"angular\", \"react\", \"react\", \"react\", \"angular\", \"angular\", \"vue.js\", \"react\", \"react\", \"react\", \"react\", \"angular\", \"react\", \"react\", \"react\", \"react\", \"react\", \"react\", \"react\", \"react\", \"angular\", \"angular\", \"angular\", \"react\", \"angular\", \"angular\", \"react\", \"react\", \"angular\", \"react\", \"react\", \"react\", \"angular\", \"react\", \"angular\", \"angular\", \"angular\", \"angular\", \"react\", \"react\", \"react\", \"react\", \"vue.js\", \"react\", \"vue.js\", \"react\", \"angular\", \"angular\", \"angular\", \"react\", \"react\", \"react\", \"angular\", \"vue.js\", \"angular\", \"react\", \"angular\", \"angular\", \"angular\", \"react\", \"react\", \"react\", \"angular\", \"angular\", \"angular\", \"vue.js\", \"angular\", \"angular\", \"react\", \"angular\", \"react\", \"angular\", \"angular\", \"angular\", \"angular\", \"angular\", \"angular\", \"react\", \"angular\", \"angular\", \"react\", \"vue.js\", \"angular\", \"vue.js\", \"react\", \"angular\", \"angular\", \"angular\", \"angular\", \"angular\", \"angular\", \"vue.js\", \"vue.js\", \"angular\", \"vue.js\", \"angular\", \"react\", \"angular\", \"angular\", \"react\", \"angular\", \"vue.js\", \"angular\", \"angular\", \"angular\", \"angular\", \"react\", \"react\", \"react\", \"angular\", \"angular\", \"react\", \"react\", \"react\", \"vue.js\", \"react\", \"angular\", \"angular\", \"react\", \"angular\", \"angular\", \"angular\", \"angular\", \"react\", \"react\", \"angular\", \"react\", \"react\", \"react\", \"react\", \"angular\", \"angular\", \"angular\", \"angular\", \"vue.js\", \"angular\", \"react\", \"react\", \"vue.js\", \"react\", \"react\", \"react\", \"react\", \"angular\", \"react\", \"react\", \"react\", \"angular\", \"angular\", \"react\", \"react\", \"react\", \"angular\", \"angular\", \"react\", \"react\", \"react\", \"react\", \"angular\", \"angular\", \"react\", \"angular\", \"vue.js\", \"vue.js\", \"react\", \"react\", \"react\", \"angular\", \"angular\", \"react\", \"react\", \"react\", \"angular\", \"vue.js\", \"angular\", \"angular\", \"react\", \"react\", \"react\", \"react\", \"vue.js\", \"angular\", \"angular\", \"angular\", \"react\", \"react\", \"angular\", \"vue.js\", \"angular\", \"react\", \"angular\", \"react\", \"react\", \"angular\", \"react\", \"vue.js\", \"angular\", \"react\", \"angular\", \"react\", \"react\", \"vue.js\", \"vue.js\", \"angular\", \"angular\", \"angular\", \"angular\", \"angular\", \"angular\", \"react\", \"angular\", \"vue.js\", \"react\", \"vue.js\", \"react\", \"vue.js\", \"react\", \"angular\", \"angular\", \"vue.js\", \"angular\", \"react\", \"react\", \"react\", \"angular\", \"vue.js\", \"react\", \"angular\", \"angular\", \"react\", \"react\", \"react\", \"react\", \"vue.js\", \"react\", \"angular\", \"vue.js\", \"angular\", \"vue.js\", \"react\", \"react\", \"vue.js\", \"react\", \"angular\", \"angular\", \"angular\", \"angular\", \"react\", \"angular\", \"react\", \"react\", \"react\", \"angular\", \"react\", \"angular\", \"react\", \"react\", \"angular\", \"react\", \"angular\", \"react\", \"angular\", \"vue.js\", \"angular\", \"react\", \"angular\", \"angular\", \"react\", \"react\", \"react\", \"react\", \"angular\", \"react\", \"react\", \"react\", \"react\", \"angular\", \"angular\", \"react\", \"angular\", \"react\", \"react\", \"react\", \"angular\", \"react\", \"vue.js\", \"angular\", \"angular\", \"react\", \"vue.js\", \"react\", \"react\", \"angular\", \"angular\", \"react\", \"react\", \"react\", \"angular\", \"vue.js\", \"react\", \"react\", \"react\", \"angular\", \"angular\", \"vue.js\", \"react\", \"vue.js\", \"react\", \"react\", \"angular\", \"vue.js\", \"angular\", \"angular\", \"angular\", \"react\", \"react\", \"react\", \"react\", \"react\", \"react\", \"react\", \"react\", \"react\", \"react\", \"react\", \"angular\", \"angular\", \"react\", \"vue.js\", \"react\", \"angular\", \"react\", \"angular\", \"react\", \"react\", \"react\", \"react\", \"react\", \"angular\", \"angular\", \"angular\", \"react\", \"vue.js\", \"react\", \"react\", \"vue.js\", \"vue.js\", \"react\", \"angular\", \"react\", \"angular\", \"react\", \"angular\", \"react\", \"angular\", \"react\", \"react\", \"react\", \"angular\", \"react\", \"angular\", \"angular\", \"react\", \"vue.js\", \"angular\", \"react\", \"react\", \"react\", \"angular\", \"angular\", \"react\", \"react\", \"react\", \"react\", \"vue.js\", \"react\", \"react\", \"react\", \"react\", \"angular\", \"react\", \"react\", \"react\", \"angular\", \"react\", \"angular\", \"react\", \"angular\", \"angular\", \"react\", \"angular\", \"angular\", \"react\", \"angular\", \"react\", \"react\", \"react\", \"react\", \"angular\", \"react\", \"vue.js\", \"react\", \"react\", \"react\", \"vue.js\", \"vue.js\", \"react\", \"angular\", \"react\", \"angular\", \"react\", \"react\", \"angular\", \"angular\", \"vue.js\", \"angular\", \"vue.js\", \"react\", \"vue.js\", \"react\", \"react\", \"vue.js\", \"angular\", \"angular\", \"react\", \"react\", \"react\", \"react\", \"react\", \"vue.js\", \"react\", \"vue.js\", \"vue.js\", \"react\", \"react\", \"react\", \"react\", \"react\", \"angular\", \"react\", \"vue.js\", \"react\", \"react\", \"angular\", \"react\", \"react\", \"angular\", \"react\", \"react\", \"angular\", \"angular\", \"angular\", \"react\", \"react\", \"react\", \"angular\", \"angular\", \"react\", \"angular\", \"react\", \"angular\", \"react\", \"angular\", \"react\", \"angular\", \"react\", \"react\", \"angular\", \"react\", \"react\", \"vue.js\", \"angular\", \"react\", \"react\", \"react\", \"react\", \"react\", \"react\", \"angular\", \"angular\", \"angular\", \"react\", \"react\", \"react\", \"react\", \"react\", \"vue.js\", \"angular\", \"react\", \"angular\", \"angular\", \"react\", \"angular\", \"react\", \"react\", \"react\", \"angular\", \"angular\", \"react\", \"angular\", \"react\", \"angular\", \"react\", \"angular\", \"react\", \"react\", \"vue.js\", \"vue.js\", \"angular\", \"angular\", \"angular\", \"angular\", \"react\", \"angular\", \"vue.js\", \"angular\", \"angular\", \"react\", \"react\", \"angular\", \"vue.js\", \"vue.js\", \"react\", \"vue.js\", \"react\", \"react\", \"react\", \"react\", \"react\", \"vue.js\", \"react\", \"react\", \"react\", \"react\", \"react\", \"angular\", \"react\", \"react\", \"react\", \"react\", \"react\", \"vue.js\", \"angular\", \"angular\", \"vue.js\", \"react\", \"react\", \"react\", \"react\", \"react\", \"angular\", \"vue.js\", \"react\", \"angular\", \"angular\", \"react\", \"angular\", \"react\", \"angular\", \"angular\", \"angular\", \"react\", \"vue.js\", \"react\", \"angular\", \"react\", \"react\", \"angular\", \"react\", \"angular\", \"react\", \"angular\", \"angular\", \"angular\", \"react\", \"react\", \"vue.js\", \"angular\", \"react\", \"react\", \"angular\", \"react\", \"angular\", \"angular\", \"angular\", \"angular\", \"angular\", \"react\", \"react\", \"angular\", \"angular\", \"react\", \"angular\", \"react\", \"react\", \"react\", \"angular\", \"react\", \"vue.js\", \"react\", \"react\", \"react\", \"react\", \"react\", \"angular\", \"angular\", \"angular\", \"angular\", \"react\", \"angular\", \"react\", \"angular\", \"vue.js\", \"angular\", \"react\", \"angular\", \"angular\", \"angular\", \"angular\", \"angular\", \"react\", \"angular\", \"react\", \"react\", \"react\", \"react\", \"angular\", \"vue.js\", \"angular\", \"react\", \"angular\", \"react\", \"react\", \"react\", \"angular\", \"angular\", \"react\", \"react\"], \"xaxis\": \"x\", \"yaxis\": \"y\"}],                        {\"barmode\": \"relative\", \"legend\": {\"title\": {\"text\": \"variable\"}, \"tracegroupgap\": 0}, \"template\": {\"data\": {\"bar\": [{\"error_x\": {\"color\": \"#2a3f5f\"}, \"error_y\": {\"color\": \"#2a3f5f\"}, \"marker\": {\"line\": {\"color\": \"#E5ECF6\", \"width\": 0.5}}, \"type\": \"bar\"}], \"barpolar\": [{\"marker\": {\"line\": {\"color\": \"#E5ECF6\", \"width\": 0.5}}, \"type\": \"barpolar\"}], \"carpet\": [{\"aaxis\": {\"endlinecolor\": \"#2a3f5f\", \"gridcolor\": \"white\", \"linecolor\": \"white\", \"minorgridcolor\": \"white\", \"startlinecolor\": \"#2a3f5f\"}, \"baxis\": {\"endlinecolor\": \"#2a3f5f\", \"gridcolor\": \"white\", \"linecolor\": \"white\", \"minorgridcolor\": \"white\", \"startlinecolor\": \"#2a3f5f\"}, \"type\": \"carpet\"}], \"choropleth\": [{\"colorbar\": {\"outlinewidth\": 0, \"ticks\": \"\"}, \"type\": \"choropleth\"}], \"contour\": [{\"colorbar\": {\"outlinewidth\": 0, \"ticks\": \"\"}, \"colorscale\": [[0.0, \"#0d0887\"], [0.1111111111111111, \"#46039f\"], [0.2222222222222222, \"#7201a8\"], [0.3333333333333333, \"#9c179e\"], [0.4444444444444444, \"#bd3786\"], [0.5555555555555556, \"#d8576b\"], [0.6666666666666666, \"#ed7953\"], [0.7777777777777778, \"#fb9f3a\"], [0.8888888888888888, \"#fdca26\"], [1.0, \"#f0f921\"]], \"type\": \"contour\"}], \"contourcarpet\": [{\"colorbar\": {\"outlinewidth\": 0, \"ticks\": \"\"}, \"type\": \"contourcarpet\"}], \"heatmap\": [{\"colorbar\": {\"outlinewidth\": 0, \"ticks\": \"\"}, \"colorscale\": [[0.0, \"#0d0887\"], [0.1111111111111111, \"#46039f\"], [0.2222222222222222, \"#7201a8\"], [0.3333333333333333, \"#9c179e\"], [0.4444444444444444, \"#bd3786\"], [0.5555555555555556, \"#d8576b\"], [0.6666666666666666, \"#ed7953\"], [0.7777777777777778, \"#fb9f3a\"], [0.8888888888888888, \"#fdca26\"], [1.0, \"#f0f921\"]], \"type\": \"heatmap\"}], \"heatmapgl\": [{\"colorbar\": {\"outlinewidth\": 0, \"ticks\": \"\"}, \"colorscale\": [[0.0, \"#0d0887\"], [0.1111111111111111, \"#46039f\"], [0.2222222222222222, \"#7201a8\"], [0.3333333333333333, \"#9c179e\"], [0.4444444444444444, \"#bd3786\"], [0.5555555555555556, \"#d8576b\"], [0.6666666666666666, \"#ed7953\"], [0.7777777777777778, \"#fb9f3a\"], [0.8888888888888888, \"#fdca26\"], [1.0, \"#f0f921\"]], \"type\": \"heatmapgl\"}], \"histogram\": [{\"marker\": {\"colorbar\": {\"outlinewidth\": 0, \"ticks\": \"\"}}, \"type\": \"histogram\"}], \"histogram2d\": [{\"colorbar\": {\"outlinewidth\": 0, \"ticks\": \"\"}, \"colorscale\": [[0.0, \"#0d0887\"], [0.1111111111111111, \"#46039f\"], [0.2222222222222222, \"#7201a8\"], [0.3333333333333333, \"#9c179e\"], [0.4444444444444444, \"#bd3786\"], [0.5555555555555556, \"#d8576b\"], [0.6666666666666666, \"#ed7953\"], [0.7777777777777778, \"#fb9f3a\"], [0.8888888888888888, \"#fdca26\"], [1.0, \"#f0f921\"]], \"type\": \"histogram2d\"}], \"histogram2dcontour\": [{\"colorbar\": {\"outlinewidth\": 0, \"ticks\": \"\"}, \"colorscale\": [[0.0, \"#0d0887\"], [0.1111111111111111, \"#46039f\"], [0.2222222222222222, \"#7201a8\"], [0.3333333333333333, \"#9c179e\"], [0.4444444444444444, \"#bd3786\"], [0.5555555555555556, \"#d8576b\"], [0.6666666666666666, \"#ed7953\"], [0.7777777777777778, \"#fb9f3a\"], [0.8888888888888888, \"#fdca26\"], [1.0, \"#f0f921\"]], \"type\": \"histogram2dcontour\"}], \"mesh3d\": [{\"colorbar\": {\"outlinewidth\": 0, \"ticks\": \"\"}, \"type\": \"mesh3d\"}], \"parcoords\": [{\"line\": {\"colorbar\": {\"outlinewidth\": 0, \"ticks\": \"\"}}, \"type\": \"parcoords\"}], \"pie\": [{\"automargin\": true, \"type\": \"pie\"}], \"scatter\": [{\"marker\": {\"colorbar\": {\"outlinewidth\": 0, \"ticks\": \"\"}}, \"type\": \"scatter\"}], \"scatter3d\": [{\"line\": {\"colorbar\": {\"outlinewidth\": 0, \"ticks\": \"\"}}, \"marker\": {\"colorbar\": {\"outlinewidth\": 0, \"ticks\": \"\"}}, \"type\": \"scatter3d\"}], \"scattercarpet\": [{\"marker\": {\"colorbar\": {\"outlinewidth\": 0, \"ticks\": \"\"}}, \"type\": \"scattercarpet\"}], \"scattergeo\": [{\"marker\": {\"colorbar\": {\"outlinewidth\": 0, \"ticks\": \"\"}}, \"type\": \"scattergeo\"}], \"scattergl\": [{\"marker\": {\"colorbar\": {\"outlinewidth\": 0, \"ticks\": \"\"}}, \"type\": \"scattergl\"}], \"scattermapbox\": [{\"marker\": {\"colorbar\": {\"outlinewidth\": 0, \"ticks\": \"\"}}, \"type\": \"scattermapbox\"}], \"scatterpolar\": [{\"marker\": {\"colorbar\": {\"outlinewidth\": 0, \"ticks\": \"\"}}, \"type\": \"scatterpolar\"}], \"scatterpolargl\": [{\"marker\": {\"colorbar\": {\"outlinewidth\": 0, \"ticks\": \"\"}}, \"type\": \"scatterpolargl\"}], \"scatterternary\": [{\"marker\": {\"colorbar\": {\"outlinewidth\": 0, \"ticks\": \"\"}}, \"type\": \"scatterternary\"}], \"surface\": [{\"colorbar\": {\"outlinewidth\": 0, \"ticks\": \"\"}, \"colorscale\": [[0.0, \"#0d0887\"], [0.1111111111111111, \"#46039f\"], [0.2222222222222222, \"#7201a8\"], [0.3333333333333333, \"#9c179e\"], [0.4444444444444444, \"#bd3786\"], [0.5555555555555556, \"#d8576b\"], [0.6666666666666666, \"#ed7953\"], [0.7777777777777778, \"#fb9f3a\"], [0.8888888888888888, \"#fdca26\"], [1.0, \"#f0f921\"]], \"type\": \"surface\"}], \"table\": [{\"cells\": {\"fill\": {\"color\": \"#EBF0F8\"}, \"line\": {\"color\": \"white\"}}, \"header\": {\"fill\": {\"color\": \"#C8D4E3\"}, \"line\": {\"color\": \"white\"}}, \"type\": \"table\"}]}, \"layout\": {\"annotationdefaults\": {\"arrowcolor\": \"#2a3f5f\", \"arrowhead\": 0, \"arrowwidth\": 1}, \"coloraxis\": {\"colorbar\": {\"outlinewidth\": 0, \"ticks\": \"\"}}, \"colorscale\": {\"diverging\": [[0, \"#8e0152\"], [0.1, \"#c51b7d\"], [0.2, \"#de77ae\"], [0.3, \"#f1b6da\"], [0.4, \"#fde0ef\"], [0.5, \"#f7f7f7\"], [0.6, \"#e6f5d0\"], [0.7, \"#b8e186\"], [0.8, \"#7fbc41\"], [0.9, \"#4d9221\"], [1, \"#276419\"]], \"sequential\": [[0.0, \"#0d0887\"], [0.1111111111111111, \"#46039f\"], [0.2222222222222222, \"#7201a8\"], [0.3333333333333333, \"#9c179e\"], [0.4444444444444444, \"#bd3786\"], [0.5555555555555556, \"#d8576b\"], [0.6666666666666666, \"#ed7953\"], [0.7777777777777778, \"#fb9f3a\"], [0.8888888888888888, \"#fdca26\"], [1.0, \"#f0f921\"]], \"sequentialminus\": [[0.0, \"#0d0887\"], [0.1111111111111111, \"#46039f\"], [0.2222222222222222, \"#7201a8\"], [0.3333333333333333, \"#9c179e\"], [0.4444444444444444, \"#bd3786\"], [0.5555555555555556, \"#d8576b\"], [0.6666666666666666, \"#ed7953\"], [0.7777777777777778, \"#fb9f3a\"], [0.8888888888888888, \"#fdca26\"], [1.0, \"#f0f921\"]]}, \"colorway\": [\"#636efa\", \"#EF553B\", \"#00cc96\", \"#ab63fa\", \"#FFA15A\", \"#19d3f3\", \"#FF6692\", \"#B6E880\", \"#FF97FF\", \"#FECB52\"], \"font\": {\"color\": \"#2a3f5f\"}, \"geo\": {\"bgcolor\": \"white\", \"lakecolor\": \"white\", \"landcolor\": \"#E5ECF6\", \"showlakes\": true, \"showland\": true, \"subunitcolor\": \"white\"}, \"hoverlabel\": {\"align\": \"left\"}, \"hovermode\": \"closest\", \"mapbox\": {\"style\": \"light\"}, \"paper_bgcolor\": \"white\", \"plot_bgcolor\": \"#E5ECF6\", \"polar\": {\"angularaxis\": {\"gridcolor\": \"white\", \"linecolor\": \"white\", \"ticks\": \"\"}, \"bgcolor\": \"#E5ECF6\", \"radialaxis\": {\"gridcolor\": \"white\", \"linecolor\": \"white\", \"ticks\": \"\"}}, \"scene\": {\"xaxis\": {\"backgroundcolor\": \"#E5ECF6\", \"gridcolor\": \"white\", \"gridwidth\": 2, \"linecolor\": \"white\", \"showbackground\": true, \"ticks\": \"\", \"zerolinecolor\": \"white\"}, \"yaxis\": {\"backgroundcolor\": \"#E5ECF6\", \"gridcolor\": \"white\", \"gridwidth\": 2, \"linecolor\": \"white\", \"showbackground\": true, \"ticks\": \"\", \"zerolinecolor\": \"white\"}, \"zaxis\": {\"backgroundcolor\": \"#E5ECF6\", \"gridcolor\": \"white\", \"gridwidth\": 2, \"linecolor\": \"white\", \"showbackground\": true, \"ticks\": \"\", \"zerolinecolor\": \"white\"}}, \"shapedefaults\": {\"line\": {\"color\": \"#2a3f5f\"}}, \"ternary\": {\"aaxis\": {\"gridcolor\": \"white\", \"linecolor\": \"white\", \"ticks\": \"\"}, \"baxis\": {\"gridcolor\": \"white\", \"linecolor\": \"white\", \"ticks\": \"\"}, \"bgcolor\": \"#E5ECF6\", \"caxis\": {\"gridcolor\": \"white\", \"linecolor\": \"white\", \"ticks\": \"\"}}, \"title\": {\"x\": 0.05}, \"xaxis\": {\"automargin\": true, \"gridcolor\": \"white\", \"linecolor\": \"white\", \"ticks\": \"\", \"title\": {\"standoff\": 15}, \"zerolinecolor\": \"white\", \"zerolinewidth\": 2}, \"yaxis\": {\"automargin\": true, \"gridcolor\": \"white\", \"linecolor\": \"white\", \"ticks\": \"\", \"title\": {\"standoff\": 15}, \"zerolinecolor\": \"white\", \"zerolinewidth\": 2}}}, \"title\": {\"text\": \"JS Framework Interest in 2019 (based on 2k sample)\"}, \"xaxis\": {\"anchor\": \"y\", \"domain\": [0.0, 1.0], \"title\": {\"text\": \"value\"}}, \"yaxis\": {\"anchor\": \"x\", \"domain\": [0.0, 1.0], \"title\": {\"text\": \"count\"}}},                        {\"responsive\": true}                    ).then(function(){\n",
       "                            \n",
       "var gd = document.getElementById('c0413e3e-d96d-4db5-9fdd-84718bf0a4e2');\n",
       "var x = new MutationObserver(function (mutations, observer) {{\n",
       "        var display = window.getComputedStyle(gd).display;\n",
       "        if (!display || display === 'none') {{\n",
       "            console.log([gd, 'removed!']);\n",
       "            Plotly.purge(gd);\n",
       "            observer.disconnect();\n",
       "        }}\n",
       "}});\n",
       "\n",
       "// Listen for the removal of the full notebook cells\n",
       "var notebookContainer = gd.closest('#notebook-container');\n",
       "if (notebookContainer) {{\n",
       "    x.observe(notebookContainer, {childList: true});\n",
       "}}\n",
       "\n",
       "// Listen for the clearing of the current output cell\n",
       "var outputEl = gd.closest('.output');\n",
       "if (outputEl) {{\n",
       "    x.observe(outputEl, {childList: true});\n",
       "}}\n",
       "\n",
       "                        })                };                });            </script>        </div>"
      ]
     },
     "metadata": {},
     "output_type": "display_data"
    },
    {
     "data": {
      "application/vnd.plotly.v1+json": {
       "config": {
        "plotlyServerURL": "https://plot.ly"
       },
       "data": [
        {
         "alignmentgroup": "True",
         "bingroup": "x",
         "hovertemplate": "variable=tags<br>value=%{x}<br>count=%{y}<extra></extra>",
         "legendgroup": "tags",
         "marker": {
          "color": "#636efa"
         },
         "name": "tags",
         "offsetgroup": "tags",
         "orientation": "v",
         "showlegend": true,
         "type": "histogram",
         "x": [
          "angular",
          "react",
          "angular",
          "angular",
          "react",
          "vue.js",
          "angular",
          "angular",
          "react",
          "react",
          "react",
          "angular",
          "angular",
          "angular",
          "angular",
          "angular",
          "react",
          "react",
          "angular",
          "angular",
          "angular",
          "angular",
          "angular",
          "angular",
          "angular",
          "react",
          "vue.js",
          "react",
          "angular",
          "react",
          "angular",
          "angular",
          "angular",
          "react",
          "react",
          "angular",
          "angular",
          "angular",
          "angular",
          "react",
          "react",
          "angular",
          "angular",
          "angular",
          "angular",
          "angular",
          "angular",
          "angular",
          "angular",
          "react",
          "vue.js",
          "vue.js",
          "react",
          "react",
          "vue.js",
          "react",
          "angular",
          "vue.js",
          "angular",
          "angular",
          "angular",
          "angular",
          "angular",
          "angular",
          "vue.js",
          "angular",
          "vue.js",
          "react",
          "vue.js",
          "react",
          "angular",
          "angular",
          "angular",
          "react",
          "angular",
          "react",
          "vue.js",
          "react",
          "angular",
          "react",
          "react",
          "angular",
          "react",
          "vue.js",
          "angular",
          "angular",
          "angular",
          "angular",
          "angular",
          "angular",
          "angular",
          "react",
          "angular",
          "angular",
          "angular",
          "react",
          "react",
          "angular",
          "react",
          "vue.js",
          "react",
          "react",
          "react",
          "angular",
          "angular",
          "react",
          "vue.js",
          "angular",
          "react",
          "angular",
          "angular",
          "react",
          "react",
          "react",
          "react",
          "react",
          "angular",
          "react",
          "angular",
          "angular",
          "react",
          "react",
          "react",
          "react",
          "react",
          "vue.js",
          "angular",
          "angular",
          "angular",
          "vue.js",
          "angular",
          "react",
          "vue.js",
          "react",
          "angular",
          "angular",
          "react",
          "angular",
          "react",
          "react",
          "angular",
          "react",
          "angular",
          "angular",
          "angular",
          "react",
          "angular",
          "angular",
          "angular",
          "vue.js",
          "angular",
          "react",
          "react",
          "react",
          "react",
          "react",
          "angular",
          "angular",
          "angular",
          "react",
          "angular",
          "angular",
          "react",
          "react",
          "angular",
          "angular",
          "angular",
          "angular",
          "angular",
          "angular",
          "react",
          "angular",
          "angular",
          "react",
          "angular",
          "angular",
          "angular",
          "angular",
          "angular",
          "react",
          "angular",
          "react",
          "angular",
          "react",
          "react",
          "angular",
          "angular",
          "react",
          "angular",
          "angular",
          "react",
          "angular",
          "angular",
          "angular",
          "react",
          "angular",
          "vue.js",
          "react",
          "angular",
          "react",
          "angular",
          "react",
          "vue.js",
          "angular",
          "vue.js",
          "react",
          "vue.js",
          "react",
          "react",
          "angular",
          "angular",
          "react",
          "angular",
          "angular",
          "react",
          "react",
          "react",
          "react",
          "angular",
          "angular",
          "angular",
          "react",
          "angular",
          "react",
          "react",
          "react",
          "react",
          "react",
          "react",
          "angular",
          "react",
          "react",
          "angular",
          "angular",
          "angular",
          "react",
          "angular",
          "react",
          "react",
          "react",
          "react",
          "react",
          "angular",
          "react",
          "react",
          "vue.js",
          "angular",
          "angular",
          "angular",
          "react",
          "vue.js",
          "react",
          "vue.js",
          "angular",
          "react",
          "angular",
          "angular",
          "vue.js",
          "react",
          "angular",
          "vue.js",
          "react",
          "react",
          "angular",
          "angular",
          "vue.js",
          "angular",
          "react",
          "react",
          "vue.js",
          "vue.js",
          "react",
          "angular",
          "react",
          "react",
          "react",
          "react",
          "angular",
          "angular",
          "angular",
          "vue.js",
          "angular",
          "angular",
          "angular",
          "angular",
          "react",
          "angular",
          "react",
          "react",
          "angular",
          "react",
          "angular",
          "angular",
          "angular",
          "angular",
          "react",
          "angular",
          "react",
          "vue.js",
          "angular",
          "angular",
          "angular",
          "react",
          "react",
          "angular",
          "angular",
          "angular",
          "react",
          "react",
          "react",
          "angular",
          "angular",
          "react",
          "react",
          "react",
          "react",
          "angular",
          "angular",
          "react",
          "angular",
          "angular",
          "react",
          "angular",
          "angular",
          "angular",
          "react",
          "angular",
          "angular",
          "react",
          "vue.js",
          "angular",
          "react",
          "angular",
          "vue.js",
          "react",
          "react",
          "react",
          "vue.js",
          "angular",
          "react",
          "angular",
          "angular",
          "react",
          "react",
          "angular",
          "react",
          "vue.js",
          "react",
          "react",
          "angular",
          "angular",
          "react",
          "react",
          "react",
          "angular",
          "react",
          "angular",
          "react",
          "angular",
          "vue.js",
          "angular",
          "angular",
          "vue.js",
          "react",
          "angular",
          "react",
          "angular",
          "angular",
          "angular",
          "react",
          "angular",
          "react",
          "react",
          "react",
          "react",
          "angular",
          "angular",
          "angular",
          "angular",
          "angular",
          "angular",
          "angular",
          "vue.js",
          "react",
          "angular",
          "vue.js",
          "react",
          "react",
          "react",
          "react",
          "angular",
          "react",
          "angular",
          "react",
          "angular",
          "angular",
          "angular",
          "vue.js",
          "vue.js",
          "react",
          "angular",
          "react",
          "angular",
          "react",
          "angular",
          "angular",
          "react",
          "angular",
          "react",
          "react",
          "angular",
          "angular",
          "vue.js",
          "angular",
          "angular",
          "angular",
          "angular",
          "react",
          "vue.js",
          "react",
          "angular",
          "vue.js",
          "angular",
          "vue.js",
          "react",
          "angular",
          "react",
          "angular",
          "vue.js",
          "react",
          "react",
          "react",
          "angular",
          "angular",
          "angular",
          "react",
          "react",
          "angular",
          "react",
          "angular",
          "react",
          "angular",
          "react",
          "react",
          "angular",
          "react",
          "angular",
          "angular",
          "angular",
          "angular",
          "vue.js",
          "angular",
          "angular",
          "angular",
          "angular",
          "angular",
          "angular",
          "react",
          "angular",
          "react",
          "angular",
          "angular",
          "react",
          "vue.js",
          "angular",
          "angular",
          "angular",
          "vue.js",
          "angular",
          "angular",
          "react",
          "vue.js",
          "angular",
          "vue.js",
          "angular",
          "react",
          "angular",
          "angular",
          "react",
          "angular",
          "react",
          "react",
          "angular",
          "angular",
          "react",
          "react",
          "react",
          "angular",
          "angular",
          "angular",
          "angular",
          "vue.js",
          "angular",
          "vue.js",
          "react",
          "react",
          "react",
          "angular",
          "angular",
          "angular",
          "react",
          "react",
          "react",
          "vue.js",
          "react",
          "react",
          "angular",
          "angular",
          "angular",
          "react",
          "angular",
          "react",
          "angular",
          "angular",
          "react",
          "angular",
          "angular",
          "vue.js",
          "react",
          "react",
          "angular",
          "react",
          "react",
          "angular",
          "angular",
          "angular",
          "vue.js",
          "react",
          "angular",
          "react",
          "vue.js",
          "react",
          "angular",
          "react",
          "angular",
          "angular",
          "angular",
          "vue.js",
          "react",
          "angular",
          "angular",
          "angular",
          "angular",
          "react",
          "angular",
          "angular",
          "react",
          "react",
          "angular",
          "react",
          "vue.js",
          "react",
          "angular",
          "vue.js",
          "angular",
          "angular",
          "react",
          "angular",
          "react",
          "angular",
          "react",
          "react",
          "angular",
          "angular",
          "react",
          "vue.js",
          "angular",
          "react",
          "react",
          "vue.js",
          "react",
          "vue.js",
          "angular",
          "react",
          "react",
          "angular",
          "vue.js",
          "angular",
          "angular",
          "vue.js",
          "angular",
          "react",
          "angular",
          "react",
          "react",
          "angular",
          "react",
          "angular",
          "vue.js",
          "angular",
          "angular",
          "react",
          "angular",
          "angular",
          "angular",
          "react",
          "react",
          "react",
          "angular",
          "angular",
          "angular",
          "react",
          "react",
          "angular",
          "angular",
          "react",
          "angular",
          "angular",
          "angular",
          "react",
          "angular",
          "react",
          "react",
          "react",
          "angular",
          "react",
          "react",
          "react",
          "react",
          "angular",
          "react",
          "angular",
          "angular",
          "vue.js",
          "react",
          "angular",
          "react",
          "angular",
          "angular",
          "react",
          "react",
          "angular",
          "angular",
          "angular",
          "react",
          "vue.js",
          "angular",
          "react",
          "react",
          "angular",
          "angular",
          "vue.js"
         ],
         "xaxis": "x",
         "yaxis": "y"
        }
       ],
       "layout": {
        "barmode": "relative",
        "legend": {
         "title": {
          "text": "variable"
         },
         "tracegroupgap": 0
        },
        "template": {
         "data": {
          "bar": [
           {
            "error_x": {
             "color": "#2a3f5f"
            },
            "error_y": {
             "color": "#2a3f5f"
            },
            "marker": {
             "line": {
              "color": "#E5ECF6",
              "width": 0.5
             }
            },
            "type": "bar"
           }
          ],
          "barpolar": [
           {
            "marker": {
             "line": {
              "color": "#E5ECF6",
              "width": 0.5
             }
            },
            "type": "barpolar"
           }
          ],
          "carpet": [
           {
            "aaxis": {
             "endlinecolor": "#2a3f5f",
             "gridcolor": "white",
             "linecolor": "white",
             "minorgridcolor": "white",
             "startlinecolor": "#2a3f5f"
            },
            "baxis": {
             "endlinecolor": "#2a3f5f",
             "gridcolor": "white",
             "linecolor": "white",
             "minorgridcolor": "white",
             "startlinecolor": "#2a3f5f"
            },
            "type": "carpet"
           }
          ],
          "choropleth": [
           {
            "colorbar": {
             "outlinewidth": 0,
             "ticks": ""
            },
            "type": "choropleth"
           }
          ],
          "contour": [
           {
            "colorbar": {
             "outlinewidth": 0,
             "ticks": ""
            },
            "colorscale": [
             [
              0,
              "#0d0887"
             ],
             [
              0.1111111111111111,
              "#46039f"
             ],
             [
              0.2222222222222222,
              "#7201a8"
             ],
             [
              0.3333333333333333,
              "#9c179e"
             ],
             [
              0.4444444444444444,
              "#bd3786"
             ],
             [
              0.5555555555555556,
              "#d8576b"
             ],
             [
              0.6666666666666666,
              "#ed7953"
             ],
             [
              0.7777777777777778,
              "#fb9f3a"
             ],
             [
              0.8888888888888888,
              "#fdca26"
             ],
             [
              1,
              "#f0f921"
             ]
            ],
            "type": "contour"
           }
          ],
          "contourcarpet": [
           {
            "colorbar": {
             "outlinewidth": 0,
             "ticks": ""
            },
            "type": "contourcarpet"
           }
          ],
          "heatmap": [
           {
            "colorbar": {
             "outlinewidth": 0,
             "ticks": ""
            },
            "colorscale": [
             [
              0,
              "#0d0887"
             ],
             [
              0.1111111111111111,
              "#46039f"
             ],
             [
              0.2222222222222222,
              "#7201a8"
             ],
             [
              0.3333333333333333,
              "#9c179e"
             ],
             [
              0.4444444444444444,
              "#bd3786"
             ],
             [
              0.5555555555555556,
              "#d8576b"
             ],
             [
              0.6666666666666666,
              "#ed7953"
             ],
             [
              0.7777777777777778,
              "#fb9f3a"
             ],
             [
              0.8888888888888888,
              "#fdca26"
             ],
             [
              1,
              "#f0f921"
             ]
            ],
            "type": "heatmap"
           }
          ],
          "heatmapgl": [
           {
            "colorbar": {
             "outlinewidth": 0,
             "ticks": ""
            },
            "colorscale": [
             [
              0,
              "#0d0887"
             ],
             [
              0.1111111111111111,
              "#46039f"
             ],
             [
              0.2222222222222222,
              "#7201a8"
             ],
             [
              0.3333333333333333,
              "#9c179e"
             ],
             [
              0.4444444444444444,
              "#bd3786"
             ],
             [
              0.5555555555555556,
              "#d8576b"
             ],
             [
              0.6666666666666666,
              "#ed7953"
             ],
             [
              0.7777777777777778,
              "#fb9f3a"
             ],
             [
              0.8888888888888888,
              "#fdca26"
             ],
             [
              1,
              "#f0f921"
             ]
            ],
            "type": "heatmapgl"
           }
          ],
          "histogram": [
           {
            "marker": {
             "colorbar": {
              "outlinewidth": 0,
              "ticks": ""
             }
            },
            "type": "histogram"
           }
          ],
          "histogram2d": [
           {
            "colorbar": {
             "outlinewidth": 0,
             "ticks": ""
            },
            "colorscale": [
             [
              0,
              "#0d0887"
             ],
             [
              0.1111111111111111,
              "#46039f"
             ],
             [
              0.2222222222222222,
              "#7201a8"
             ],
             [
              0.3333333333333333,
              "#9c179e"
             ],
             [
              0.4444444444444444,
              "#bd3786"
             ],
             [
              0.5555555555555556,
              "#d8576b"
             ],
             [
              0.6666666666666666,
              "#ed7953"
             ],
             [
              0.7777777777777778,
              "#fb9f3a"
             ],
             [
              0.8888888888888888,
              "#fdca26"
             ],
             [
              1,
              "#f0f921"
             ]
            ],
            "type": "histogram2d"
           }
          ],
          "histogram2dcontour": [
           {
            "colorbar": {
             "outlinewidth": 0,
             "ticks": ""
            },
            "colorscale": [
             [
              0,
              "#0d0887"
             ],
             [
              0.1111111111111111,
              "#46039f"
             ],
             [
              0.2222222222222222,
              "#7201a8"
             ],
             [
              0.3333333333333333,
              "#9c179e"
             ],
             [
              0.4444444444444444,
              "#bd3786"
             ],
             [
              0.5555555555555556,
              "#d8576b"
             ],
             [
              0.6666666666666666,
              "#ed7953"
             ],
             [
              0.7777777777777778,
              "#fb9f3a"
             ],
             [
              0.8888888888888888,
              "#fdca26"
             ],
             [
              1,
              "#f0f921"
             ]
            ],
            "type": "histogram2dcontour"
           }
          ],
          "mesh3d": [
           {
            "colorbar": {
             "outlinewidth": 0,
             "ticks": ""
            },
            "type": "mesh3d"
           }
          ],
          "parcoords": [
           {
            "line": {
             "colorbar": {
              "outlinewidth": 0,
              "ticks": ""
             }
            },
            "type": "parcoords"
           }
          ],
          "pie": [
           {
            "automargin": true,
            "type": "pie"
           }
          ],
          "scatter": [
           {
            "marker": {
             "colorbar": {
              "outlinewidth": 0,
              "ticks": ""
             }
            },
            "type": "scatter"
           }
          ],
          "scatter3d": [
           {
            "line": {
             "colorbar": {
              "outlinewidth": 0,
              "ticks": ""
             }
            },
            "marker": {
             "colorbar": {
              "outlinewidth": 0,
              "ticks": ""
             }
            },
            "type": "scatter3d"
           }
          ],
          "scattercarpet": [
           {
            "marker": {
             "colorbar": {
              "outlinewidth": 0,
              "ticks": ""
             }
            },
            "type": "scattercarpet"
           }
          ],
          "scattergeo": [
           {
            "marker": {
             "colorbar": {
              "outlinewidth": 0,
              "ticks": ""
             }
            },
            "type": "scattergeo"
           }
          ],
          "scattergl": [
           {
            "marker": {
             "colorbar": {
              "outlinewidth": 0,
              "ticks": ""
             }
            },
            "type": "scattergl"
           }
          ],
          "scattermapbox": [
           {
            "marker": {
             "colorbar": {
              "outlinewidth": 0,
              "ticks": ""
             }
            },
            "type": "scattermapbox"
           }
          ],
          "scatterpolar": [
           {
            "marker": {
             "colorbar": {
              "outlinewidth": 0,
              "ticks": ""
             }
            },
            "type": "scatterpolar"
           }
          ],
          "scatterpolargl": [
           {
            "marker": {
             "colorbar": {
              "outlinewidth": 0,
              "ticks": ""
             }
            },
            "type": "scatterpolargl"
           }
          ],
          "scatterternary": [
           {
            "marker": {
             "colorbar": {
              "outlinewidth": 0,
              "ticks": ""
             }
            },
            "type": "scatterternary"
           }
          ],
          "surface": [
           {
            "colorbar": {
             "outlinewidth": 0,
             "ticks": ""
            },
            "colorscale": [
             [
              0,
              "#0d0887"
             ],
             [
              0.1111111111111111,
              "#46039f"
             ],
             [
              0.2222222222222222,
              "#7201a8"
             ],
             [
              0.3333333333333333,
              "#9c179e"
             ],
             [
              0.4444444444444444,
              "#bd3786"
             ],
             [
              0.5555555555555556,
              "#d8576b"
             ],
             [
              0.6666666666666666,
              "#ed7953"
             ],
             [
              0.7777777777777778,
              "#fb9f3a"
             ],
             [
              0.8888888888888888,
              "#fdca26"
             ],
             [
              1,
              "#f0f921"
             ]
            ],
            "type": "surface"
           }
          ],
          "table": [
           {
            "cells": {
             "fill": {
              "color": "#EBF0F8"
             },
             "line": {
              "color": "white"
             }
            },
            "header": {
             "fill": {
              "color": "#C8D4E3"
             },
             "line": {
              "color": "white"
             }
            },
            "type": "table"
           }
          ]
         },
         "layout": {
          "annotationdefaults": {
           "arrowcolor": "#2a3f5f",
           "arrowhead": 0,
           "arrowwidth": 1
          },
          "coloraxis": {
           "colorbar": {
            "outlinewidth": 0,
            "ticks": ""
           }
          },
          "colorscale": {
           "diverging": [
            [
             0,
             "#8e0152"
            ],
            [
             0.1,
             "#c51b7d"
            ],
            [
             0.2,
             "#de77ae"
            ],
            [
             0.3,
             "#f1b6da"
            ],
            [
             0.4,
             "#fde0ef"
            ],
            [
             0.5,
             "#f7f7f7"
            ],
            [
             0.6,
             "#e6f5d0"
            ],
            [
             0.7,
             "#b8e186"
            ],
            [
             0.8,
             "#7fbc41"
            ],
            [
             0.9,
             "#4d9221"
            ],
            [
             1,
             "#276419"
            ]
           ],
           "sequential": [
            [
             0,
             "#0d0887"
            ],
            [
             0.1111111111111111,
             "#46039f"
            ],
            [
             0.2222222222222222,
             "#7201a8"
            ],
            [
             0.3333333333333333,
             "#9c179e"
            ],
            [
             0.4444444444444444,
             "#bd3786"
            ],
            [
             0.5555555555555556,
             "#d8576b"
            ],
            [
             0.6666666666666666,
             "#ed7953"
            ],
            [
             0.7777777777777778,
             "#fb9f3a"
            ],
            [
             0.8888888888888888,
             "#fdca26"
            ],
            [
             1,
             "#f0f921"
            ]
           ],
           "sequentialminus": [
            [
             0,
             "#0d0887"
            ],
            [
             0.1111111111111111,
             "#46039f"
            ],
            [
             0.2222222222222222,
             "#7201a8"
            ],
            [
             0.3333333333333333,
             "#9c179e"
            ],
            [
             0.4444444444444444,
             "#bd3786"
            ],
            [
             0.5555555555555556,
             "#d8576b"
            ],
            [
             0.6666666666666666,
             "#ed7953"
            ],
            [
             0.7777777777777778,
             "#fb9f3a"
            ],
            [
             0.8888888888888888,
             "#fdca26"
            ],
            [
             1,
             "#f0f921"
            ]
           ]
          },
          "colorway": [
           "#636efa",
           "#EF553B",
           "#00cc96",
           "#ab63fa",
           "#FFA15A",
           "#19d3f3",
           "#FF6692",
           "#B6E880",
           "#FF97FF",
           "#FECB52"
          ],
          "font": {
           "color": "#2a3f5f"
          },
          "geo": {
           "bgcolor": "white",
           "lakecolor": "white",
           "landcolor": "#E5ECF6",
           "showlakes": true,
           "showland": true,
           "subunitcolor": "white"
          },
          "hoverlabel": {
           "align": "left"
          },
          "hovermode": "closest",
          "mapbox": {
           "style": "light"
          },
          "paper_bgcolor": "white",
          "plot_bgcolor": "#E5ECF6",
          "polar": {
           "angularaxis": {
            "gridcolor": "white",
            "linecolor": "white",
            "ticks": ""
           },
           "bgcolor": "#E5ECF6",
           "radialaxis": {
            "gridcolor": "white",
            "linecolor": "white",
            "ticks": ""
           }
          },
          "scene": {
           "xaxis": {
            "backgroundcolor": "#E5ECF6",
            "gridcolor": "white",
            "gridwidth": 2,
            "linecolor": "white",
            "showbackground": true,
            "ticks": "",
            "zerolinecolor": "white"
           },
           "yaxis": {
            "backgroundcolor": "#E5ECF6",
            "gridcolor": "white",
            "gridwidth": 2,
            "linecolor": "white",
            "showbackground": true,
            "ticks": "",
            "zerolinecolor": "white"
           },
           "zaxis": {
            "backgroundcolor": "#E5ECF6",
            "gridcolor": "white",
            "gridwidth": 2,
            "linecolor": "white",
            "showbackground": true,
            "ticks": "",
            "zerolinecolor": "white"
           }
          },
          "shapedefaults": {
           "line": {
            "color": "#2a3f5f"
           }
          },
          "ternary": {
           "aaxis": {
            "gridcolor": "white",
            "linecolor": "white",
            "ticks": ""
           },
           "baxis": {
            "gridcolor": "white",
            "linecolor": "white",
            "ticks": ""
           },
           "bgcolor": "#E5ECF6",
           "caxis": {
            "gridcolor": "white",
            "linecolor": "white",
            "ticks": ""
           }
          },
          "title": {
           "x": 0.05
          },
          "xaxis": {
           "automargin": true,
           "gridcolor": "white",
           "linecolor": "white",
           "ticks": "",
           "title": {
            "standoff": 15
           },
           "zerolinecolor": "white",
           "zerolinewidth": 2
          },
          "yaxis": {
           "automargin": true,
           "gridcolor": "white",
           "linecolor": "white",
           "ticks": "",
           "title": {
            "standoff": 15
           },
           "zerolinecolor": "white",
           "zerolinewidth": 2
          }
         }
        },
        "title": {
         "text": "JS Framework Interest in 2018 (based on 2k sample)"
        },
        "xaxis": {
         "anchor": "y",
         "domain": [
          0,
          1
         ],
         "title": {
          "text": "value"
         }
        },
        "yaxis": {
         "anchor": "x",
         "domain": [
          0,
          1
         ],
         "title": {
          "text": "count"
         }
        }
       }
      },
      "text/html": [
       "<div>                            <div id=\"cd42f434-47c4-401b-9155-de7a3b16a141\" class=\"plotly-graph-div\" style=\"height:525px; width:100%;\"></div>            <script type=\"text/javascript\">                require([\"plotly\"], function(Plotly) {                    window.PLOTLYENV=window.PLOTLYENV || {};                                    if (document.getElementById(\"cd42f434-47c4-401b-9155-de7a3b16a141\")) {                    Plotly.newPlot(                        \"cd42f434-47c4-401b-9155-de7a3b16a141\",                        [{\"alignmentgroup\": \"True\", \"bingroup\": \"x\", \"hovertemplate\": \"variable=tags<br>value=%{x}<br>count=%{y}<extra></extra>\", \"legendgroup\": \"tags\", \"marker\": {\"color\": \"#636efa\"}, \"name\": \"tags\", \"offsetgroup\": \"tags\", \"orientation\": \"v\", \"showlegend\": true, \"type\": \"histogram\", \"x\": [\"angular\", \"react\", \"angular\", \"angular\", \"react\", \"vue.js\", \"angular\", \"angular\", \"react\", \"react\", \"react\", \"angular\", \"angular\", \"angular\", \"angular\", \"angular\", \"react\", \"react\", \"angular\", \"angular\", \"angular\", \"angular\", \"angular\", \"angular\", \"angular\", \"react\", \"vue.js\", \"react\", \"angular\", \"react\", \"angular\", \"angular\", \"angular\", \"react\", \"react\", \"angular\", \"angular\", \"angular\", \"angular\", \"react\", \"react\", \"angular\", \"angular\", \"angular\", \"angular\", \"angular\", \"angular\", \"angular\", \"angular\", \"react\", \"vue.js\", \"vue.js\", \"react\", \"react\", \"vue.js\", \"react\", \"angular\", \"vue.js\", \"angular\", \"angular\", \"angular\", \"angular\", \"angular\", \"angular\", \"vue.js\", \"angular\", \"vue.js\", \"react\", \"vue.js\", \"react\", \"angular\", \"angular\", \"angular\", \"react\", \"angular\", \"react\", \"vue.js\", \"react\", \"angular\", \"react\", \"react\", \"angular\", \"react\", \"vue.js\", \"angular\", \"angular\", \"angular\", \"angular\", \"angular\", \"angular\", \"angular\", \"react\", \"angular\", \"angular\", \"angular\", \"react\", \"react\", \"angular\", \"react\", \"vue.js\", \"react\", \"react\", \"react\", \"angular\", \"angular\", \"react\", \"vue.js\", \"angular\", \"react\", \"angular\", \"angular\", \"react\", \"react\", \"react\", \"react\", \"react\", \"angular\", \"react\", \"angular\", \"angular\", \"react\", \"react\", \"react\", \"react\", \"react\", \"vue.js\", \"angular\", \"angular\", \"angular\", \"vue.js\", \"angular\", \"react\", \"vue.js\", \"react\", \"angular\", \"angular\", \"react\", \"angular\", \"react\", \"react\", \"angular\", \"react\", \"angular\", \"angular\", \"angular\", \"react\", \"angular\", \"angular\", \"angular\", \"vue.js\", \"angular\", \"react\", \"react\", \"react\", \"react\", \"react\", \"angular\", \"angular\", \"angular\", \"react\", \"angular\", \"angular\", \"react\", \"react\", \"angular\", \"angular\", \"angular\", \"angular\", \"angular\", \"angular\", \"react\", \"angular\", \"angular\", \"react\", \"angular\", \"angular\", \"angular\", \"angular\", \"angular\", \"react\", \"angular\", \"react\", \"angular\", \"react\", \"react\", \"angular\", \"angular\", \"react\", \"angular\", \"angular\", \"react\", \"angular\", \"angular\", \"angular\", \"react\", \"angular\", \"vue.js\", \"react\", \"angular\", \"react\", \"angular\", \"react\", \"vue.js\", \"angular\", \"vue.js\", \"react\", \"vue.js\", \"react\", \"react\", \"angular\", \"angular\", \"react\", \"angular\", \"angular\", \"react\", \"react\", \"react\", \"react\", \"angular\", \"angular\", \"angular\", \"react\", \"angular\", \"react\", \"react\", \"react\", \"react\", \"react\", \"react\", \"angular\", \"react\", \"react\", \"angular\", \"angular\", \"angular\", \"react\", \"angular\", \"react\", \"react\", \"react\", \"react\", \"react\", \"angular\", \"react\", \"react\", \"vue.js\", \"angular\", \"angular\", \"angular\", \"react\", \"vue.js\", \"react\", \"vue.js\", \"angular\", \"react\", \"angular\", \"angular\", \"vue.js\", \"react\", \"angular\", \"vue.js\", \"react\", \"react\", \"angular\", \"angular\", \"vue.js\", \"angular\", \"react\", \"react\", \"vue.js\", \"vue.js\", \"react\", \"angular\", \"react\", \"react\", \"react\", \"react\", \"angular\", \"angular\", \"angular\", \"vue.js\", \"angular\", \"angular\", \"angular\", \"angular\", \"react\", \"angular\", \"react\", \"react\", \"angular\", \"react\", \"angular\", \"angular\", \"angular\", \"angular\", \"react\", \"angular\", \"react\", \"vue.js\", \"angular\", \"angular\", \"angular\", \"react\", \"react\", \"angular\", \"angular\", \"angular\", \"react\", \"react\", \"react\", \"angular\", \"angular\", \"react\", \"react\", \"react\", \"react\", \"angular\", \"angular\", \"react\", \"angular\", \"angular\", \"react\", \"angular\", \"angular\", \"angular\", \"react\", \"angular\", \"angular\", \"react\", \"vue.js\", \"angular\", \"react\", \"angular\", \"vue.js\", \"react\", \"react\", \"react\", \"vue.js\", \"angular\", \"react\", \"angular\", \"angular\", \"react\", \"react\", \"angular\", \"react\", \"vue.js\", \"react\", \"react\", \"angular\", \"angular\", \"react\", \"react\", \"react\", \"angular\", \"react\", \"angular\", \"react\", \"angular\", \"vue.js\", \"angular\", \"angular\", \"vue.js\", \"react\", \"angular\", \"react\", \"angular\", \"angular\", \"angular\", \"react\", \"angular\", \"react\", \"react\", \"react\", \"react\", \"angular\", \"angular\", \"angular\", \"angular\", \"angular\", \"angular\", \"angular\", \"vue.js\", \"react\", \"angular\", \"vue.js\", \"react\", \"react\", \"react\", \"react\", \"angular\", \"react\", \"angular\", \"react\", \"angular\", \"angular\", \"angular\", \"vue.js\", \"vue.js\", \"react\", \"angular\", \"react\", \"angular\", \"react\", \"angular\", \"angular\", \"react\", \"angular\", \"react\", \"react\", \"angular\", \"angular\", \"vue.js\", \"angular\", \"angular\", \"angular\", \"angular\", \"react\", \"vue.js\", \"react\", \"angular\", \"vue.js\", \"angular\", \"vue.js\", \"react\", \"angular\", \"react\", \"angular\", \"vue.js\", \"react\", \"react\", \"react\", \"angular\", \"angular\", \"angular\", \"react\", \"react\", \"angular\", \"react\", \"angular\", \"react\", \"angular\", \"react\", \"react\", \"angular\", \"react\", \"angular\", \"angular\", \"angular\", \"angular\", \"vue.js\", \"angular\", \"angular\", \"angular\", \"angular\", \"angular\", \"angular\", \"react\", \"angular\", \"react\", \"angular\", \"angular\", \"react\", \"vue.js\", \"angular\", \"angular\", \"angular\", \"vue.js\", \"angular\", \"angular\", \"react\", \"vue.js\", \"angular\", \"vue.js\", \"angular\", \"react\", \"angular\", \"angular\", \"react\", \"angular\", \"react\", \"react\", \"angular\", \"angular\", \"react\", \"react\", \"react\", \"angular\", \"angular\", \"angular\", \"angular\", \"vue.js\", \"angular\", \"vue.js\", \"react\", \"react\", \"react\", \"angular\", \"angular\", \"angular\", \"react\", \"react\", \"react\", \"vue.js\", \"react\", \"react\", \"angular\", \"angular\", \"angular\", \"react\", \"angular\", \"react\", \"angular\", \"angular\", \"react\", \"angular\", \"angular\", \"vue.js\", \"react\", \"react\", \"angular\", \"react\", \"react\", \"angular\", \"angular\", \"angular\", \"vue.js\", \"react\", \"angular\", \"react\", \"vue.js\", \"react\", \"angular\", \"react\", \"angular\", \"angular\", \"angular\", \"vue.js\", \"react\", \"angular\", \"angular\", \"angular\", \"angular\", \"react\", \"angular\", \"angular\", \"react\", \"react\", \"angular\", \"react\", \"vue.js\", \"react\", \"angular\", \"vue.js\", \"angular\", \"angular\", \"react\", \"angular\", \"react\", \"angular\", \"react\", \"react\", \"angular\", \"angular\", \"react\", \"vue.js\", \"angular\", \"react\", \"react\", \"vue.js\", \"react\", \"vue.js\", \"angular\", \"react\", \"react\", \"angular\", \"vue.js\", \"angular\", \"angular\", \"vue.js\", \"angular\", \"react\", \"angular\", \"react\", \"react\", \"angular\", \"react\", \"angular\", \"vue.js\", \"angular\", \"angular\", \"react\", \"angular\", \"angular\", \"angular\", \"react\", \"react\", \"react\", \"angular\", \"angular\", \"angular\", \"react\", \"react\", \"angular\", \"angular\", \"react\", \"angular\", \"angular\", \"angular\", \"react\", \"angular\", \"react\", \"react\", \"react\", \"angular\", \"react\", \"react\", \"react\", \"react\", \"angular\", \"react\", \"angular\", \"angular\", \"vue.js\", \"react\", \"angular\", \"react\", \"angular\", \"angular\", \"react\", \"react\", \"angular\", \"angular\", \"angular\", \"react\", \"vue.js\", \"angular\", \"react\", \"react\", \"angular\", \"angular\", \"vue.js\"], \"xaxis\": \"x\", \"yaxis\": \"y\"}],                        {\"barmode\": \"relative\", \"legend\": {\"title\": {\"text\": \"variable\"}, \"tracegroupgap\": 0}, \"template\": {\"data\": {\"bar\": [{\"error_x\": {\"color\": \"#2a3f5f\"}, \"error_y\": {\"color\": \"#2a3f5f\"}, \"marker\": {\"line\": {\"color\": \"#E5ECF6\", \"width\": 0.5}}, \"type\": \"bar\"}], \"barpolar\": [{\"marker\": {\"line\": {\"color\": \"#E5ECF6\", \"width\": 0.5}}, \"type\": \"barpolar\"}], \"carpet\": [{\"aaxis\": {\"endlinecolor\": \"#2a3f5f\", \"gridcolor\": \"white\", \"linecolor\": \"white\", \"minorgridcolor\": \"white\", \"startlinecolor\": \"#2a3f5f\"}, \"baxis\": {\"endlinecolor\": \"#2a3f5f\", \"gridcolor\": \"white\", \"linecolor\": \"white\", \"minorgridcolor\": \"white\", \"startlinecolor\": \"#2a3f5f\"}, \"type\": \"carpet\"}], \"choropleth\": [{\"colorbar\": {\"outlinewidth\": 0, \"ticks\": \"\"}, \"type\": \"choropleth\"}], \"contour\": [{\"colorbar\": {\"outlinewidth\": 0, \"ticks\": \"\"}, \"colorscale\": [[0.0, \"#0d0887\"], [0.1111111111111111, \"#46039f\"], [0.2222222222222222, \"#7201a8\"], [0.3333333333333333, \"#9c179e\"], [0.4444444444444444, \"#bd3786\"], [0.5555555555555556, \"#d8576b\"], [0.6666666666666666, \"#ed7953\"], [0.7777777777777778, \"#fb9f3a\"], [0.8888888888888888, \"#fdca26\"], [1.0, \"#f0f921\"]], \"type\": \"contour\"}], \"contourcarpet\": [{\"colorbar\": {\"outlinewidth\": 0, \"ticks\": \"\"}, \"type\": \"contourcarpet\"}], \"heatmap\": [{\"colorbar\": {\"outlinewidth\": 0, \"ticks\": \"\"}, \"colorscale\": [[0.0, \"#0d0887\"], [0.1111111111111111, \"#46039f\"], [0.2222222222222222, \"#7201a8\"], [0.3333333333333333, \"#9c179e\"], [0.4444444444444444, \"#bd3786\"], [0.5555555555555556, \"#d8576b\"], [0.6666666666666666, \"#ed7953\"], [0.7777777777777778, \"#fb9f3a\"], [0.8888888888888888, \"#fdca26\"], [1.0, \"#f0f921\"]], \"type\": \"heatmap\"}], \"heatmapgl\": [{\"colorbar\": {\"outlinewidth\": 0, \"ticks\": \"\"}, \"colorscale\": [[0.0, \"#0d0887\"], [0.1111111111111111, \"#46039f\"], [0.2222222222222222, \"#7201a8\"], [0.3333333333333333, \"#9c179e\"], [0.4444444444444444, \"#bd3786\"], [0.5555555555555556, \"#d8576b\"], [0.6666666666666666, \"#ed7953\"], [0.7777777777777778, \"#fb9f3a\"], [0.8888888888888888, \"#fdca26\"], [1.0, \"#f0f921\"]], \"type\": \"heatmapgl\"}], \"histogram\": [{\"marker\": {\"colorbar\": {\"outlinewidth\": 0, \"ticks\": \"\"}}, \"type\": \"histogram\"}], \"histogram2d\": [{\"colorbar\": {\"outlinewidth\": 0, \"ticks\": \"\"}, \"colorscale\": [[0.0, \"#0d0887\"], [0.1111111111111111, \"#46039f\"], [0.2222222222222222, \"#7201a8\"], [0.3333333333333333, \"#9c179e\"], [0.4444444444444444, \"#bd3786\"], [0.5555555555555556, \"#d8576b\"], [0.6666666666666666, \"#ed7953\"], [0.7777777777777778, \"#fb9f3a\"], [0.8888888888888888, \"#fdca26\"], [1.0, \"#f0f921\"]], \"type\": \"histogram2d\"}], \"histogram2dcontour\": [{\"colorbar\": {\"outlinewidth\": 0, \"ticks\": \"\"}, \"colorscale\": [[0.0, \"#0d0887\"], [0.1111111111111111, \"#46039f\"], [0.2222222222222222, \"#7201a8\"], [0.3333333333333333, \"#9c179e\"], [0.4444444444444444, \"#bd3786\"], [0.5555555555555556, \"#d8576b\"], [0.6666666666666666, \"#ed7953\"], [0.7777777777777778, \"#fb9f3a\"], [0.8888888888888888, \"#fdca26\"], [1.0, \"#f0f921\"]], \"type\": \"histogram2dcontour\"}], \"mesh3d\": [{\"colorbar\": {\"outlinewidth\": 0, \"ticks\": \"\"}, \"type\": \"mesh3d\"}], \"parcoords\": [{\"line\": {\"colorbar\": {\"outlinewidth\": 0, \"ticks\": \"\"}}, \"type\": \"parcoords\"}], \"pie\": [{\"automargin\": true, \"type\": \"pie\"}], \"scatter\": [{\"marker\": {\"colorbar\": {\"outlinewidth\": 0, \"ticks\": \"\"}}, \"type\": \"scatter\"}], \"scatter3d\": [{\"line\": {\"colorbar\": {\"outlinewidth\": 0, \"ticks\": \"\"}}, \"marker\": {\"colorbar\": {\"outlinewidth\": 0, \"ticks\": \"\"}}, \"type\": \"scatter3d\"}], \"scattercarpet\": [{\"marker\": {\"colorbar\": {\"outlinewidth\": 0, \"ticks\": \"\"}}, \"type\": \"scattercarpet\"}], \"scattergeo\": [{\"marker\": {\"colorbar\": {\"outlinewidth\": 0, \"ticks\": \"\"}}, \"type\": \"scattergeo\"}], \"scattergl\": [{\"marker\": {\"colorbar\": {\"outlinewidth\": 0, \"ticks\": \"\"}}, \"type\": \"scattergl\"}], \"scattermapbox\": [{\"marker\": {\"colorbar\": {\"outlinewidth\": 0, \"ticks\": \"\"}}, \"type\": \"scattermapbox\"}], \"scatterpolar\": [{\"marker\": {\"colorbar\": {\"outlinewidth\": 0, \"ticks\": \"\"}}, \"type\": \"scatterpolar\"}], \"scatterpolargl\": [{\"marker\": {\"colorbar\": {\"outlinewidth\": 0, \"ticks\": \"\"}}, \"type\": \"scatterpolargl\"}], \"scatterternary\": [{\"marker\": {\"colorbar\": {\"outlinewidth\": 0, \"ticks\": \"\"}}, \"type\": \"scatterternary\"}], \"surface\": [{\"colorbar\": {\"outlinewidth\": 0, \"ticks\": \"\"}, \"colorscale\": [[0.0, \"#0d0887\"], [0.1111111111111111, \"#46039f\"], [0.2222222222222222, \"#7201a8\"], [0.3333333333333333, \"#9c179e\"], [0.4444444444444444, \"#bd3786\"], [0.5555555555555556, \"#d8576b\"], [0.6666666666666666, \"#ed7953\"], [0.7777777777777778, \"#fb9f3a\"], [0.8888888888888888, \"#fdca26\"], [1.0, \"#f0f921\"]], \"type\": \"surface\"}], \"table\": [{\"cells\": {\"fill\": {\"color\": \"#EBF0F8\"}, \"line\": {\"color\": \"white\"}}, \"header\": {\"fill\": {\"color\": \"#C8D4E3\"}, \"line\": {\"color\": \"white\"}}, \"type\": \"table\"}]}, \"layout\": {\"annotationdefaults\": {\"arrowcolor\": \"#2a3f5f\", \"arrowhead\": 0, \"arrowwidth\": 1}, \"coloraxis\": {\"colorbar\": {\"outlinewidth\": 0, \"ticks\": \"\"}}, \"colorscale\": {\"diverging\": [[0, \"#8e0152\"], [0.1, \"#c51b7d\"], [0.2, \"#de77ae\"], [0.3, \"#f1b6da\"], [0.4, \"#fde0ef\"], [0.5, \"#f7f7f7\"], [0.6, \"#e6f5d0\"], [0.7, \"#b8e186\"], [0.8, \"#7fbc41\"], [0.9, \"#4d9221\"], [1, \"#276419\"]], \"sequential\": [[0.0, \"#0d0887\"], [0.1111111111111111, \"#46039f\"], [0.2222222222222222, \"#7201a8\"], [0.3333333333333333, \"#9c179e\"], [0.4444444444444444, \"#bd3786\"], [0.5555555555555556, \"#d8576b\"], [0.6666666666666666, \"#ed7953\"], [0.7777777777777778, \"#fb9f3a\"], [0.8888888888888888, \"#fdca26\"], [1.0, \"#f0f921\"]], \"sequentialminus\": [[0.0, \"#0d0887\"], [0.1111111111111111, \"#46039f\"], [0.2222222222222222, \"#7201a8\"], [0.3333333333333333, \"#9c179e\"], [0.4444444444444444, \"#bd3786\"], [0.5555555555555556, \"#d8576b\"], [0.6666666666666666, \"#ed7953\"], [0.7777777777777778, \"#fb9f3a\"], [0.8888888888888888, \"#fdca26\"], [1.0, \"#f0f921\"]]}, \"colorway\": [\"#636efa\", \"#EF553B\", \"#00cc96\", \"#ab63fa\", \"#FFA15A\", \"#19d3f3\", \"#FF6692\", \"#B6E880\", \"#FF97FF\", \"#FECB52\"], \"font\": {\"color\": \"#2a3f5f\"}, \"geo\": {\"bgcolor\": \"white\", \"lakecolor\": \"white\", \"landcolor\": \"#E5ECF6\", \"showlakes\": true, \"showland\": true, \"subunitcolor\": \"white\"}, \"hoverlabel\": {\"align\": \"left\"}, \"hovermode\": \"closest\", \"mapbox\": {\"style\": \"light\"}, \"paper_bgcolor\": \"white\", \"plot_bgcolor\": \"#E5ECF6\", \"polar\": {\"angularaxis\": {\"gridcolor\": \"white\", \"linecolor\": \"white\", \"ticks\": \"\"}, \"bgcolor\": \"#E5ECF6\", \"radialaxis\": {\"gridcolor\": \"white\", \"linecolor\": \"white\", \"ticks\": \"\"}}, \"scene\": {\"xaxis\": {\"backgroundcolor\": \"#E5ECF6\", \"gridcolor\": \"white\", \"gridwidth\": 2, \"linecolor\": \"white\", \"showbackground\": true, \"ticks\": \"\", \"zerolinecolor\": \"white\"}, \"yaxis\": {\"backgroundcolor\": \"#E5ECF6\", \"gridcolor\": \"white\", \"gridwidth\": 2, \"linecolor\": \"white\", \"showbackground\": true, \"ticks\": \"\", \"zerolinecolor\": \"white\"}, \"zaxis\": {\"backgroundcolor\": \"#E5ECF6\", \"gridcolor\": \"white\", \"gridwidth\": 2, \"linecolor\": \"white\", \"showbackground\": true, \"ticks\": \"\", \"zerolinecolor\": \"white\"}}, \"shapedefaults\": {\"line\": {\"color\": \"#2a3f5f\"}}, \"ternary\": {\"aaxis\": {\"gridcolor\": \"white\", \"linecolor\": \"white\", \"ticks\": \"\"}, \"baxis\": {\"gridcolor\": \"white\", \"linecolor\": \"white\", \"ticks\": \"\"}, \"bgcolor\": \"#E5ECF6\", \"caxis\": {\"gridcolor\": \"white\", \"linecolor\": \"white\", \"ticks\": \"\"}}, \"title\": {\"x\": 0.05}, \"xaxis\": {\"automargin\": true, \"gridcolor\": \"white\", \"linecolor\": \"white\", \"ticks\": \"\", \"title\": {\"standoff\": 15}, \"zerolinecolor\": \"white\", \"zerolinewidth\": 2}, \"yaxis\": {\"automargin\": true, \"gridcolor\": \"white\", \"linecolor\": \"white\", \"ticks\": \"\", \"title\": {\"standoff\": 15}, \"zerolinecolor\": \"white\", \"zerolinewidth\": 2}}}, \"title\": {\"text\": \"JS Framework Interest in 2018 (based on 2k sample)\"}, \"xaxis\": {\"anchor\": \"y\", \"domain\": [0.0, 1.0], \"title\": {\"text\": \"value\"}}, \"yaxis\": {\"anchor\": \"x\", \"domain\": [0.0, 1.0], \"title\": {\"text\": \"count\"}}},                        {\"responsive\": true}                    ).then(function(){\n",
       "                            \n",
       "var gd = document.getElementById('cd42f434-47c4-401b-9155-de7a3b16a141');\n",
       "var x = new MutationObserver(function (mutations, observer) {{\n",
       "        var display = window.getComputedStyle(gd).display;\n",
       "        if (!display || display === 'none') {{\n",
       "            console.log([gd, 'removed!']);\n",
       "            Plotly.purge(gd);\n",
       "            observer.disconnect();\n",
       "        }}\n",
       "}});\n",
       "\n",
       "// Listen for the removal of the full notebook cells\n",
       "var notebookContainer = gd.closest('#notebook-container');\n",
       "if (notebookContainer) {{\n",
       "    x.observe(notebookContainer, {childList: true});\n",
       "}}\n",
       "\n",
       "// Listen for the clearing of the current output cell\n",
       "var outputEl = gd.closest('.output');\n",
       "if (outputEl) {{\n",
       "    x.observe(outputEl, {childList: true});\n",
       "}}\n",
       "\n",
       "                        })                };                });            </script>        </div>"
      ]
     },
     "metadata": {},
     "output_type": "display_data"
    },
    {
     "data": {
      "application/vnd.plotly.v1+json": {
       "config": {
        "plotlyServerURL": "https://plot.ly"
       },
       "data": [
        {
         "alignmentgroup": "True",
         "bingroup": "x",
         "hovertemplate": "variable=tags<br>value=%{x}<br>count=%{y}<extra></extra>",
         "legendgroup": "tags",
         "marker": {
          "color": "#636efa"
         },
         "name": "tags",
         "offsetgroup": "tags",
         "orientation": "v",
         "showlegend": true,
         "type": "histogram",
         "x": [
          "angular",
          "vue.js",
          "react",
          "vue.js",
          "angular",
          "angular",
          "angular",
          "angular",
          "angular",
          "react",
          "vue.js",
          "react",
          "vue.js",
          "vue.js",
          "angular",
          "react",
          "angular",
          "angular",
          "react",
          "react",
          "angular",
          "react",
          "vue.js",
          "angular",
          "angular",
          "react",
          "angular",
          "angular",
          "angular",
          "angular",
          "react",
          "angular",
          "angular",
          "angular",
          "vue.js",
          "react",
          "react",
          "react",
          "angular",
          "angular",
          "react",
          "angular",
          "react",
          "angular",
          "vue.js",
          "angular",
          "react",
          "angular",
          "angular",
          "react",
          "angular",
          "angular",
          "angular",
          "angular",
          "angular",
          "angular",
          "angular",
          "angular",
          "angular",
          "angular",
          "angular",
          "angular",
          "vue.js",
          "angular",
          "angular",
          "angular",
          "angular",
          "angular",
          "react",
          "angular",
          "angular",
          "react",
          "angular",
          "angular",
          "angular",
          "angular",
          "angular",
          "angular",
          "angular",
          "angular",
          "react",
          "vue.js",
          "angular",
          "react",
          "react",
          "react",
          "react",
          "react",
          "react",
          "angular",
          "react",
          "angular",
          "angular",
          "angular",
          "angular",
          "angular",
          "react",
          "react",
          "angular",
          "react",
          "react",
          "react",
          "react",
          "angular",
          "react",
          "angular",
          "angular",
          "angular",
          "angular",
          "angular",
          "react",
          "angular",
          "react",
          "react",
          "angular",
          "angular",
          "angular",
          "angular",
          "react",
          "react",
          "angular",
          "angular",
          "angular",
          "angular",
          "vue.js",
          "angular",
          "react",
          "react",
          "angular",
          "react",
          "vue.js",
          "react",
          "angular",
          "angular",
          "angular",
          "angular",
          "react",
          "angular",
          "angular",
          "angular",
          "angular",
          "vue.js",
          "angular",
          "angular",
          "angular",
          "react",
          "angular",
          "react",
          "react",
          "angular",
          "angular",
          "angular",
          "angular",
          "react",
          "angular",
          "angular",
          "react",
          "angular",
          "vue.js",
          "react",
          "angular",
          "angular",
          "angular",
          "react",
          "angular",
          "vue.js",
          "react",
          "angular",
          "angular",
          "react",
          "angular",
          "angular",
          "angular",
          "react",
          "angular",
          "angular",
          "angular",
          "react",
          "react",
          "react",
          "angular",
          "angular",
          "react",
          "angular",
          "angular",
          "angular",
          "angular",
          "angular",
          "react",
          "angular",
          "angular",
          "vue.js",
          "angular",
          "react",
          "angular",
          "angular",
          "vue.js",
          "angular",
          "angular",
          "angular",
          "angular",
          "react",
          "angular",
          "react",
          "angular",
          "angular",
          "angular",
          "react",
          "angular",
          "angular",
          "angular",
          "vue.js",
          "react",
          "vue.js",
          "react",
          "react",
          "angular",
          "react",
          "react",
          "angular",
          "angular",
          "angular",
          "react",
          "angular",
          "angular",
          "angular",
          "react",
          "angular",
          "react",
          "react",
          "angular",
          "angular",
          "angular",
          "react",
          "react",
          "angular",
          "angular",
          "react",
          "angular",
          "react",
          "angular",
          "angular",
          "angular",
          "angular",
          "react",
          "react",
          "vue.js",
          "angular",
          "angular",
          "angular",
          "angular",
          "react",
          "react",
          "angular",
          "react",
          "react",
          "vue.js",
          "react",
          "angular",
          "angular",
          "angular",
          "vue.js",
          "react",
          "react",
          "angular",
          "angular",
          "vue.js",
          "angular",
          "vue.js",
          "vue.js",
          "vue.js",
          "angular",
          "vue.js",
          "angular",
          "angular",
          "angular",
          "angular",
          "react",
          "react",
          "angular",
          "vue.js",
          "angular",
          "react",
          "react",
          "angular",
          "react",
          "angular",
          "angular",
          "angular",
          "angular",
          "angular",
          "angular",
          "angular",
          "angular",
          "react",
          "react",
          "angular",
          "angular",
          "react",
          "angular",
          "angular",
          "react",
          "angular",
          "vue.js",
          "angular",
          "angular",
          "angular",
          "angular",
          "angular",
          "angular",
          "react",
          "angular",
          "angular",
          "angular",
          "angular",
          "angular",
          "angular",
          "angular",
          "react",
          "react",
          "angular",
          "react",
          "react",
          "angular",
          "angular",
          "angular",
          "react",
          "angular",
          "angular",
          "angular",
          "angular",
          "react",
          "angular",
          "angular",
          "react",
          "angular",
          "vue.js",
          "react",
          "angular",
          "angular",
          "angular",
          "angular",
          "angular",
          "react",
          "react",
          "angular",
          "react",
          "react",
          "angular",
          "angular",
          "angular",
          "angular",
          "angular",
          "angular",
          "react",
          "angular",
          "react",
          "angular",
          "angular",
          "react",
          "react",
          "angular",
          "angular",
          "react",
          "react",
          "angular",
          "angular",
          "angular",
          "react",
          "angular",
          "angular",
          "angular",
          "angular",
          "angular",
          "react",
          "react",
          "angular",
          "angular",
          "angular",
          "angular",
          "angular",
          "angular",
          "angular",
          "react",
          "react",
          "react",
          "react",
          "react",
          "angular",
          "react",
          "react",
          "angular",
          "angular",
          "react",
          "angular",
          "angular",
          "react",
          "angular",
          "angular",
          "angular",
          "angular",
          "react",
          "angular",
          "react",
          "react",
          "angular",
          "angular",
          "angular",
          "angular",
          "react",
          "angular",
          "angular",
          "angular",
          "angular",
          "react",
          "vue.js",
          "angular",
          "angular",
          "react",
          "angular",
          "angular",
          "react",
          "angular",
          "react",
          "angular",
          "angular",
          "react",
          "react",
          "angular",
          "angular",
          "angular",
          "react",
          "react",
          "angular",
          "angular",
          "react",
          "react",
          "angular",
          "react",
          "angular",
          "angular",
          "react",
          "react",
          "react",
          "angular",
          "angular",
          "react",
          "react",
          "angular",
          "angular",
          "angular",
          "angular",
          "angular",
          "angular",
          "angular",
          "react",
          "react",
          "angular",
          "react",
          "react",
          "angular",
          "react",
          "react",
          "react",
          "react",
          "angular",
          "react",
          "angular",
          "angular",
          "angular",
          "react",
          "angular",
          "react",
          "react",
          "angular",
          "react",
          "angular",
          "angular",
          "angular",
          "react",
          "angular",
          "angular",
          "angular",
          "react",
          "react",
          "angular",
          "angular",
          "angular",
          "react",
          "angular",
          "angular",
          "angular",
          "react",
          "angular",
          "angular",
          "angular",
          "react",
          "vue.js",
          "angular",
          "angular",
          "angular",
          "angular",
          "angular",
          "react",
          "react",
          "angular",
          "angular",
          "angular",
          "angular",
          "react",
          "angular",
          "react",
          "angular",
          "react",
          "react",
          "angular",
          "angular",
          "angular",
          "angular",
          "angular",
          "react",
          "angular",
          "angular",
          "react",
          "react",
          "react",
          "react",
          "react",
          "react",
          "angular",
          "angular",
          "angular",
          "angular",
          "angular",
          "angular",
          "react",
          "react",
          "angular",
          "react",
          "angular",
          "angular",
          "react",
          "angular",
          "angular",
          "react",
          "react",
          "react",
          "react",
          "react",
          "angular",
          "angular",
          "angular",
          "react",
          "react",
          "angular",
          "react",
          "angular",
          "vue.js",
          "angular",
          "angular",
          "angular",
          "angular",
          "angular",
          "react",
          "angular",
          "vue.js",
          "react",
          "react",
          "react",
          "react",
          "angular",
          "angular",
          "angular",
          "angular",
          "react",
          "react",
          "react",
          "react",
          "angular",
          "react",
          "angular",
          "vue.js",
          "vue.js",
          "angular",
          "react",
          "react",
          "angular",
          "react",
          "angular",
          "angular",
          "angular",
          "angular",
          "angular",
          "angular",
          "angular",
          "vue.js",
          "angular",
          "angular",
          "vue.js",
          "angular",
          "react",
          "react",
          "angular",
          "angular",
          "react",
          "angular",
          "angular",
          "angular",
          "react",
          "angular",
          "react",
          "angular",
          "angular",
          "angular",
          "angular",
          "react",
          "react",
          "angular",
          "react",
          "angular",
          "angular",
          "react",
          "react",
          "react",
          "angular",
          "angular",
          "angular",
          "react",
          "react",
          "react",
          "angular",
          "angular",
          "react",
          "react",
          "angular",
          "angular",
          "vue.js",
          "vue.js",
          "angular",
          "react",
          "angular",
          "angular"
         ],
         "xaxis": "x",
         "yaxis": "y"
        }
       ],
       "layout": {
        "barmode": "relative",
        "legend": {
         "title": {
          "text": "variable"
         },
         "tracegroupgap": 0
        },
        "template": {
         "data": {
          "bar": [
           {
            "error_x": {
             "color": "#2a3f5f"
            },
            "error_y": {
             "color": "#2a3f5f"
            },
            "marker": {
             "line": {
              "color": "#E5ECF6",
              "width": 0.5
             }
            },
            "type": "bar"
           }
          ],
          "barpolar": [
           {
            "marker": {
             "line": {
              "color": "#E5ECF6",
              "width": 0.5
             }
            },
            "type": "barpolar"
           }
          ],
          "carpet": [
           {
            "aaxis": {
             "endlinecolor": "#2a3f5f",
             "gridcolor": "white",
             "linecolor": "white",
             "minorgridcolor": "white",
             "startlinecolor": "#2a3f5f"
            },
            "baxis": {
             "endlinecolor": "#2a3f5f",
             "gridcolor": "white",
             "linecolor": "white",
             "minorgridcolor": "white",
             "startlinecolor": "#2a3f5f"
            },
            "type": "carpet"
           }
          ],
          "choropleth": [
           {
            "colorbar": {
             "outlinewidth": 0,
             "ticks": ""
            },
            "type": "choropleth"
           }
          ],
          "contour": [
           {
            "colorbar": {
             "outlinewidth": 0,
             "ticks": ""
            },
            "colorscale": [
             [
              0,
              "#0d0887"
             ],
             [
              0.1111111111111111,
              "#46039f"
             ],
             [
              0.2222222222222222,
              "#7201a8"
             ],
             [
              0.3333333333333333,
              "#9c179e"
             ],
             [
              0.4444444444444444,
              "#bd3786"
             ],
             [
              0.5555555555555556,
              "#d8576b"
             ],
             [
              0.6666666666666666,
              "#ed7953"
             ],
             [
              0.7777777777777778,
              "#fb9f3a"
             ],
             [
              0.8888888888888888,
              "#fdca26"
             ],
             [
              1,
              "#f0f921"
             ]
            ],
            "type": "contour"
           }
          ],
          "contourcarpet": [
           {
            "colorbar": {
             "outlinewidth": 0,
             "ticks": ""
            },
            "type": "contourcarpet"
           }
          ],
          "heatmap": [
           {
            "colorbar": {
             "outlinewidth": 0,
             "ticks": ""
            },
            "colorscale": [
             [
              0,
              "#0d0887"
             ],
             [
              0.1111111111111111,
              "#46039f"
             ],
             [
              0.2222222222222222,
              "#7201a8"
             ],
             [
              0.3333333333333333,
              "#9c179e"
             ],
             [
              0.4444444444444444,
              "#bd3786"
             ],
             [
              0.5555555555555556,
              "#d8576b"
             ],
             [
              0.6666666666666666,
              "#ed7953"
             ],
             [
              0.7777777777777778,
              "#fb9f3a"
             ],
             [
              0.8888888888888888,
              "#fdca26"
             ],
             [
              1,
              "#f0f921"
             ]
            ],
            "type": "heatmap"
           }
          ],
          "heatmapgl": [
           {
            "colorbar": {
             "outlinewidth": 0,
             "ticks": ""
            },
            "colorscale": [
             [
              0,
              "#0d0887"
             ],
             [
              0.1111111111111111,
              "#46039f"
             ],
             [
              0.2222222222222222,
              "#7201a8"
             ],
             [
              0.3333333333333333,
              "#9c179e"
             ],
             [
              0.4444444444444444,
              "#bd3786"
             ],
             [
              0.5555555555555556,
              "#d8576b"
             ],
             [
              0.6666666666666666,
              "#ed7953"
             ],
             [
              0.7777777777777778,
              "#fb9f3a"
             ],
             [
              0.8888888888888888,
              "#fdca26"
             ],
             [
              1,
              "#f0f921"
             ]
            ],
            "type": "heatmapgl"
           }
          ],
          "histogram": [
           {
            "marker": {
             "colorbar": {
              "outlinewidth": 0,
              "ticks": ""
             }
            },
            "type": "histogram"
           }
          ],
          "histogram2d": [
           {
            "colorbar": {
             "outlinewidth": 0,
             "ticks": ""
            },
            "colorscale": [
             [
              0,
              "#0d0887"
             ],
             [
              0.1111111111111111,
              "#46039f"
             ],
             [
              0.2222222222222222,
              "#7201a8"
             ],
             [
              0.3333333333333333,
              "#9c179e"
             ],
             [
              0.4444444444444444,
              "#bd3786"
             ],
             [
              0.5555555555555556,
              "#d8576b"
             ],
             [
              0.6666666666666666,
              "#ed7953"
             ],
             [
              0.7777777777777778,
              "#fb9f3a"
             ],
             [
              0.8888888888888888,
              "#fdca26"
             ],
             [
              1,
              "#f0f921"
             ]
            ],
            "type": "histogram2d"
           }
          ],
          "histogram2dcontour": [
           {
            "colorbar": {
             "outlinewidth": 0,
             "ticks": ""
            },
            "colorscale": [
             [
              0,
              "#0d0887"
             ],
             [
              0.1111111111111111,
              "#46039f"
             ],
             [
              0.2222222222222222,
              "#7201a8"
             ],
             [
              0.3333333333333333,
              "#9c179e"
             ],
             [
              0.4444444444444444,
              "#bd3786"
             ],
             [
              0.5555555555555556,
              "#d8576b"
             ],
             [
              0.6666666666666666,
              "#ed7953"
             ],
             [
              0.7777777777777778,
              "#fb9f3a"
             ],
             [
              0.8888888888888888,
              "#fdca26"
             ],
             [
              1,
              "#f0f921"
             ]
            ],
            "type": "histogram2dcontour"
           }
          ],
          "mesh3d": [
           {
            "colorbar": {
             "outlinewidth": 0,
             "ticks": ""
            },
            "type": "mesh3d"
           }
          ],
          "parcoords": [
           {
            "line": {
             "colorbar": {
              "outlinewidth": 0,
              "ticks": ""
             }
            },
            "type": "parcoords"
           }
          ],
          "pie": [
           {
            "automargin": true,
            "type": "pie"
           }
          ],
          "scatter": [
           {
            "marker": {
             "colorbar": {
              "outlinewidth": 0,
              "ticks": ""
             }
            },
            "type": "scatter"
           }
          ],
          "scatter3d": [
           {
            "line": {
             "colorbar": {
              "outlinewidth": 0,
              "ticks": ""
             }
            },
            "marker": {
             "colorbar": {
              "outlinewidth": 0,
              "ticks": ""
             }
            },
            "type": "scatter3d"
           }
          ],
          "scattercarpet": [
           {
            "marker": {
             "colorbar": {
              "outlinewidth": 0,
              "ticks": ""
             }
            },
            "type": "scattercarpet"
           }
          ],
          "scattergeo": [
           {
            "marker": {
             "colorbar": {
              "outlinewidth": 0,
              "ticks": ""
             }
            },
            "type": "scattergeo"
           }
          ],
          "scattergl": [
           {
            "marker": {
             "colorbar": {
              "outlinewidth": 0,
              "ticks": ""
             }
            },
            "type": "scattergl"
           }
          ],
          "scattermapbox": [
           {
            "marker": {
             "colorbar": {
              "outlinewidth": 0,
              "ticks": ""
             }
            },
            "type": "scattermapbox"
           }
          ],
          "scatterpolar": [
           {
            "marker": {
             "colorbar": {
              "outlinewidth": 0,
              "ticks": ""
             }
            },
            "type": "scatterpolar"
           }
          ],
          "scatterpolargl": [
           {
            "marker": {
             "colorbar": {
              "outlinewidth": 0,
              "ticks": ""
             }
            },
            "type": "scatterpolargl"
           }
          ],
          "scatterternary": [
           {
            "marker": {
             "colorbar": {
              "outlinewidth": 0,
              "ticks": ""
             }
            },
            "type": "scatterternary"
           }
          ],
          "surface": [
           {
            "colorbar": {
             "outlinewidth": 0,
             "ticks": ""
            },
            "colorscale": [
             [
              0,
              "#0d0887"
             ],
             [
              0.1111111111111111,
              "#46039f"
             ],
             [
              0.2222222222222222,
              "#7201a8"
             ],
             [
              0.3333333333333333,
              "#9c179e"
             ],
             [
              0.4444444444444444,
              "#bd3786"
             ],
             [
              0.5555555555555556,
              "#d8576b"
             ],
             [
              0.6666666666666666,
              "#ed7953"
             ],
             [
              0.7777777777777778,
              "#fb9f3a"
             ],
             [
              0.8888888888888888,
              "#fdca26"
             ],
             [
              1,
              "#f0f921"
             ]
            ],
            "type": "surface"
           }
          ],
          "table": [
           {
            "cells": {
             "fill": {
              "color": "#EBF0F8"
             },
             "line": {
              "color": "white"
             }
            },
            "header": {
             "fill": {
              "color": "#C8D4E3"
             },
             "line": {
              "color": "white"
             }
            },
            "type": "table"
           }
          ]
         },
         "layout": {
          "annotationdefaults": {
           "arrowcolor": "#2a3f5f",
           "arrowhead": 0,
           "arrowwidth": 1
          },
          "coloraxis": {
           "colorbar": {
            "outlinewidth": 0,
            "ticks": ""
           }
          },
          "colorscale": {
           "diverging": [
            [
             0,
             "#8e0152"
            ],
            [
             0.1,
             "#c51b7d"
            ],
            [
             0.2,
             "#de77ae"
            ],
            [
             0.3,
             "#f1b6da"
            ],
            [
             0.4,
             "#fde0ef"
            ],
            [
             0.5,
             "#f7f7f7"
            ],
            [
             0.6,
             "#e6f5d0"
            ],
            [
             0.7,
             "#b8e186"
            ],
            [
             0.8,
             "#7fbc41"
            ],
            [
             0.9,
             "#4d9221"
            ],
            [
             1,
             "#276419"
            ]
           ],
           "sequential": [
            [
             0,
             "#0d0887"
            ],
            [
             0.1111111111111111,
             "#46039f"
            ],
            [
             0.2222222222222222,
             "#7201a8"
            ],
            [
             0.3333333333333333,
             "#9c179e"
            ],
            [
             0.4444444444444444,
             "#bd3786"
            ],
            [
             0.5555555555555556,
             "#d8576b"
            ],
            [
             0.6666666666666666,
             "#ed7953"
            ],
            [
             0.7777777777777778,
             "#fb9f3a"
            ],
            [
             0.8888888888888888,
             "#fdca26"
            ],
            [
             1,
             "#f0f921"
            ]
           ],
           "sequentialminus": [
            [
             0,
             "#0d0887"
            ],
            [
             0.1111111111111111,
             "#46039f"
            ],
            [
             0.2222222222222222,
             "#7201a8"
            ],
            [
             0.3333333333333333,
             "#9c179e"
            ],
            [
             0.4444444444444444,
             "#bd3786"
            ],
            [
             0.5555555555555556,
             "#d8576b"
            ],
            [
             0.6666666666666666,
             "#ed7953"
            ],
            [
             0.7777777777777778,
             "#fb9f3a"
            ],
            [
             0.8888888888888888,
             "#fdca26"
            ],
            [
             1,
             "#f0f921"
            ]
           ]
          },
          "colorway": [
           "#636efa",
           "#EF553B",
           "#00cc96",
           "#ab63fa",
           "#FFA15A",
           "#19d3f3",
           "#FF6692",
           "#B6E880",
           "#FF97FF",
           "#FECB52"
          ],
          "font": {
           "color": "#2a3f5f"
          },
          "geo": {
           "bgcolor": "white",
           "lakecolor": "white",
           "landcolor": "#E5ECF6",
           "showlakes": true,
           "showland": true,
           "subunitcolor": "white"
          },
          "hoverlabel": {
           "align": "left"
          },
          "hovermode": "closest",
          "mapbox": {
           "style": "light"
          },
          "paper_bgcolor": "white",
          "plot_bgcolor": "#E5ECF6",
          "polar": {
           "angularaxis": {
            "gridcolor": "white",
            "linecolor": "white",
            "ticks": ""
           },
           "bgcolor": "#E5ECF6",
           "radialaxis": {
            "gridcolor": "white",
            "linecolor": "white",
            "ticks": ""
           }
          },
          "scene": {
           "xaxis": {
            "backgroundcolor": "#E5ECF6",
            "gridcolor": "white",
            "gridwidth": 2,
            "linecolor": "white",
            "showbackground": true,
            "ticks": "",
            "zerolinecolor": "white"
           },
           "yaxis": {
            "backgroundcolor": "#E5ECF6",
            "gridcolor": "white",
            "gridwidth": 2,
            "linecolor": "white",
            "showbackground": true,
            "ticks": "",
            "zerolinecolor": "white"
           },
           "zaxis": {
            "backgroundcolor": "#E5ECF6",
            "gridcolor": "white",
            "gridwidth": 2,
            "linecolor": "white",
            "showbackground": true,
            "ticks": "",
            "zerolinecolor": "white"
           }
          },
          "shapedefaults": {
           "line": {
            "color": "#2a3f5f"
           }
          },
          "ternary": {
           "aaxis": {
            "gridcolor": "white",
            "linecolor": "white",
            "ticks": ""
           },
           "baxis": {
            "gridcolor": "white",
            "linecolor": "white",
            "ticks": ""
           },
           "bgcolor": "#E5ECF6",
           "caxis": {
            "gridcolor": "white",
            "linecolor": "white",
            "ticks": ""
           }
          },
          "title": {
           "x": 0.05
          },
          "xaxis": {
           "automargin": true,
           "gridcolor": "white",
           "linecolor": "white",
           "ticks": "",
           "title": {
            "standoff": 15
           },
           "zerolinecolor": "white",
           "zerolinewidth": 2
          },
          "yaxis": {
           "automargin": true,
           "gridcolor": "white",
           "linecolor": "white",
           "ticks": "",
           "title": {
            "standoff": 15
           },
           "zerolinecolor": "white",
           "zerolinewidth": 2
          }
         }
        },
        "title": {
         "text": "JS Framework Interest in 2017 (based on 2k sample)"
        },
        "xaxis": {
         "anchor": "y",
         "domain": [
          0,
          1
         ],
         "title": {
          "text": "value"
         }
        },
        "yaxis": {
         "anchor": "x",
         "domain": [
          0,
          1
         ],
         "title": {
          "text": "count"
         }
        }
       }
      },
      "text/html": [
       "<div>                            <div id=\"7e47e2a7-a490-4f46-8ded-264c4fef71fc\" class=\"plotly-graph-div\" style=\"height:525px; width:100%;\"></div>            <script type=\"text/javascript\">                require([\"plotly\"], function(Plotly) {                    window.PLOTLYENV=window.PLOTLYENV || {};                                    if (document.getElementById(\"7e47e2a7-a490-4f46-8ded-264c4fef71fc\")) {                    Plotly.newPlot(                        \"7e47e2a7-a490-4f46-8ded-264c4fef71fc\",                        [{\"alignmentgroup\": \"True\", \"bingroup\": \"x\", \"hovertemplate\": \"variable=tags<br>value=%{x}<br>count=%{y}<extra></extra>\", \"legendgroup\": \"tags\", \"marker\": {\"color\": \"#636efa\"}, \"name\": \"tags\", \"offsetgroup\": \"tags\", \"orientation\": \"v\", \"showlegend\": true, \"type\": \"histogram\", \"x\": [\"angular\", \"vue.js\", \"react\", \"vue.js\", \"angular\", \"angular\", \"angular\", \"angular\", \"angular\", \"react\", \"vue.js\", \"react\", \"vue.js\", \"vue.js\", \"angular\", \"react\", \"angular\", \"angular\", \"react\", \"react\", \"angular\", \"react\", \"vue.js\", \"angular\", \"angular\", \"react\", \"angular\", \"angular\", \"angular\", \"angular\", \"react\", \"angular\", \"angular\", \"angular\", \"vue.js\", \"react\", \"react\", \"react\", \"angular\", \"angular\", \"react\", \"angular\", \"react\", \"angular\", \"vue.js\", \"angular\", \"react\", \"angular\", \"angular\", \"react\", \"angular\", \"angular\", \"angular\", \"angular\", \"angular\", \"angular\", \"angular\", \"angular\", \"angular\", \"angular\", \"angular\", \"angular\", \"vue.js\", \"angular\", \"angular\", \"angular\", \"angular\", \"angular\", \"react\", \"angular\", \"angular\", \"react\", \"angular\", \"angular\", \"angular\", \"angular\", \"angular\", \"angular\", \"angular\", \"angular\", \"react\", \"vue.js\", \"angular\", \"react\", \"react\", \"react\", \"react\", \"react\", \"react\", \"angular\", \"react\", \"angular\", \"angular\", \"angular\", \"angular\", \"angular\", \"react\", \"react\", \"angular\", \"react\", \"react\", \"react\", \"react\", \"angular\", \"react\", \"angular\", \"angular\", \"angular\", \"angular\", \"angular\", \"react\", \"angular\", \"react\", \"react\", \"angular\", \"angular\", \"angular\", \"angular\", \"react\", \"react\", \"angular\", \"angular\", \"angular\", \"angular\", \"vue.js\", \"angular\", \"react\", \"react\", \"angular\", \"react\", \"vue.js\", \"react\", \"angular\", \"angular\", \"angular\", \"angular\", \"react\", \"angular\", \"angular\", \"angular\", \"angular\", \"vue.js\", \"angular\", \"angular\", \"angular\", \"react\", \"angular\", \"react\", \"react\", \"angular\", \"angular\", \"angular\", \"angular\", \"react\", \"angular\", \"angular\", \"react\", \"angular\", \"vue.js\", \"react\", \"angular\", \"angular\", \"angular\", \"react\", \"angular\", \"vue.js\", \"react\", \"angular\", \"angular\", \"react\", \"angular\", \"angular\", \"angular\", \"react\", \"angular\", \"angular\", \"angular\", \"react\", \"react\", \"react\", \"angular\", \"angular\", \"react\", \"angular\", \"angular\", \"angular\", \"angular\", \"angular\", \"react\", \"angular\", \"angular\", \"vue.js\", \"angular\", \"react\", \"angular\", \"angular\", \"vue.js\", \"angular\", \"angular\", \"angular\", \"angular\", \"react\", \"angular\", \"react\", \"angular\", \"angular\", \"angular\", \"react\", \"angular\", \"angular\", \"angular\", \"vue.js\", \"react\", \"vue.js\", \"react\", \"react\", \"angular\", \"react\", \"react\", \"angular\", \"angular\", \"angular\", \"react\", \"angular\", \"angular\", \"angular\", \"react\", \"angular\", \"react\", \"react\", \"angular\", \"angular\", \"angular\", \"react\", \"react\", \"angular\", \"angular\", \"react\", \"angular\", \"react\", \"angular\", \"angular\", \"angular\", \"angular\", \"react\", \"react\", \"vue.js\", \"angular\", \"angular\", \"angular\", \"angular\", \"react\", \"react\", \"angular\", \"react\", \"react\", \"vue.js\", \"react\", \"angular\", \"angular\", \"angular\", \"vue.js\", \"react\", \"react\", \"angular\", \"angular\", \"vue.js\", \"angular\", \"vue.js\", \"vue.js\", \"vue.js\", \"angular\", \"vue.js\", \"angular\", \"angular\", \"angular\", \"angular\", \"react\", \"react\", \"angular\", \"vue.js\", \"angular\", \"react\", \"react\", \"angular\", \"react\", \"angular\", \"angular\", \"angular\", \"angular\", \"angular\", \"angular\", \"angular\", \"angular\", \"react\", \"react\", \"angular\", \"angular\", \"react\", \"angular\", \"angular\", \"react\", \"angular\", \"vue.js\", \"angular\", \"angular\", \"angular\", \"angular\", \"angular\", \"angular\", \"react\", \"angular\", \"angular\", \"angular\", \"angular\", \"angular\", \"angular\", \"angular\", \"react\", \"react\", \"angular\", \"react\", \"react\", \"angular\", \"angular\", \"angular\", \"react\", \"angular\", \"angular\", \"angular\", \"angular\", \"react\", \"angular\", \"angular\", \"react\", \"angular\", \"vue.js\", \"react\", \"angular\", \"angular\", \"angular\", \"angular\", \"angular\", \"react\", \"react\", \"angular\", \"react\", \"react\", \"angular\", \"angular\", \"angular\", \"angular\", \"angular\", \"angular\", \"react\", \"angular\", \"react\", \"angular\", \"angular\", \"react\", \"react\", \"angular\", \"angular\", \"react\", \"react\", \"angular\", \"angular\", \"angular\", \"react\", \"angular\", \"angular\", \"angular\", \"angular\", \"angular\", \"react\", \"react\", \"angular\", \"angular\", \"angular\", \"angular\", \"angular\", \"angular\", \"angular\", \"react\", \"react\", \"react\", \"react\", \"react\", \"angular\", \"react\", \"react\", \"angular\", \"angular\", \"react\", \"angular\", \"angular\", \"react\", \"angular\", \"angular\", \"angular\", \"angular\", \"react\", \"angular\", \"react\", \"react\", \"angular\", \"angular\", \"angular\", \"angular\", \"react\", \"angular\", \"angular\", \"angular\", \"angular\", \"react\", \"vue.js\", \"angular\", \"angular\", \"react\", \"angular\", \"angular\", \"react\", \"angular\", \"react\", \"angular\", \"angular\", \"react\", \"react\", \"angular\", \"angular\", \"angular\", \"react\", \"react\", \"angular\", \"angular\", \"react\", \"react\", \"angular\", \"react\", \"angular\", \"angular\", \"react\", \"react\", \"react\", \"angular\", \"angular\", \"react\", \"react\", \"angular\", \"angular\", \"angular\", \"angular\", \"angular\", \"angular\", \"angular\", \"react\", \"react\", \"angular\", \"react\", \"react\", \"angular\", \"react\", \"react\", \"react\", \"react\", \"angular\", \"react\", \"angular\", \"angular\", \"angular\", \"react\", \"angular\", \"react\", \"react\", \"angular\", \"react\", \"angular\", \"angular\", \"angular\", \"react\", \"angular\", \"angular\", \"angular\", \"react\", \"react\", \"angular\", \"angular\", \"angular\", \"react\", \"angular\", \"angular\", \"angular\", \"react\", \"angular\", \"angular\", \"angular\", \"react\", \"vue.js\", \"angular\", \"angular\", \"angular\", \"angular\", \"angular\", \"react\", \"react\", \"angular\", \"angular\", \"angular\", \"angular\", \"react\", \"angular\", \"react\", \"angular\", \"react\", \"react\", \"angular\", \"angular\", \"angular\", \"angular\", \"angular\", \"react\", \"angular\", \"angular\", \"react\", \"react\", \"react\", \"react\", \"react\", \"react\", \"angular\", \"angular\", \"angular\", \"angular\", \"angular\", \"angular\", \"react\", \"react\", \"angular\", \"react\", \"angular\", \"angular\", \"react\", \"angular\", \"angular\", \"react\", \"react\", \"react\", \"react\", \"react\", \"angular\", \"angular\", \"angular\", \"react\", \"react\", \"angular\", \"react\", \"angular\", \"vue.js\", \"angular\", \"angular\", \"angular\", \"angular\", \"angular\", \"react\", \"angular\", \"vue.js\", \"react\", \"react\", \"react\", \"react\", \"angular\", \"angular\", \"angular\", \"angular\", \"react\", \"react\", \"react\", \"react\", \"angular\", \"react\", \"angular\", \"vue.js\", \"vue.js\", \"angular\", \"react\", \"react\", \"angular\", \"react\", \"angular\", \"angular\", \"angular\", \"angular\", \"angular\", \"angular\", \"angular\", \"vue.js\", \"angular\", \"angular\", \"vue.js\", \"angular\", \"react\", \"react\", \"angular\", \"angular\", \"react\", \"angular\", \"angular\", \"angular\", \"react\", \"angular\", \"react\", \"angular\", \"angular\", \"angular\", \"angular\", \"react\", \"react\", \"angular\", \"react\", \"angular\", \"angular\", \"react\", \"react\", \"react\", \"angular\", \"angular\", \"angular\", \"react\", \"react\", \"react\", \"angular\", \"angular\", \"react\", \"react\", \"angular\", \"angular\", \"vue.js\", \"vue.js\", \"angular\", \"react\", \"angular\", \"angular\"], \"xaxis\": \"x\", \"yaxis\": \"y\"}],                        {\"barmode\": \"relative\", \"legend\": {\"title\": {\"text\": \"variable\"}, \"tracegroupgap\": 0}, \"template\": {\"data\": {\"bar\": [{\"error_x\": {\"color\": \"#2a3f5f\"}, \"error_y\": {\"color\": \"#2a3f5f\"}, \"marker\": {\"line\": {\"color\": \"#E5ECF6\", \"width\": 0.5}}, \"type\": \"bar\"}], \"barpolar\": [{\"marker\": {\"line\": {\"color\": \"#E5ECF6\", \"width\": 0.5}}, \"type\": \"barpolar\"}], \"carpet\": [{\"aaxis\": {\"endlinecolor\": \"#2a3f5f\", \"gridcolor\": \"white\", \"linecolor\": \"white\", \"minorgridcolor\": \"white\", \"startlinecolor\": \"#2a3f5f\"}, \"baxis\": {\"endlinecolor\": \"#2a3f5f\", \"gridcolor\": \"white\", \"linecolor\": \"white\", \"minorgridcolor\": \"white\", \"startlinecolor\": \"#2a3f5f\"}, \"type\": \"carpet\"}], \"choropleth\": [{\"colorbar\": {\"outlinewidth\": 0, \"ticks\": \"\"}, \"type\": \"choropleth\"}], \"contour\": [{\"colorbar\": {\"outlinewidth\": 0, \"ticks\": \"\"}, \"colorscale\": [[0.0, \"#0d0887\"], [0.1111111111111111, \"#46039f\"], [0.2222222222222222, \"#7201a8\"], [0.3333333333333333, \"#9c179e\"], [0.4444444444444444, \"#bd3786\"], [0.5555555555555556, \"#d8576b\"], [0.6666666666666666, \"#ed7953\"], [0.7777777777777778, \"#fb9f3a\"], [0.8888888888888888, \"#fdca26\"], [1.0, \"#f0f921\"]], \"type\": \"contour\"}], \"contourcarpet\": [{\"colorbar\": {\"outlinewidth\": 0, \"ticks\": \"\"}, \"type\": \"contourcarpet\"}], \"heatmap\": [{\"colorbar\": {\"outlinewidth\": 0, \"ticks\": \"\"}, \"colorscale\": [[0.0, \"#0d0887\"], [0.1111111111111111, \"#46039f\"], [0.2222222222222222, \"#7201a8\"], [0.3333333333333333, \"#9c179e\"], [0.4444444444444444, \"#bd3786\"], [0.5555555555555556, \"#d8576b\"], [0.6666666666666666, \"#ed7953\"], [0.7777777777777778, \"#fb9f3a\"], [0.8888888888888888, \"#fdca26\"], [1.0, \"#f0f921\"]], \"type\": \"heatmap\"}], \"heatmapgl\": [{\"colorbar\": {\"outlinewidth\": 0, \"ticks\": \"\"}, \"colorscale\": [[0.0, \"#0d0887\"], [0.1111111111111111, \"#46039f\"], [0.2222222222222222, \"#7201a8\"], [0.3333333333333333, \"#9c179e\"], [0.4444444444444444, \"#bd3786\"], [0.5555555555555556, \"#d8576b\"], [0.6666666666666666, \"#ed7953\"], [0.7777777777777778, \"#fb9f3a\"], [0.8888888888888888, \"#fdca26\"], [1.0, \"#f0f921\"]], \"type\": \"heatmapgl\"}], \"histogram\": [{\"marker\": {\"colorbar\": {\"outlinewidth\": 0, \"ticks\": \"\"}}, \"type\": \"histogram\"}], \"histogram2d\": [{\"colorbar\": {\"outlinewidth\": 0, \"ticks\": \"\"}, \"colorscale\": [[0.0, \"#0d0887\"], [0.1111111111111111, \"#46039f\"], [0.2222222222222222, \"#7201a8\"], [0.3333333333333333, \"#9c179e\"], [0.4444444444444444, \"#bd3786\"], [0.5555555555555556, \"#d8576b\"], [0.6666666666666666, \"#ed7953\"], [0.7777777777777778, \"#fb9f3a\"], [0.8888888888888888, \"#fdca26\"], [1.0, \"#f0f921\"]], \"type\": \"histogram2d\"}], \"histogram2dcontour\": [{\"colorbar\": {\"outlinewidth\": 0, \"ticks\": \"\"}, \"colorscale\": [[0.0, \"#0d0887\"], [0.1111111111111111, \"#46039f\"], [0.2222222222222222, \"#7201a8\"], [0.3333333333333333, \"#9c179e\"], [0.4444444444444444, \"#bd3786\"], [0.5555555555555556, \"#d8576b\"], [0.6666666666666666, \"#ed7953\"], [0.7777777777777778, \"#fb9f3a\"], [0.8888888888888888, \"#fdca26\"], [1.0, \"#f0f921\"]], \"type\": \"histogram2dcontour\"}], \"mesh3d\": [{\"colorbar\": {\"outlinewidth\": 0, \"ticks\": \"\"}, \"type\": \"mesh3d\"}], \"parcoords\": [{\"line\": {\"colorbar\": {\"outlinewidth\": 0, \"ticks\": \"\"}}, \"type\": \"parcoords\"}], \"pie\": [{\"automargin\": true, \"type\": \"pie\"}], \"scatter\": [{\"marker\": {\"colorbar\": {\"outlinewidth\": 0, \"ticks\": \"\"}}, \"type\": \"scatter\"}], \"scatter3d\": [{\"line\": {\"colorbar\": {\"outlinewidth\": 0, \"ticks\": \"\"}}, \"marker\": {\"colorbar\": {\"outlinewidth\": 0, \"ticks\": \"\"}}, \"type\": \"scatter3d\"}], \"scattercarpet\": [{\"marker\": {\"colorbar\": {\"outlinewidth\": 0, \"ticks\": \"\"}}, \"type\": \"scattercarpet\"}], \"scattergeo\": [{\"marker\": {\"colorbar\": {\"outlinewidth\": 0, \"ticks\": \"\"}}, \"type\": \"scattergeo\"}], \"scattergl\": [{\"marker\": {\"colorbar\": {\"outlinewidth\": 0, \"ticks\": \"\"}}, \"type\": \"scattergl\"}], \"scattermapbox\": [{\"marker\": {\"colorbar\": {\"outlinewidth\": 0, \"ticks\": \"\"}}, \"type\": \"scattermapbox\"}], \"scatterpolar\": [{\"marker\": {\"colorbar\": {\"outlinewidth\": 0, \"ticks\": \"\"}}, \"type\": \"scatterpolar\"}], \"scatterpolargl\": [{\"marker\": {\"colorbar\": {\"outlinewidth\": 0, \"ticks\": \"\"}}, \"type\": \"scatterpolargl\"}], \"scatterternary\": [{\"marker\": {\"colorbar\": {\"outlinewidth\": 0, \"ticks\": \"\"}}, \"type\": \"scatterternary\"}], \"surface\": [{\"colorbar\": {\"outlinewidth\": 0, \"ticks\": \"\"}, \"colorscale\": [[0.0, \"#0d0887\"], [0.1111111111111111, \"#46039f\"], [0.2222222222222222, \"#7201a8\"], [0.3333333333333333, \"#9c179e\"], [0.4444444444444444, \"#bd3786\"], [0.5555555555555556, \"#d8576b\"], [0.6666666666666666, \"#ed7953\"], [0.7777777777777778, \"#fb9f3a\"], [0.8888888888888888, \"#fdca26\"], [1.0, \"#f0f921\"]], \"type\": \"surface\"}], \"table\": [{\"cells\": {\"fill\": {\"color\": \"#EBF0F8\"}, \"line\": {\"color\": \"white\"}}, \"header\": {\"fill\": {\"color\": \"#C8D4E3\"}, \"line\": {\"color\": \"white\"}}, \"type\": \"table\"}]}, \"layout\": {\"annotationdefaults\": {\"arrowcolor\": \"#2a3f5f\", \"arrowhead\": 0, \"arrowwidth\": 1}, \"coloraxis\": {\"colorbar\": {\"outlinewidth\": 0, \"ticks\": \"\"}}, \"colorscale\": {\"diverging\": [[0, \"#8e0152\"], [0.1, \"#c51b7d\"], [0.2, \"#de77ae\"], [0.3, \"#f1b6da\"], [0.4, \"#fde0ef\"], [0.5, \"#f7f7f7\"], [0.6, \"#e6f5d0\"], [0.7, \"#b8e186\"], [0.8, \"#7fbc41\"], [0.9, \"#4d9221\"], [1, \"#276419\"]], \"sequential\": [[0.0, \"#0d0887\"], [0.1111111111111111, \"#46039f\"], [0.2222222222222222, \"#7201a8\"], [0.3333333333333333, \"#9c179e\"], [0.4444444444444444, \"#bd3786\"], [0.5555555555555556, \"#d8576b\"], [0.6666666666666666, \"#ed7953\"], [0.7777777777777778, \"#fb9f3a\"], [0.8888888888888888, \"#fdca26\"], [1.0, \"#f0f921\"]], \"sequentialminus\": [[0.0, \"#0d0887\"], [0.1111111111111111, \"#46039f\"], [0.2222222222222222, \"#7201a8\"], [0.3333333333333333, \"#9c179e\"], [0.4444444444444444, \"#bd3786\"], [0.5555555555555556, \"#d8576b\"], [0.6666666666666666, \"#ed7953\"], [0.7777777777777778, \"#fb9f3a\"], [0.8888888888888888, \"#fdca26\"], [1.0, \"#f0f921\"]]}, \"colorway\": [\"#636efa\", \"#EF553B\", \"#00cc96\", \"#ab63fa\", \"#FFA15A\", \"#19d3f3\", \"#FF6692\", \"#B6E880\", \"#FF97FF\", \"#FECB52\"], \"font\": {\"color\": \"#2a3f5f\"}, \"geo\": {\"bgcolor\": \"white\", \"lakecolor\": \"white\", \"landcolor\": \"#E5ECF6\", \"showlakes\": true, \"showland\": true, \"subunitcolor\": \"white\"}, \"hoverlabel\": {\"align\": \"left\"}, \"hovermode\": \"closest\", \"mapbox\": {\"style\": \"light\"}, \"paper_bgcolor\": \"white\", \"plot_bgcolor\": \"#E5ECF6\", \"polar\": {\"angularaxis\": {\"gridcolor\": \"white\", \"linecolor\": \"white\", \"ticks\": \"\"}, \"bgcolor\": \"#E5ECF6\", \"radialaxis\": {\"gridcolor\": \"white\", \"linecolor\": \"white\", \"ticks\": \"\"}}, \"scene\": {\"xaxis\": {\"backgroundcolor\": \"#E5ECF6\", \"gridcolor\": \"white\", \"gridwidth\": 2, \"linecolor\": \"white\", \"showbackground\": true, \"ticks\": \"\", \"zerolinecolor\": \"white\"}, \"yaxis\": {\"backgroundcolor\": \"#E5ECF6\", \"gridcolor\": \"white\", \"gridwidth\": 2, \"linecolor\": \"white\", \"showbackground\": true, \"ticks\": \"\", \"zerolinecolor\": \"white\"}, \"zaxis\": {\"backgroundcolor\": \"#E5ECF6\", \"gridcolor\": \"white\", \"gridwidth\": 2, \"linecolor\": \"white\", \"showbackground\": true, \"ticks\": \"\", \"zerolinecolor\": \"white\"}}, \"shapedefaults\": {\"line\": {\"color\": \"#2a3f5f\"}}, \"ternary\": {\"aaxis\": {\"gridcolor\": \"white\", \"linecolor\": \"white\", \"ticks\": \"\"}, \"baxis\": {\"gridcolor\": \"white\", \"linecolor\": \"white\", \"ticks\": \"\"}, \"bgcolor\": \"#E5ECF6\", \"caxis\": {\"gridcolor\": \"white\", \"linecolor\": \"white\", \"ticks\": \"\"}}, \"title\": {\"x\": 0.05}, \"xaxis\": {\"automargin\": true, \"gridcolor\": \"white\", \"linecolor\": \"white\", \"ticks\": \"\", \"title\": {\"standoff\": 15}, \"zerolinecolor\": \"white\", \"zerolinewidth\": 2}, \"yaxis\": {\"automargin\": true, \"gridcolor\": \"white\", \"linecolor\": \"white\", \"ticks\": \"\", \"title\": {\"standoff\": 15}, \"zerolinecolor\": \"white\", \"zerolinewidth\": 2}}}, \"title\": {\"text\": \"JS Framework Interest in 2017 (based on 2k sample)\"}, \"xaxis\": {\"anchor\": \"y\", \"domain\": [0.0, 1.0], \"title\": {\"text\": \"value\"}}, \"yaxis\": {\"anchor\": \"x\", \"domain\": [0.0, 1.0], \"title\": {\"text\": \"count\"}}},                        {\"responsive\": true}                    ).then(function(){\n",
       "                            \n",
       "var gd = document.getElementById('7e47e2a7-a490-4f46-8ded-264c4fef71fc');\n",
       "var x = new MutationObserver(function (mutations, observer) {{\n",
       "        var display = window.getComputedStyle(gd).display;\n",
       "        if (!display || display === 'none') {{\n",
       "            console.log([gd, 'removed!']);\n",
       "            Plotly.purge(gd);\n",
       "            observer.disconnect();\n",
       "        }}\n",
       "}});\n",
       "\n",
       "// Listen for the removal of the full notebook cells\n",
       "var notebookContainer = gd.closest('#notebook-container');\n",
       "if (notebookContainer) {{\n",
       "    x.observe(notebookContainer, {childList: true});\n",
       "}}\n",
       "\n",
       "// Listen for the clearing of the current output cell\n",
       "var outputEl = gd.closest('.output');\n",
       "if (outputEl) {{\n",
       "    x.observe(outputEl, {childList: true});\n",
       "}}\n",
       "\n",
       "                        })                };                });            </script>        </div>"
      ]
     },
     "metadata": {},
     "output_type": "display_data"
    }
   ],
   "source": [
    "yearMask = myDf['creation_date']==2019\n",
    "\n",
    "yearDf = myDf[yearMask]['tags']\n",
    "\n",
    "hist = px.histogram(yearDf, title=\"JS Framework Interest in 2019 (based on 2k sample)\")\n",
    "hist.show()\n",
    "\n",
    "yearMask = myDf['creation_date']==2018\n",
    "\n",
    "yearDf = myDf[yearMask]['tags']\n",
    "\n",
    "hist = px.histogram(yearDf, title=\"JS Framework Interest in 2018 (based on 2k sample)\")\n",
    "hist.show()\n",
    "\n",
    "yearMask = myDf['creation_date']==2017\n",
    "\n",
    "yearDf = myDf[yearMask]['tags']\n",
    "\n",
    "hist = px.histogram(yearDf, title=\"JS Framework Interest in 2017 (based on 2k sample)\")\n",
    "hist.show()"
   ]
  },
  {
   "cell_type": "code",
   "execution_count": null,
   "metadata": {},
   "outputs": [],
   "source": [
    "tagDf = myDf.drop(columns='r')\n",
    "tagDf['count'] = 1\n",
    "tagDf = tagDf.groupby(['tags', 'creation_date']).count().unstack()\n",
    "\n",
    "print(tagDf['count'])\n",
    "hist = px.histogram(tagDf, x=['view.js', 'angular', 'react'], color=[2017,2018,2019], y='count', title=\"JS Framework Interests in 2019 (based on 5k sample)\", barmode=\"group\")\n",
    "hist.show()"
   ]
  },
  {
   "cell_type": "code",
   "execution_count": null,
   "metadata": {},
   "outputs": [],
   "source": []
  }
 ],
 "metadata": {
  "kernelspec": {
   "display_name": "Python 3",
   "language": "python",
   "name": "python3"
  },
  "language_info": {
   "codemirror_mode": {
    "name": "ipython",
    "version": 3
   },
   "file_extension": ".py",
   "mimetype": "text/x-python",
   "name": "python",
   "nbconvert_exporter": "python",
   "pygments_lexer": "ipython3",
   "version": "3.8.3"
  }
 },
 "nbformat": 4,
 "nbformat_minor": 4
}
