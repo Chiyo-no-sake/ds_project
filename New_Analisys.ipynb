{
 "cells": [
  {
   "cell_type": "code",
   "execution_count": null,
   "metadata": {},
   "outputs": [],
   "source": [
    "'''\n",
    "Studio che confronta come i framework e le tecnologie informatiche per lo sviluppo di applicativi\n",
    "guadagnino o perdino interesse con il passare del tempo e l'arrivo di nuove tecnologie che\n",
    "sostituiscono le vecchie\n",
    "\n",
    "1) Front-End\n",
    "Mettiamo a confronto la popolarità di framework JS contro l'utilizzo di tecnologie più a basso livello\n",
    "    * Angular vs Vue vs React vs JQuery\n",
    "    *   (tutte le domande che hanno tag (HTML o Javascript o css) ma NON vue, react, angular) \n",
    "        vs (n* di domande con vue react o angular)\n",
    "\n",
    "2) Back-End\n",
    "Mettiamo a confronto la popolarità di framework backend contro l'utilizzo di tecnologie più a basso livello\n",
    "    * (tags=(PHP + ASP + Servlet ma NON express, spring, js, node.js, laravel, symphony, ruby on rails))\n",
    "        va (tags=(express, spring, laravel, symphony, ruby on rails))\n",
    "\n",
    "3) Confronto di periodo scolastico (x3 anni)\n",
    " a) plottare le richieste high-level su un periodo di un anno \n",
    " b) plottare le richieste low-lovel su un periodo di un anno\n",
    " -- confrontare i due dataset per vedere se entrambi nel periodo scolastico aumentano oppure no\n",
    "'''"
   ]
  },
  {
   "cell_type": "code",
   "execution_count": 1,
   "metadata": {},
   "outputs": [],
   "source": [
    "import pandas as pd\n",
    "import plotly.express as px\n",
    "import numpy as np\n",
    "import plotly.graph_objects as go\n",
    "from datetime import datetime"
   ]
  },
  {
   "cell_type": "code",
   "execution_count": 24,
   "metadata": {},
   "outputs": [
    {
     "data": {
      "text/html": [
       "<div>\n",
       "<style scoped>\n",
       "    .dataframe tbody tr th:only-of-type {\n",
       "        vertical-align: middle;\n",
       "    }\n",
       "\n",
       "    .dataframe tbody tr th {\n",
       "        vertical-align: top;\n",
       "    }\n",
       "\n",
       "    .dataframe thead th {\n",
       "        text-align: right;\n",
       "    }\n",
       "</style>\n",
       "<table border=\"1\" class=\"dataframe\">\n",
       "  <thead>\n",
       "    <tr style=\"text-align: right;\">\n",
       "      <th></th>\n",
       "      <th>Unnamed: 0</th>\n",
       "      <th>technology</th>\n",
       "      <th>month</th>\n",
       "    </tr>\n",
       "  </thead>\n",
       "  <tbody>\n",
       "    <tr>\n",
       "      <th>0</th>\n",
       "      <td>0</td>\n",
       "      <td>none</td>\n",
       "      <td>2013-12</td>\n",
       "    </tr>\n",
       "    <tr>\n",
       "      <th>1</th>\n",
       "      <td>1</td>\n",
       "      <td>none</td>\n",
       "      <td>2018-10</td>\n",
       "    </tr>\n",
       "    <tr>\n",
       "      <th>2</th>\n",
       "      <td>2</td>\n",
       "      <td>none</td>\n",
       "      <td>2014-05</td>\n",
       "    </tr>\n",
       "    <tr>\n",
       "      <th>3</th>\n",
       "      <td>3</td>\n",
       "      <td>asp</td>\n",
       "      <td>2016-10</td>\n",
       "    </tr>\n",
       "    <tr>\n",
       "      <th>4</th>\n",
       "      <td>4</td>\n",
       "      <td>none</td>\n",
       "      <td>2011-04</td>\n",
       "    </tr>\n",
       "    <tr>\n",
       "      <th>...</th>\n",
       "      <td>...</td>\n",
       "      <td>...</td>\n",
       "      <td>...</td>\n",
       "    </tr>\n",
       "    <tr>\n",
       "      <th>999995</th>\n",
       "      <td>999995</td>\n",
       "      <td>none</td>\n",
       "      <td>2015-11</td>\n",
       "    </tr>\n",
       "    <tr>\n",
       "      <th>999996</th>\n",
       "      <td>999996</td>\n",
       "      <td>ruby-on-rails</td>\n",
       "      <td>2014-06</td>\n",
       "    </tr>\n",
       "    <tr>\n",
       "      <th>999997</th>\n",
       "      <td>999997</td>\n",
       "      <td>none</td>\n",
       "      <td>2013-08</td>\n",
       "    </tr>\n",
       "    <tr>\n",
       "      <th>999998</th>\n",
       "      <td>999998</td>\n",
       "      <td>none</td>\n",
       "      <td>2016-02</td>\n",
       "    </tr>\n",
       "    <tr>\n",
       "      <th>999999</th>\n",
       "      <td>999999</td>\n",
       "      <td>none</td>\n",
       "      <td>2020-08</td>\n",
       "    </tr>\n",
       "  </tbody>\n",
       "</table>\n",
       "<p>1000000 rows × 3 columns</p>\n",
       "</div>"
      ],
      "text/plain": [
       "        Unnamed: 0     technology    month\n",
       "0                0           none  2013-12\n",
       "1                1           none  2018-10\n",
       "2                2           none  2014-05\n",
       "3                3            asp  2016-10\n",
       "4                4           none  2011-04\n",
       "...            ...            ...      ...\n",
       "999995      999995           none  2015-11\n",
       "999996      999996  ruby-on-rails  2014-06\n",
       "999997      999997           none  2013-08\n",
       "999998      999998           none  2016-02\n",
       "999999      999999           none  2020-08\n",
       "\n",
       "[1000000 rows x 3 columns]"
      ]
     },
     "execution_count": 24,
     "metadata": {},
     "output_type": "execute_result"
    }
   ],
   "source": [
    "####### Dataframe Load ##########\n",
    "tags_df = pd.read_csv('tags_dataframe.csv')\n",
    "tags_df"
   ]
  },
  {
   "cell_type": "code",
   "execution_count": 25,
   "metadata": {},
   "outputs": [
    {
     "data": {
      "text/html": [
       "<div>\n",
       "<style scoped>\n",
       "    .dataframe tbody tr th:only-of-type {\n",
       "        vertical-align: middle;\n",
       "    }\n",
       "\n",
       "    .dataframe tbody tr th {\n",
       "        vertical-align: top;\n",
       "    }\n",
       "\n",
       "    .dataframe thead th {\n",
       "        text-align: right;\n",
       "    }\n",
       "</style>\n",
       "<table border=\"1\" class=\"dataframe\">\n",
       "  <thead>\n",
       "    <tr style=\"text-align: right;\">\n",
       "      <th></th>\n",
       "      <th>Unnamed: 0</th>\n",
       "      <th>technology</th>\n",
       "      <th>month</th>\n",
       "    </tr>\n",
       "  </thead>\n",
       "  <tbody>\n",
       "    <tr>\n",
       "      <th>0</th>\n",
       "      <td>0</td>\n",
       "      <td>none</td>\n",
       "      <td>2013-12</td>\n",
       "    </tr>\n",
       "    <tr>\n",
       "      <th>1</th>\n",
       "      <td>1</td>\n",
       "      <td>none</td>\n",
       "      <td>2018-10</td>\n",
       "    </tr>\n",
       "    <tr>\n",
       "      <th>2</th>\n",
       "      <td>2</td>\n",
       "      <td>none</td>\n",
       "      <td>2014-05</td>\n",
       "    </tr>\n",
       "    <tr>\n",
       "      <th>3</th>\n",
       "      <td>3</td>\n",
       "      <td>none</td>\n",
       "      <td>2016-10</td>\n",
       "    </tr>\n",
       "    <tr>\n",
       "      <th>4</th>\n",
       "      <td>4</td>\n",
       "      <td>none</td>\n",
       "      <td>2011-04</td>\n",
       "    </tr>\n",
       "    <tr>\n",
       "      <th>...</th>\n",
       "      <td>...</td>\n",
       "      <td>...</td>\n",
       "      <td>...</td>\n",
       "    </tr>\n",
       "    <tr>\n",
       "      <th>999995</th>\n",
       "      <td>999995</td>\n",
       "      <td>none</td>\n",
       "      <td>2015-11</td>\n",
       "    </tr>\n",
       "    <tr>\n",
       "      <th>999996</th>\n",
       "      <td>999996</td>\n",
       "      <td>none</td>\n",
       "      <td>2014-06</td>\n",
       "    </tr>\n",
       "    <tr>\n",
       "      <th>999997</th>\n",
       "      <td>999997</td>\n",
       "      <td>none</td>\n",
       "      <td>2013-08</td>\n",
       "    </tr>\n",
       "    <tr>\n",
       "      <th>999998</th>\n",
       "      <td>999998</td>\n",
       "      <td>none</td>\n",
       "      <td>2016-02</td>\n",
       "    </tr>\n",
       "    <tr>\n",
       "      <th>999999</th>\n",
       "      <td>999999</td>\n",
       "      <td>none</td>\n",
       "      <td>2020-08</td>\n",
       "    </tr>\n",
       "  </tbody>\n",
       "</table>\n",
       "<p>1000000 rows × 3 columns</p>\n",
       "</div>"
      ],
      "text/plain": [
       "        Unnamed: 0 technology    month\n",
       "0                0       none  2013-12\n",
       "1                1       none  2018-10\n",
       "2                2       none  2014-05\n",
       "3                3       none  2016-10\n",
       "4                4       none  2011-04\n",
       "...            ...        ...      ...\n",
       "999995      999995       none  2015-11\n",
       "999996      999996       none  2014-06\n",
       "999997      999997       none  2013-08\n",
       "999998      999998       none  2016-02\n",
       "999999      999999       none  2020-08\n",
       "\n",
       "[1000000 rows x 3 columns]"
      ]
     },
     "execution_count": 25,
     "metadata": {},
     "output_type": "execute_result"
    }
   ],
   "source": [
    "####### FRONTEND - READING old vs new ##########\n",
    "def strCont(string, x):\n",
    "    return string.find(x) != -1\n",
    "\n",
    "def tagToOldNew(x):\n",
    "    if(strCont(x, 'react') or strCont(x, 'angular') or strCont(x, 'vue')):\n",
    "        return 'new'\n",
    "    elif(strCont(x, 'html') or strCont(x, 'javascript')):\n",
    "        return 'old'\n",
    "    else:\n",
    "        return 'none'\n",
    "\n",
    "frontend_ovn = tags_df.copy()\n",
    "frontend_ovn['technology'] = frontend_ovn['technology'].map(tagToOldNew)\n",
    "frontend_ovn"
   ]
  },
  {
   "cell_type": "code",
   "execution_count": 26,
   "metadata": {},
   "outputs": [
    {
     "data": {
      "text/html": [
       "<div>\n",
       "<style scoped>\n",
       "    .dataframe tbody tr th:only-of-type {\n",
       "        vertical-align: middle;\n",
       "    }\n",
       "\n",
       "    .dataframe tbody tr th {\n",
       "        vertical-align: top;\n",
       "    }\n",
       "\n",
       "    .dataframe thead th {\n",
       "        text-align: right;\n",
       "    }\n",
       "</style>\n",
       "<table border=\"1\" class=\"dataframe\">\n",
       "  <thead>\n",
       "    <tr style=\"text-align: right;\">\n",
       "      <th>technology</th>\n",
       "      <th>new</th>\n",
       "      <th>none</th>\n",
       "      <th>old</th>\n",
       "    </tr>\n",
       "    <tr>\n",
       "      <th>month</th>\n",
       "      <th></th>\n",
       "      <th></th>\n",
       "      <th></th>\n",
       "    </tr>\n",
       "  </thead>\n",
       "  <tbody>\n",
       "    <tr>\n",
       "      <th>2008-07</th>\n",
       "      <td>0</td>\n",
       "      <td>1</td>\n",
       "      <td>0</td>\n",
       "    </tr>\n",
       "    <tr>\n",
       "      <th>2008-08</th>\n",
       "      <td>0</td>\n",
       "      <td>177</td>\n",
       "      <td>11</td>\n",
       "    </tr>\n",
       "    <tr>\n",
       "      <th>2008-09</th>\n",
       "      <td>0</td>\n",
       "      <td>633</td>\n",
       "      <td>41</td>\n",
       "    </tr>\n",
       "    <tr>\n",
       "      <th>2008-10</th>\n",
       "      <td>0</td>\n",
       "      <td>747</td>\n",
       "      <td>48</td>\n",
       "    </tr>\n",
       "    <tr>\n",
       "      <th>2008-11</th>\n",
       "      <td>0</td>\n",
       "      <td>584</td>\n",
       "      <td>46</td>\n",
       "    </tr>\n",
       "    <tr>\n",
       "      <th>...</th>\n",
       "      <td>...</td>\n",
       "      <td>...</td>\n",
       "      <td>...</td>\n",
       "    </tr>\n",
       "    <tr>\n",
       "      <th>2020-05</th>\n",
       "      <td>1061</td>\n",
       "      <td>9189</td>\n",
       "      <td>1155</td>\n",
       "    </tr>\n",
       "    <tr>\n",
       "      <th>2020-06</th>\n",
       "      <td>987</td>\n",
       "      <td>8439</td>\n",
       "      <td>1084</td>\n",
       "    </tr>\n",
       "    <tr>\n",
       "      <th>2020-07</th>\n",
       "      <td>1019</td>\n",
       "      <td>8256</td>\n",
       "      <td>996</td>\n",
       "    </tr>\n",
       "    <tr>\n",
       "      <th>2020-08</th>\n",
       "      <td>931</td>\n",
       "      <td>7945</td>\n",
       "      <td>963</td>\n",
       "    </tr>\n",
       "    <tr>\n",
       "      <th>2020-09</th>\n",
       "      <td>147</td>\n",
       "      <td>1461</td>\n",
       "      <td>181</td>\n",
       "    </tr>\n",
       "  </tbody>\n",
       "</table>\n",
       "<p>147 rows × 3 columns</p>\n",
       "</div>"
      ],
      "text/plain": [
       "technology   new  none   old\n",
       "month                       \n",
       "2008-07        0     1     0\n",
       "2008-08        0   177    11\n",
       "2008-09        0   633    41\n",
       "2008-10        0   747    48\n",
       "2008-11        0   584    46\n",
       "...          ...   ...   ...\n",
       "2020-05     1061  9189  1155\n",
       "2020-06      987  8439  1084\n",
       "2020-07     1019  8256   996\n",
       "2020-08      931  7945   963\n",
       "2020-09      147  1461   181\n",
       "\n",
       "[147 rows x 3 columns]"
      ]
     },
     "execution_count": 26,
     "metadata": {},
     "output_type": "execute_result"
    }
   ],
   "source": [
    "####### 2 FRONTEND - group ##########\n",
    "tab_ovn = frontend_ovn.groupby([\"month\", \"technology\"]).size().unstack(fill_value=0)\n",
    "tab_ovn"
   ]
  },
  {
   "cell_type": "code",
   "execution_count": 27,
   "metadata": {},
   "outputs": [
    {
     "data": {
      "application/vnd.plotly.v1+json": {
       "config": {
        "plotlyServerURL": "https://plot.ly"
       },
       "data": [
        {
         "line": {
          "color": "#e74c3c",
          "width": 2
         },
         "mode": "lines",
         "name": "Old Technologies",
         "type": "scatter",
         "x": [
          "2008-07",
          "2008-08",
          "2008-09",
          "2008-10",
          "2008-11",
          "2008-12",
          "2009-01",
          "2009-02",
          "2009-03",
          "2009-04",
          "2009-05",
          "2009-06",
          "2009-07",
          "2009-08",
          "2009-09",
          "2009-10",
          "2009-11",
          "2009-12",
          "2010-01",
          "2010-02",
          "2010-03",
          "2010-04",
          "2010-05",
          "2010-06",
          "2010-07",
          "2010-08",
          "2010-09",
          "2010-10",
          "2010-11",
          "2010-12",
          "2011-01",
          "2011-02",
          "2011-03",
          "2011-04",
          "2011-05",
          "2011-06",
          "2011-07",
          "2011-08",
          "2011-09",
          "2011-10",
          "2011-11",
          "2011-12",
          "2012-01",
          "2012-02",
          "2012-03",
          "2012-04",
          "2012-05",
          "2012-06",
          "2012-07",
          "2012-08",
          "2012-09",
          "2012-10",
          "2012-11",
          "2012-12",
          "2013-01",
          "2013-02",
          "2013-03",
          "2013-04",
          "2013-05",
          "2013-06",
          "2013-07",
          "2013-08",
          "2013-09",
          "2013-10",
          "2013-11",
          "2013-12",
          "2014-01",
          "2014-02",
          "2014-03",
          "2014-04",
          "2014-05",
          "2014-06",
          "2014-07",
          "2014-08",
          "2014-09",
          "2014-10",
          "2014-11",
          "2014-12",
          "2015-01",
          "2015-02",
          "2015-03",
          "2015-04",
          "2015-05",
          "2015-06",
          "2015-07",
          "2015-08",
          "2015-09",
          "2015-10",
          "2015-11",
          "2015-12",
          "2016-01",
          "2016-02",
          "2016-03",
          "2016-04",
          "2016-05",
          "2016-06",
          "2016-07",
          "2016-08",
          "2016-09",
          "2016-10",
          "2016-11",
          "2016-12",
          "2017-01",
          "2017-02",
          "2017-03",
          "2017-04",
          "2017-05",
          "2017-06",
          "2017-07",
          "2017-08",
          "2017-09",
          "2017-10",
          "2017-11",
          "2017-12",
          "2018-01",
          "2018-02",
          "2018-03",
          "2018-04",
          "2018-05",
          "2018-06",
          "2018-07",
          "2018-08",
          "2018-09",
          "2018-10",
          "2018-11",
          "2018-12",
          "2019-01",
          "2019-02",
          "2019-03",
          "2019-04",
          "2019-05",
          "2019-06",
          "2019-07",
          "2019-08",
          "2019-09",
          "2019-10",
          "2019-11",
          "2019-12",
          "2020-01",
          "2020-02",
          "2020-03",
          "2020-04",
          "2020-05",
          "2020-06",
          "2020-07",
          "2020-08",
          "2020-09"
         ],
         "y": [
          0,
          11,
          41,
          48,
          46,
          36,
          42,
          66,
          64,
          62,
          65,
          105,
          115,
          110,
          119,
          137,
          144,
          132,
          179,
          209,
          216,
          192,
          221,
          227,
          247,
          263,
          250,
          224,
          300,
          313,
          367,
          365,
          464,
          442,
          452,
          507,
          544,
          615,
          538,
          557,
          608,
          578,
          558,
          684,
          774,
          762,
          742,
          775,
          774,
          866,
          737,
          859,
          855,
          813,
          978,
          968,
          1035,
          1118,
          1059,
          1044,
          1177,
          1121,
          1105,
          1204,
          1103,
          1160,
          1312,
          1266,
          1347,
          1341,
          1198,
          1063,
          1200,
          1062,
          1167,
          1125,
          1062,
          983,
          1024,
          1069,
          1259,
          1187,
          1258,
          1269,
          1337,
          1197,
          1156,
          1174,
          1110,
          1097,
          1119,
          1179,
          1268,
          1224,
          1137,
          1133,
          1105,
          1186,
          1005,
          990,
          1030,
          956,
          1082,
          1043,
          1196,
          1069,
          1089,
          1114,
          1087,
          1061,
          935,
          960,
          975,
          820,
          896,
          843,
          969,
          859,
          885,
          872,
          838,
          845,
          797,
          819,
          719,
          647,
          795,
          777,
          913,
          792,
          757,
          720,
          800,
          674,
          736,
          836,
          851,
          747,
          802,
          875,
          939,
          1110,
          1155,
          1084,
          996,
          963,
          181
         ]
        },
        {
         "line": {
          "color": "#74b9ff",
          "width": 2
         },
         "mode": "lines",
         "name": "New Technologies",
         "type": "scatter",
         "x": [
          "2008-07",
          "2008-08",
          "2008-09",
          "2008-10",
          "2008-11",
          "2008-12",
          "2009-01",
          "2009-02",
          "2009-03",
          "2009-04",
          "2009-05",
          "2009-06",
          "2009-07",
          "2009-08",
          "2009-09",
          "2009-10",
          "2009-11",
          "2009-12",
          "2010-01",
          "2010-02",
          "2010-03",
          "2010-04",
          "2010-05",
          "2010-06",
          "2010-07",
          "2010-08",
          "2010-09",
          "2010-10",
          "2010-11",
          "2010-12",
          "2011-01",
          "2011-02",
          "2011-03",
          "2011-04",
          "2011-05",
          "2011-06",
          "2011-07",
          "2011-08",
          "2011-09",
          "2011-10",
          "2011-11",
          "2011-12",
          "2012-01",
          "2012-02",
          "2012-03",
          "2012-04",
          "2012-05",
          "2012-06",
          "2012-07",
          "2012-08",
          "2012-09",
          "2012-10",
          "2012-11",
          "2012-12",
          "2013-01",
          "2013-02",
          "2013-03",
          "2013-04",
          "2013-05",
          "2013-06",
          "2013-07",
          "2013-08",
          "2013-09",
          "2013-10",
          "2013-11",
          "2013-12",
          "2014-01",
          "2014-02",
          "2014-03",
          "2014-04",
          "2014-05",
          "2014-06",
          "2014-07",
          "2014-08",
          "2014-09",
          "2014-10",
          "2014-11",
          "2014-12",
          "2015-01",
          "2015-02",
          "2015-03",
          "2015-04",
          "2015-05",
          "2015-06",
          "2015-07",
          "2015-08",
          "2015-09",
          "2015-10",
          "2015-11",
          "2015-12",
          "2016-01",
          "2016-02",
          "2016-03",
          "2016-04",
          "2016-05",
          "2016-06",
          "2016-07",
          "2016-08",
          "2016-09",
          "2016-10",
          "2016-11",
          "2016-12",
          "2017-01",
          "2017-02",
          "2017-03",
          "2017-04",
          "2017-05",
          "2017-06",
          "2017-07",
          "2017-08",
          "2017-09",
          "2017-10",
          "2017-11",
          "2017-12",
          "2018-01",
          "2018-02",
          "2018-03",
          "2018-04",
          "2018-05",
          "2018-06",
          "2018-07",
          "2018-08",
          "2018-09",
          "2018-10",
          "2018-11",
          "2018-12",
          "2019-01",
          "2019-02",
          "2019-03",
          "2019-04",
          "2019-05",
          "2019-06",
          "2019-07",
          "2019-08",
          "2019-09",
          "2019-10",
          "2019-11",
          "2019-12",
          "2020-01",
          "2020-02",
          "2020-03",
          "2020-04",
          "2020-05",
          "2020-06",
          "2020-07",
          "2020-08",
          "2020-09"
         ],
         "y": [
          0,
          0,
          0,
          0,
          0,
          0,
          0,
          0,
          0,
          0,
          0,
          0,
          0,
          0,
          0,
          0,
          1,
          0,
          1,
          1,
          1,
          0,
          1,
          2,
          1,
          2,
          1,
          2,
          0,
          3,
          1,
          3,
          1,
          0,
          1,
          2,
          2,
          1,
          1,
          3,
          1,
          1,
          2,
          2,
          1,
          2,
          6,
          2,
          7,
          9,
          6,
          16,
          12,
          20,
          40,
          40,
          58,
          66,
          69,
          69,
          94,
          99,
          93,
          124,
          133,
          107,
          177,
          159,
          177,
          194,
          183,
          193,
          255,
          213,
          210,
          267,
          249,
          219,
          225,
          272,
          304,
          323,
          331,
          331,
          374,
          376,
          359,
          382,
          366,
          398,
          444,
          429,
          514,
          491,
          493,
          569,
          519,
          581,
          541,
          519,
          573,
          518,
          583,
          604,
          677,
          624,
          675,
          673,
          677,
          711,
          585,
          641,
          649,
          521,
          691,
          583,
          627,
          605,
          683,
          565,
          696,
          677,
          648,
          672,
          618,
          612,
          675,
          645,
          727,
          641,
          673,
          647,
          741,
          598,
          712,
          811,
          794,
          722,
          778,
          807,
          922,
          1075,
          1061,
          987,
          1019,
          931,
          147
         ]
        }
       ],
       "layout": {
        "annotations": [
         {
          "showarrow": false,
          "text": "Old Technologies: Plain HTML, CSS, Javascript\n                                                 New Technologies: Reactive Frameworks",
          "x": 0.5,
          "xref": "paper",
          "y": -0.25,
          "yref": "paper"
         }
        ],
        "margin": {
         "b": 90
        },
        "template": {
         "data": {
          "bar": [
           {
            "error_x": {
             "color": "#2a3f5f"
            },
            "error_y": {
             "color": "#2a3f5f"
            },
            "marker": {
             "line": {
              "color": "#E5ECF6",
              "width": 0.5
             }
            },
            "type": "bar"
           }
          ],
          "barpolar": [
           {
            "marker": {
             "line": {
              "color": "#E5ECF6",
              "width": 0.5
             }
            },
            "type": "barpolar"
           }
          ],
          "carpet": [
           {
            "aaxis": {
             "endlinecolor": "#2a3f5f",
             "gridcolor": "white",
             "linecolor": "white",
             "minorgridcolor": "white",
             "startlinecolor": "#2a3f5f"
            },
            "baxis": {
             "endlinecolor": "#2a3f5f",
             "gridcolor": "white",
             "linecolor": "white",
             "minorgridcolor": "white",
             "startlinecolor": "#2a3f5f"
            },
            "type": "carpet"
           }
          ],
          "choropleth": [
           {
            "colorbar": {
             "outlinewidth": 0,
             "ticks": ""
            },
            "type": "choropleth"
           }
          ],
          "contour": [
           {
            "colorbar": {
             "outlinewidth": 0,
             "ticks": ""
            },
            "colorscale": [
             [
              0,
              "#0d0887"
             ],
             [
              0.1111111111111111,
              "#46039f"
             ],
             [
              0.2222222222222222,
              "#7201a8"
             ],
             [
              0.3333333333333333,
              "#9c179e"
             ],
             [
              0.4444444444444444,
              "#bd3786"
             ],
             [
              0.5555555555555556,
              "#d8576b"
             ],
             [
              0.6666666666666666,
              "#ed7953"
             ],
             [
              0.7777777777777778,
              "#fb9f3a"
             ],
             [
              0.8888888888888888,
              "#fdca26"
             ],
             [
              1,
              "#f0f921"
             ]
            ],
            "type": "contour"
           }
          ],
          "contourcarpet": [
           {
            "colorbar": {
             "outlinewidth": 0,
             "ticks": ""
            },
            "type": "contourcarpet"
           }
          ],
          "heatmap": [
           {
            "colorbar": {
             "outlinewidth": 0,
             "ticks": ""
            },
            "colorscale": [
             [
              0,
              "#0d0887"
             ],
             [
              0.1111111111111111,
              "#46039f"
             ],
             [
              0.2222222222222222,
              "#7201a8"
             ],
             [
              0.3333333333333333,
              "#9c179e"
             ],
             [
              0.4444444444444444,
              "#bd3786"
             ],
             [
              0.5555555555555556,
              "#d8576b"
             ],
             [
              0.6666666666666666,
              "#ed7953"
             ],
             [
              0.7777777777777778,
              "#fb9f3a"
             ],
             [
              0.8888888888888888,
              "#fdca26"
             ],
             [
              1,
              "#f0f921"
             ]
            ],
            "type": "heatmap"
           }
          ],
          "heatmapgl": [
           {
            "colorbar": {
             "outlinewidth": 0,
             "ticks": ""
            },
            "colorscale": [
             [
              0,
              "#0d0887"
             ],
             [
              0.1111111111111111,
              "#46039f"
             ],
             [
              0.2222222222222222,
              "#7201a8"
             ],
             [
              0.3333333333333333,
              "#9c179e"
             ],
             [
              0.4444444444444444,
              "#bd3786"
             ],
             [
              0.5555555555555556,
              "#d8576b"
             ],
             [
              0.6666666666666666,
              "#ed7953"
             ],
             [
              0.7777777777777778,
              "#fb9f3a"
             ],
             [
              0.8888888888888888,
              "#fdca26"
             ],
             [
              1,
              "#f0f921"
             ]
            ],
            "type": "heatmapgl"
           }
          ],
          "histogram": [
           {
            "marker": {
             "colorbar": {
              "outlinewidth": 0,
              "ticks": ""
             }
            },
            "type": "histogram"
           }
          ],
          "histogram2d": [
           {
            "colorbar": {
             "outlinewidth": 0,
             "ticks": ""
            },
            "colorscale": [
             [
              0,
              "#0d0887"
             ],
             [
              0.1111111111111111,
              "#46039f"
             ],
             [
              0.2222222222222222,
              "#7201a8"
             ],
             [
              0.3333333333333333,
              "#9c179e"
             ],
             [
              0.4444444444444444,
              "#bd3786"
             ],
             [
              0.5555555555555556,
              "#d8576b"
             ],
             [
              0.6666666666666666,
              "#ed7953"
             ],
             [
              0.7777777777777778,
              "#fb9f3a"
             ],
             [
              0.8888888888888888,
              "#fdca26"
             ],
             [
              1,
              "#f0f921"
             ]
            ],
            "type": "histogram2d"
           }
          ],
          "histogram2dcontour": [
           {
            "colorbar": {
             "outlinewidth": 0,
             "ticks": ""
            },
            "colorscale": [
             [
              0,
              "#0d0887"
             ],
             [
              0.1111111111111111,
              "#46039f"
             ],
             [
              0.2222222222222222,
              "#7201a8"
             ],
             [
              0.3333333333333333,
              "#9c179e"
             ],
             [
              0.4444444444444444,
              "#bd3786"
             ],
             [
              0.5555555555555556,
              "#d8576b"
             ],
             [
              0.6666666666666666,
              "#ed7953"
             ],
             [
              0.7777777777777778,
              "#fb9f3a"
             ],
             [
              0.8888888888888888,
              "#fdca26"
             ],
             [
              1,
              "#f0f921"
             ]
            ],
            "type": "histogram2dcontour"
           }
          ],
          "mesh3d": [
           {
            "colorbar": {
             "outlinewidth": 0,
             "ticks": ""
            },
            "type": "mesh3d"
           }
          ],
          "parcoords": [
           {
            "line": {
             "colorbar": {
              "outlinewidth": 0,
              "ticks": ""
             }
            },
            "type": "parcoords"
           }
          ],
          "pie": [
           {
            "automargin": true,
            "type": "pie"
           }
          ],
          "scatter": [
           {
            "marker": {
             "colorbar": {
              "outlinewidth": 0,
              "ticks": ""
             }
            },
            "type": "scatter"
           }
          ],
          "scatter3d": [
           {
            "line": {
             "colorbar": {
              "outlinewidth": 0,
              "ticks": ""
             }
            },
            "marker": {
             "colorbar": {
              "outlinewidth": 0,
              "ticks": ""
             }
            },
            "type": "scatter3d"
           }
          ],
          "scattercarpet": [
           {
            "marker": {
             "colorbar": {
              "outlinewidth": 0,
              "ticks": ""
             }
            },
            "type": "scattercarpet"
           }
          ],
          "scattergeo": [
           {
            "marker": {
             "colorbar": {
              "outlinewidth": 0,
              "ticks": ""
             }
            },
            "type": "scattergeo"
           }
          ],
          "scattergl": [
           {
            "marker": {
             "colorbar": {
              "outlinewidth": 0,
              "ticks": ""
             }
            },
            "type": "scattergl"
           }
          ],
          "scattermapbox": [
           {
            "marker": {
             "colorbar": {
              "outlinewidth": 0,
              "ticks": ""
             }
            },
            "type": "scattermapbox"
           }
          ],
          "scatterpolar": [
           {
            "marker": {
             "colorbar": {
              "outlinewidth": 0,
              "ticks": ""
             }
            },
            "type": "scatterpolar"
           }
          ],
          "scatterpolargl": [
           {
            "marker": {
             "colorbar": {
              "outlinewidth": 0,
              "ticks": ""
             }
            },
            "type": "scatterpolargl"
           }
          ],
          "scatterternary": [
           {
            "marker": {
             "colorbar": {
              "outlinewidth": 0,
              "ticks": ""
             }
            },
            "type": "scatterternary"
           }
          ],
          "surface": [
           {
            "colorbar": {
             "outlinewidth": 0,
             "ticks": ""
            },
            "colorscale": [
             [
              0,
              "#0d0887"
             ],
             [
              0.1111111111111111,
              "#46039f"
             ],
             [
              0.2222222222222222,
              "#7201a8"
             ],
             [
              0.3333333333333333,
              "#9c179e"
             ],
             [
              0.4444444444444444,
              "#bd3786"
             ],
             [
              0.5555555555555556,
              "#d8576b"
             ],
             [
              0.6666666666666666,
              "#ed7953"
             ],
             [
              0.7777777777777778,
              "#fb9f3a"
             ],
             [
              0.8888888888888888,
              "#fdca26"
             ],
             [
              1,
              "#f0f921"
             ]
            ],
            "type": "surface"
           }
          ],
          "table": [
           {
            "cells": {
             "fill": {
              "color": "#EBF0F8"
             },
             "line": {
              "color": "white"
             }
            },
            "header": {
             "fill": {
              "color": "#C8D4E3"
             },
             "line": {
              "color": "white"
             }
            },
            "type": "table"
           }
          ]
         },
         "layout": {
          "annotationdefaults": {
           "arrowcolor": "#2a3f5f",
           "arrowhead": 0,
           "arrowwidth": 1
          },
          "coloraxis": {
           "colorbar": {
            "outlinewidth": 0,
            "ticks": ""
           }
          },
          "colorscale": {
           "diverging": [
            [
             0,
             "#8e0152"
            ],
            [
             0.1,
             "#c51b7d"
            ],
            [
             0.2,
             "#de77ae"
            ],
            [
             0.3,
             "#f1b6da"
            ],
            [
             0.4,
             "#fde0ef"
            ],
            [
             0.5,
             "#f7f7f7"
            ],
            [
             0.6,
             "#e6f5d0"
            ],
            [
             0.7,
             "#b8e186"
            ],
            [
             0.8,
             "#7fbc41"
            ],
            [
             0.9,
             "#4d9221"
            ],
            [
             1,
             "#276419"
            ]
           ],
           "sequential": [
            [
             0,
             "#0d0887"
            ],
            [
             0.1111111111111111,
             "#46039f"
            ],
            [
             0.2222222222222222,
             "#7201a8"
            ],
            [
             0.3333333333333333,
             "#9c179e"
            ],
            [
             0.4444444444444444,
             "#bd3786"
            ],
            [
             0.5555555555555556,
             "#d8576b"
            ],
            [
             0.6666666666666666,
             "#ed7953"
            ],
            [
             0.7777777777777778,
             "#fb9f3a"
            ],
            [
             0.8888888888888888,
             "#fdca26"
            ],
            [
             1,
             "#f0f921"
            ]
           ],
           "sequentialminus": [
            [
             0,
             "#0d0887"
            ],
            [
             0.1111111111111111,
             "#46039f"
            ],
            [
             0.2222222222222222,
             "#7201a8"
            ],
            [
             0.3333333333333333,
             "#9c179e"
            ],
            [
             0.4444444444444444,
             "#bd3786"
            ],
            [
             0.5555555555555556,
             "#d8576b"
            ],
            [
             0.6666666666666666,
             "#ed7953"
            ],
            [
             0.7777777777777778,
             "#fb9f3a"
            ],
            [
             0.8888888888888888,
             "#fdca26"
            ],
            [
             1,
             "#f0f921"
            ]
           ]
          },
          "colorway": [
           "#636efa",
           "#EF553B",
           "#00cc96",
           "#ab63fa",
           "#FFA15A",
           "#19d3f3",
           "#FF6692",
           "#B6E880",
           "#FF97FF",
           "#FECB52"
          ],
          "font": {
           "color": "#2a3f5f"
          },
          "geo": {
           "bgcolor": "white",
           "lakecolor": "white",
           "landcolor": "#E5ECF6",
           "showlakes": true,
           "showland": true,
           "subunitcolor": "white"
          },
          "hoverlabel": {
           "align": "left"
          },
          "hovermode": "closest",
          "mapbox": {
           "style": "light"
          },
          "paper_bgcolor": "white",
          "plot_bgcolor": "#E5ECF6",
          "polar": {
           "angularaxis": {
            "gridcolor": "white",
            "linecolor": "white",
            "ticks": ""
           },
           "bgcolor": "#E5ECF6",
           "radialaxis": {
            "gridcolor": "white",
            "linecolor": "white",
            "ticks": ""
           }
          },
          "scene": {
           "xaxis": {
            "backgroundcolor": "#E5ECF6",
            "gridcolor": "white",
            "gridwidth": 2,
            "linecolor": "white",
            "showbackground": true,
            "ticks": "",
            "zerolinecolor": "white"
           },
           "yaxis": {
            "backgroundcolor": "#E5ECF6",
            "gridcolor": "white",
            "gridwidth": 2,
            "linecolor": "white",
            "showbackground": true,
            "ticks": "",
            "zerolinecolor": "white"
           },
           "zaxis": {
            "backgroundcolor": "#E5ECF6",
            "gridcolor": "white",
            "gridwidth": 2,
            "linecolor": "white",
            "showbackground": true,
            "ticks": "",
            "zerolinecolor": "white"
           }
          },
          "shapedefaults": {
           "line": {
            "color": "#2a3f5f"
           }
          },
          "ternary": {
           "aaxis": {
            "gridcolor": "white",
            "linecolor": "white",
            "ticks": ""
           },
           "baxis": {
            "gridcolor": "white",
            "linecolor": "white",
            "ticks": ""
           },
           "bgcolor": "#E5ECF6",
           "caxis": {
            "gridcolor": "white",
            "linecolor": "white",
            "ticks": ""
           }
          },
          "title": {
           "x": 0.05
          },
          "xaxis": {
           "automargin": true,
           "gridcolor": "white",
           "linecolor": "white",
           "ticks": "",
           "title": {
            "standoff": 15
           },
           "zerolinecolor": "white",
           "zerolinewidth": 2
          },
          "yaxis": {
           "automargin": true,
           "gridcolor": "white",
           "linecolor": "white",
           "ticks": "",
           "title": {
            "standoff": 15
           },
           "zerolinecolor": "white",
           "zerolinewidth": 2
          }
         }
        },
        "title": {
         "text": "Old vs New Web Frontend Technologies over 2008-2020 (based on a 200k sample)"
        },
        "xaxis": {
         "title": {
          "text": "Years"
         }
        },
        "yaxis": {
         "title": {
          "text": "Number of questions (sample relative)"
         }
        }
       }
      },
      "text/html": [
       "<div>                            <div id=\"e1badbd4-f329-46d3-9f5c-6c0b15470497\" class=\"plotly-graph-div\" style=\"height:525px; width:100%;\"></div>            <script type=\"text/javascript\">                require([\"plotly\"], function(Plotly) {                    window.PLOTLYENV=window.PLOTLYENV || {};                                    if (document.getElementById(\"e1badbd4-f329-46d3-9f5c-6c0b15470497\")) {                    Plotly.newPlot(                        \"e1badbd4-f329-46d3-9f5c-6c0b15470497\",                        [{\"line\": {\"color\": \"#e74c3c\", \"width\": 2}, \"mode\": \"lines\", \"name\": \"Old Technologies\", \"type\": \"scatter\", \"x\": [\"2008-07\", \"2008-08\", \"2008-09\", \"2008-10\", \"2008-11\", \"2008-12\", \"2009-01\", \"2009-02\", \"2009-03\", \"2009-04\", \"2009-05\", \"2009-06\", \"2009-07\", \"2009-08\", \"2009-09\", \"2009-10\", \"2009-11\", \"2009-12\", \"2010-01\", \"2010-02\", \"2010-03\", \"2010-04\", \"2010-05\", \"2010-06\", \"2010-07\", \"2010-08\", \"2010-09\", \"2010-10\", \"2010-11\", \"2010-12\", \"2011-01\", \"2011-02\", \"2011-03\", \"2011-04\", \"2011-05\", \"2011-06\", \"2011-07\", \"2011-08\", \"2011-09\", \"2011-10\", \"2011-11\", \"2011-12\", \"2012-01\", \"2012-02\", \"2012-03\", \"2012-04\", \"2012-05\", \"2012-06\", \"2012-07\", \"2012-08\", \"2012-09\", \"2012-10\", \"2012-11\", \"2012-12\", \"2013-01\", \"2013-02\", \"2013-03\", \"2013-04\", \"2013-05\", \"2013-06\", \"2013-07\", \"2013-08\", \"2013-09\", \"2013-10\", \"2013-11\", \"2013-12\", \"2014-01\", \"2014-02\", \"2014-03\", \"2014-04\", \"2014-05\", \"2014-06\", \"2014-07\", \"2014-08\", \"2014-09\", \"2014-10\", \"2014-11\", \"2014-12\", \"2015-01\", \"2015-02\", \"2015-03\", \"2015-04\", \"2015-05\", \"2015-06\", \"2015-07\", \"2015-08\", \"2015-09\", \"2015-10\", \"2015-11\", \"2015-12\", \"2016-01\", \"2016-02\", \"2016-03\", \"2016-04\", \"2016-05\", \"2016-06\", \"2016-07\", \"2016-08\", \"2016-09\", \"2016-10\", \"2016-11\", \"2016-12\", \"2017-01\", \"2017-02\", \"2017-03\", \"2017-04\", \"2017-05\", \"2017-06\", \"2017-07\", \"2017-08\", \"2017-09\", \"2017-10\", \"2017-11\", \"2017-12\", \"2018-01\", \"2018-02\", \"2018-03\", \"2018-04\", \"2018-05\", \"2018-06\", \"2018-07\", \"2018-08\", \"2018-09\", \"2018-10\", \"2018-11\", \"2018-12\", \"2019-01\", \"2019-02\", \"2019-03\", \"2019-04\", \"2019-05\", \"2019-06\", \"2019-07\", \"2019-08\", \"2019-09\", \"2019-10\", \"2019-11\", \"2019-12\", \"2020-01\", \"2020-02\", \"2020-03\", \"2020-04\", \"2020-05\", \"2020-06\", \"2020-07\", \"2020-08\", \"2020-09\"], \"y\": [0, 11, 41, 48, 46, 36, 42, 66, 64, 62, 65, 105, 115, 110, 119, 137, 144, 132, 179, 209, 216, 192, 221, 227, 247, 263, 250, 224, 300, 313, 367, 365, 464, 442, 452, 507, 544, 615, 538, 557, 608, 578, 558, 684, 774, 762, 742, 775, 774, 866, 737, 859, 855, 813, 978, 968, 1035, 1118, 1059, 1044, 1177, 1121, 1105, 1204, 1103, 1160, 1312, 1266, 1347, 1341, 1198, 1063, 1200, 1062, 1167, 1125, 1062, 983, 1024, 1069, 1259, 1187, 1258, 1269, 1337, 1197, 1156, 1174, 1110, 1097, 1119, 1179, 1268, 1224, 1137, 1133, 1105, 1186, 1005, 990, 1030, 956, 1082, 1043, 1196, 1069, 1089, 1114, 1087, 1061, 935, 960, 975, 820, 896, 843, 969, 859, 885, 872, 838, 845, 797, 819, 719, 647, 795, 777, 913, 792, 757, 720, 800, 674, 736, 836, 851, 747, 802, 875, 939, 1110, 1155, 1084, 996, 963, 181]}, {\"line\": {\"color\": \"#74b9ff\", \"width\": 2}, \"mode\": \"lines\", \"name\": \"New Technologies\", \"type\": \"scatter\", \"x\": [\"2008-07\", \"2008-08\", \"2008-09\", \"2008-10\", \"2008-11\", \"2008-12\", \"2009-01\", \"2009-02\", \"2009-03\", \"2009-04\", \"2009-05\", \"2009-06\", \"2009-07\", \"2009-08\", \"2009-09\", \"2009-10\", \"2009-11\", \"2009-12\", \"2010-01\", \"2010-02\", \"2010-03\", \"2010-04\", \"2010-05\", \"2010-06\", \"2010-07\", \"2010-08\", \"2010-09\", \"2010-10\", \"2010-11\", \"2010-12\", \"2011-01\", \"2011-02\", \"2011-03\", \"2011-04\", \"2011-05\", \"2011-06\", \"2011-07\", \"2011-08\", \"2011-09\", \"2011-10\", \"2011-11\", \"2011-12\", \"2012-01\", \"2012-02\", \"2012-03\", \"2012-04\", \"2012-05\", \"2012-06\", \"2012-07\", \"2012-08\", \"2012-09\", \"2012-10\", \"2012-11\", \"2012-12\", \"2013-01\", \"2013-02\", \"2013-03\", \"2013-04\", \"2013-05\", \"2013-06\", \"2013-07\", \"2013-08\", \"2013-09\", \"2013-10\", \"2013-11\", \"2013-12\", \"2014-01\", \"2014-02\", \"2014-03\", \"2014-04\", \"2014-05\", \"2014-06\", \"2014-07\", \"2014-08\", \"2014-09\", \"2014-10\", \"2014-11\", \"2014-12\", \"2015-01\", \"2015-02\", \"2015-03\", \"2015-04\", \"2015-05\", \"2015-06\", \"2015-07\", \"2015-08\", \"2015-09\", \"2015-10\", \"2015-11\", \"2015-12\", \"2016-01\", \"2016-02\", \"2016-03\", \"2016-04\", \"2016-05\", \"2016-06\", \"2016-07\", \"2016-08\", \"2016-09\", \"2016-10\", \"2016-11\", \"2016-12\", \"2017-01\", \"2017-02\", \"2017-03\", \"2017-04\", \"2017-05\", \"2017-06\", \"2017-07\", \"2017-08\", \"2017-09\", \"2017-10\", \"2017-11\", \"2017-12\", \"2018-01\", \"2018-02\", \"2018-03\", \"2018-04\", \"2018-05\", \"2018-06\", \"2018-07\", \"2018-08\", \"2018-09\", \"2018-10\", \"2018-11\", \"2018-12\", \"2019-01\", \"2019-02\", \"2019-03\", \"2019-04\", \"2019-05\", \"2019-06\", \"2019-07\", \"2019-08\", \"2019-09\", \"2019-10\", \"2019-11\", \"2019-12\", \"2020-01\", \"2020-02\", \"2020-03\", \"2020-04\", \"2020-05\", \"2020-06\", \"2020-07\", \"2020-08\", \"2020-09\"], \"y\": [0, 0, 0, 0, 0, 0, 0, 0, 0, 0, 0, 0, 0, 0, 0, 0, 1, 0, 1, 1, 1, 0, 1, 2, 1, 2, 1, 2, 0, 3, 1, 3, 1, 0, 1, 2, 2, 1, 1, 3, 1, 1, 2, 2, 1, 2, 6, 2, 7, 9, 6, 16, 12, 20, 40, 40, 58, 66, 69, 69, 94, 99, 93, 124, 133, 107, 177, 159, 177, 194, 183, 193, 255, 213, 210, 267, 249, 219, 225, 272, 304, 323, 331, 331, 374, 376, 359, 382, 366, 398, 444, 429, 514, 491, 493, 569, 519, 581, 541, 519, 573, 518, 583, 604, 677, 624, 675, 673, 677, 711, 585, 641, 649, 521, 691, 583, 627, 605, 683, 565, 696, 677, 648, 672, 618, 612, 675, 645, 727, 641, 673, 647, 741, 598, 712, 811, 794, 722, 778, 807, 922, 1075, 1061, 987, 1019, 931, 147]}],                        {\"annotations\": [{\"showarrow\": false, \"text\": \"Old Technologies: Plain HTML, CSS, Javascript\\n                                                 New Technologies: Reactive Frameworks\", \"x\": 0.5, \"xref\": \"paper\", \"y\": -0.25, \"yref\": \"paper\"}], \"margin\": {\"b\": 90}, \"template\": {\"data\": {\"bar\": [{\"error_x\": {\"color\": \"#2a3f5f\"}, \"error_y\": {\"color\": \"#2a3f5f\"}, \"marker\": {\"line\": {\"color\": \"#E5ECF6\", \"width\": 0.5}}, \"type\": \"bar\"}], \"barpolar\": [{\"marker\": {\"line\": {\"color\": \"#E5ECF6\", \"width\": 0.5}}, \"type\": \"barpolar\"}], \"carpet\": [{\"aaxis\": {\"endlinecolor\": \"#2a3f5f\", \"gridcolor\": \"white\", \"linecolor\": \"white\", \"minorgridcolor\": \"white\", \"startlinecolor\": \"#2a3f5f\"}, \"baxis\": {\"endlinecolor\": \"#2a3f5f\", \"gridcolor\": \"white\", \"linecolor\": \"white\", \"minorgridcolor\": \"white\", \"startlinecolor\": \"#2a3f5f\"}, \"type\": \"carpet\"}], \"choropleth\": [{\"colorbar\": {\"outlinewidth\": 0, \"ticks\": \"\"}, \"type\": \"choropleth\"}], \"contour\": [{\"colorbar\": {\"outlinewidth\": 0, \"ticks\": \"\"}, \"colorscale\": [[0.0, \"#0d0887\"], [0.1111111111111111, \"#46039f\"], [0.2222222222222222, \"#7201a8\"], [0.3333333333333333, \"#9c179e\"], [0.4444444444444444, \"#bd3786\"], [0.5555555555555556, \"#d8576b\"], [0.6666666666666666, \"#ed7953\"], [0.7777777777777778, \"#fb9f3a\"], [0.8888888888888888, \"#fdca26\"], [1.0, \"#f0f921\"]], \"type\": \"contour\"}], \"contourcarpet\": [{\"colorbar\": {\"outlinewidth\": 0, \"ticks\": \"\"}, \"type\": \"contourcarpet\"}], \"heatmap\": [{\"colorbar\": {\"outlinewidth\": 0, \"ticks\": \"\"}, \"colorscale\": [[0.0, \"#0d0887\"], [0.1111111111111111, \"#46039f\"], [0.2222222222222222, \"#7201a8\"], [0.3333333333333333, \"#9c179e\"], [0.4444444444444444, \"#bd3786\"], [0.5555555555555556, \"#d8576b\"], [0.6666666666666666, \"#ed7953\"], [0.7777777777777778, \"#fb9f3a\"], [0.8888888888888888, \"#fdca26\"], [1.0, \"#f0f921\"]], \"type\": \"heatmap\"}], \"heatmapgl\": [{\"colorbar\": {\"outlinewidth\": 0, \"ticks\": \"\"}, \"colorscale\": [[0.0, \"#0d0887\"], [0.1111111111111111, \"#46039f\"], [0.2222222222222222, \"#7201a8\"], [0.3333333333333333, \"#9c179e\"], [0.4444444444444444, \"#bd3786\"], [0.5555555555555556, \"#d8576b\"], [0.6666666666666666, \"#ed7953\"], [0.7777777777777778, \"#fb9f3a\"], [0.8888888888888888, \"#fdca26\"], [1.0, \"#f0f921\"]], \"type\": \"heatmapgl\"}], \"histogram\": [{\"marker\": {\"colorbar\": {\"outlinewidth\": 0, \"ticks\": \"\"}}, \"type\": \"histogram\"}], \"histogram2d\": [{\"colorbar\": {\"outlinewidth\": 0, \"ticks\": \"\"}, \"colorscale\": [[0.0, \"#0d0887\"], [0.1111111111111111, \"#46039f\"], [0.2222222222222222, \"#7201a8\"], [0.3333333333333333, \"#9c179e\"], [0.4444444444444444, \"#bd3786\"], [0.5555555555555556, \"#d8576b\"], [0.6666666666666666, \"#ed7953\"], [0.7777777777777778, \"#fb9f3a\"], [0.8888888888888888, \"#fdca26\"], [1.0, \"#f0f921\"]], \"type\": \"histogram2d\"}], \"histogram2dcontour\": [{\"colorbar\": {\"outlinewidth\": 0, \"ticks\": \"\"}, \"colorscale\": [[0.0, \"#0d0887\"], [0.1111111111111111, \"#46039f\"], [0.2222222222222222, \"#7201a8\"], [0.3333333333333333, \"#9c179e\"], [0.4444444444444444, \"#bd3786\"], [0.5555555555555556, \"#d8576b\"], [0.6666666666666666, \"#ed7953\"], [0.7777777777777778, \"#fb9f3a\"], [0.8888888888888888, \"#fdca26\"], [1.0, \"#f0f921\"]], \"type\": \"histogram2dcontour\"}], \"mesh3d\": [{\"colorbar\": {\"outlinewidth\": 0, \"ticks\": \"\"}, \"type\": \"mesh3d\"}], \"parcoords\": [{\"line\": {\"colorbar\": {\"outlinewidth\": 0, \"ticks\": \"\"}}, \"type\": \"parcoords\"}], \"pie\": [{\"automargin\": true, \"type\": \"pie\"}], \"scatter\": [{\"marker\": {\"colorbar\": {\"outlinewidth\": 0, \"ticks\": \"\"}}, \"type\": \"scatter\"}], \"scatter3d\": [{\"line\": {\"colorbar\": {\"outlinewidth\": 0, \"ticks\": \"\"}}, \"marker\": {\"colorbar\": {\"outlinewidth\": 0, \"ticks\": \"\"}}, \"type\": \"scatter3d\"}], \"scattercarpet\": [{\"marker\": {\"colorbar\": {\"outlinewidth\": 0, \"ticks\": \"\"}}, \"type\": \"scattercarpet\"}], \"scattergeo\": [{\"marker\": {\"colorbar\": {\"outlinewidth\": 0, \"ticks\": \"\"}}, \"type\": \"scattergeo\"}], \"scattergl\": [{\"marker\": {\"colorbar\": {\"outlinewidth\": 0, \"ticks\": \"\"}}, \"type\": \"scattergl\"}], \"scattermapbox\": [{\"marker\": {\"colorbar\": {\"outlinewidth\": 0, \"ticks\": \"\"}}, \"type\": \"scattermapbox\"}], \"scatterpolar\": [{\"marker\": {\"colorbar\": {\"outlinewidth\": 0, \"ticks\": \"\"}}, \"type\": \"scatterpolar\"}], \"scatterpolargl\": [{\"marker\": {\"colorbar\": {\"outlinewidth\": 0, \"ticks\": \"\"}}, \"type\": \"scatterpolargl\"}], \"scatterternary\": [{\"marker\": {\"colorbar\": {\"outlinewidth\": 0, \"ticks\": \"\"}}, \"type\": \"scatterternary\"}], \"surface\": [{\"colorbar\": {\"outlinewidth\": 0, \"ticks\": \"\"}, \"colorscale\": [[0.0, \"#0d0887\"], [0.1111111111111111, \"#46039f\"], [0.2222222222222222, \"#7201a8\"], [0.3333333333333333, \"#9c179e\"], [0.4444444444444444, \"#bd3786\"], [0.5555555555555556, \"#d8576b\"], [0.6666666666666666, \"#ed7953\"], [0.7777777777777778, \"#fb9f3a\"], [0.8888888888888888, \"#fdca26\"], [1.0, \"#f0f921\"]], \"type\": \"surface\"}], \"table\": [{\"cells\": {\"fill\": {\"color\": \"#EBF0F8\"}, \"line\": {\"color\": \"white\"}}, \"header\": {\"fill\": {\"color\": \"#C8D4E3\"}, \"line\": {\"color\": \"white\"}}, \"type\": \"table\"}]}, \"layout\": {\"annotationdefaults\": {\"arrowcolor\": \"#2a3f5f\", \"arrowhead\": 0, \"arrowwidth\": 1}, \"coloraxis\": {\"colorbar\": {\"outlinewidth\": 0, \"ticks\": \"\"}}, \"colorscale\": {\"diverging\": [[0, \"#8e0152\"], [0.1, \"#c51b7d\"], [0.2, \"#de77ae\"], [0.3, \"#f1b6da\"], [0.4, \"#fde0ef\"], [0.5, \"#f7f7f7\"], [0.6, \"#e6f5d0\"], [0.7, \"#b8e186\"], [0.8, \"#7fbc41\"], [0.9, \"#4d9221\"], [1, \"#276419\"]], \"sequential\": [[0.0, \"#0d0887\"], [0.1111111111111111, \"#46039f\"], [0.2222222222222222, \"#7201a8\"], [0.3333333333333333, \"#9c179e\"], [0.4444444444444444, \"#bd3786\"], [0.5555555555555556, \"#d8576b\"], [0.6666666666666666, \"#ed7953\"], [0.7777777777777778, \"#fb9f3a\"], [0.8888888888888888, \"#fdca26\"], [1.0, \"#f0f921\"]], \"sequentialminus\": [[0.0, \"#0d0887\"], [0.1111111111111111, \"#46039f\"], [0.2222222222222222, \"#7201a8\"], [0.3333333333333333, \"#9c179e\"], [0.4444444444444444, \"#bd3786\"], [0.5555555555555556, \"#d8576b\"], [0.6666666666666666, \"#ed7953\"], [0.7777777777777778, \"#fb9f3a\"], [0.8888888888888888, \"#fdca26\"], [1.0, \"#f0f921\"]]}, \"colorway\": [\"#636efa\", \"#EF553B\", \"#00cc96\", \"#ab63fa\", \"#FFA15A\", \"#19d3f3\", \"#FF6692\", \"#B6E880\", \"#FF97FF\", \"#FECB52\"], \"font\": {\"color\": \"#2a3f5f\"}, \"geo\": {\"bgcolor\": \"white\", \"lakecolor\": \"white\", \"landcolor\": \"#E5ECF6\", \"showlakes\": true, \"showland\": true, \"subunitcolor\": \"white\"}, \"hoverlabel\": {\"align\": \"left\"}, \"hovermode\": \"closest\", \"mapbox\": {\"style\": \"light\"}, \"paper_bgcolor\": \"white\", \"plot_bgcolor\": \"#E5ECF6\", \"polar\": {\"angularaxis\": {\"gridcolor\": \"white\", \"linecolor\": \"white\", \"ticks\": \"\"}, \"bgcolor\": \"#E5ECF6\", \"radialaxis\": {\"gridcolor\": \"white\", \"linecolor\": \"white\", \"ticks\": \"\"}}, \"scene\": {\"xaxis\": {\"backgroundcolor\": \"#E5ECF6\", \"gridcolor\": \"white\", \"gridwidth\": 2, \"linecolor\": \"white\", \"showbackground\": true, \"ticks\": \"\", \"zerolinecolor\": \"white\"}, \"yaxis\": {\"backgroundcolor\": \"#E5ECF6\", \"gridcolor\": \"white\", \"gridwidth\": 2, \"linecolor\": \"white\", \"showbackground\": true, \"ticks\": \"\", \"zerolinecolor\": \"white\"}, \"zaxis\": {\"backgroundcolor\": \"#E5ECF6\", \"gridcolor\": \"white\", \"gridwidth\": 2, \"linecolor\": \"white\", \"showbackground\": true, \"ticks\": \"\", \"zerolinecolor\": \"white\"}}, \"shapedefaults\": {\"line\": {\"color\": \"#2a3f5f\"}}, \"ternary\": {\"aaxis\": {\"gridcolor\": \"white\", \"linecolor\": \"white\", \"ticks\": \"\"}, \"baxis\": {\"gridcolor\": \"white\", \"linecolor\": \"white\", \"ticks\": \"\"}, \"bgcolor\": \"#E5ECF6\", \"caxis\": {\"gridcolor\": \"white\", \"linecolor\": \"white\", \"ticks\": \"\"}}, \"title\": {\"x\": 0.05}, \"xaxis\": {\"automargin\": true, \"gridcolor\": \"white\", \"linecolor\": \"white\", \"ticks\": \"\", \"title\": {\"standoff\": 15}, \"zerolinecolor\": \"white\", \"zerolinewidth\": 2}, \"yaxis\": {\"automargin\": true, \"gridcolor\": \"white\", \"linecolor\": \"white\", \"ticks\": \"\", \"title\": {\"standoff\": 15}, \"zerolinecolor\": \"white\", \"zerolinewidth\": 2}}}, \"title\": {\"text\": \"Old vs New Web Frontend Technologies over 2008-2020 (based on a 200k sample)\"}, \"xaxis\": {\"title\": {\"text\": \"Years\"}}, \"yaxis\": {\"title\": {\"text\": \"Number of questions (sample relative)\"}}},                        {\"responsive\": true}                    ).then(function(){\n",
       "                            \n",
       "var gd = document.getElementById('e1badbd4-f329-46d3-9f5c-6c0b15470497');\n",
       "var x = new MutationObserver(function (mutations, observer) {{\n",
       "        var display = window.getComputedStyle(gd).display;\n",
       "        if (!display || display === 'none') {{\n",
       "            console.log([gd, 'removed!']);\n",
       "            Plotly.purge(gd);\n",
       "            observer.disconnect();\n",
       "        }}\n",
       "}});\n",
       "\n",
       "// Listen for the removal of the full notebook cells\n",
       "var notebookContainer = gd.closest('#notebook-container');\n",
       "if (notebookContainer) {{\n",
       "    x.observe(notebookContainer, {childList: true});\n",
       "}}\n",
       "\n",
       "// Listen for the clearing of the current output cell\n",
       "var outputEl = gd.closest('.output');\n",
       "if (outputEl) {{\n",
       "    x.observe(outputEl, {childList: true});\n",
       "}}\n",
       "\n",
       "                        })                };                });            </script>        </div>"
      ]
     },
     "metadata": {},
     "output_type": "display_data"
    }
   ],
   "source": [
    "####### 2 FRONTEND - plot ##########\n",
    "\n",
    "layout = go.Layout(xaxis_title='x', \n",
    "                   yaxis_title='y',\n",
    "                    margin_b=90, #increase the bottom margin to have space for caption\n",
    "                    annotations = [dict(xref='paper',\n",
    "                                        yref='paper',\n",
    "                                        x=0.5, y=-0.25,\n",
    "                                        showarrow=False,\n",
    "                                        text ='''Old Technologies: Plain HTML, Javascript\n",
    "                                                 New Technologies: Reactive Frameworks''' )])\n",
    "\n",
    "fig = go.Figure(layout = layout)\n",
    "fig.add_trace(go.Scatter(x=tab_ovn.index, y=tab_ovn.old, mode='lines', name=\"Old Technologies\", \n",
    "              line=dict(color='#e74c3c', width=2)))\n",
    "fig.add_trace(go.Scatter(x=tab_ovn.index, y=tab_ovn.new, mode='lines', name=\"New Technologies\", \n",
    "              line=dict(color='#74b9ff', width=2)))\n",
    "\n",
    "fig.update_layout(title='Old vs New Web Frontend Technologies over 2008-2020 (based on a 1mln sample)',\n",
    "                   xaxis_title='Years',\n",
    "                   yaxis_title='Number of questions (sample relative)')\n",
    "\n",
    "\n",
    "fig.show()"
   ]
  },
  {
   "cell_type": "code",
   "execution_count": 28,
   "metadata": {},
   "outputs": [],
   "source": [
    "####### BACKEND - READING old vs new ##########\n",
    "def strCont(string, x):\n",
    "    return string.find(x) != -1\n",
    "\n",
    "def tagToOldNew(x):\n",
    "    if(strCont(x, 'express') or strCont(x, 'django') or strCont(x, 'symfony') or strCont(x, 'ruby-on-rails') or strCont(x, 'spring') or strCont(x, 'node')):\n",
    "        return 'new'\n",
    "    elif(strCont(x, 'asp') or strCont(x, 'java-servlet') or strCont(x, 'php')):\n",
    "        return 'old'\n",
    "    else:\n",
    "        return 'none'\n",
    "\n",
    "backend_ovn = tags_df.copy()\n",
    "backend_ovn['technology'] = backend_ovn['technology'].map(tagToOldNew)"
   ]
  },
  {
   "cell_type": "code",
   "execution_count": 29,
   "metadata": {},
   "outputs": [
    {
     "data": {
      "text/html": [
       "<div>\n",
       "<style scoped>\n",
       "    .dataframe tbody tr th:only-of-type {\n",
       "        vertical-align: middle;\n",
       "    }\n",
       "\n",
       "    .dataframe tbody tr th {\n",
       "        vertical-align: top;\n",
       "    }\n",
       "\n",
       "    .dataframe thead th {\n",
       "        text-align: right;\n",
       "    }\n",
       "</style>\n",
       "<table border=\"1\" class=\"dataframe\">\n",
       "  <thead>\n",
       "    <tr style=\"text-align: right;\">\n",
       "      <th>technology</th>\n",
       "      <th>new</th>\n",
       "      <th>none</th>\n",
       "      <th>old</th>\n",
       "    </tr>\n",
       "    <tr>\n",
       "      <th>month</th>\n",
       "      <th></th>\n",
       "      <th></th>\n",
       "      <th></th>\n",
       "    </tr>\n",
       "  </thead>\n",
       "  <tbody>\n",
       "    <tr>\n",
       "      <th>2008-07</th>\n",
       "      <td>0</td>\n",
       "      <td>1</td>\n",
       "      <td>0</td>\n",
       "    </tr>\n",
       "    <tr>\n",
       "      <th>2008-08</th>\n",
       "      <td>3</td>\n",
       "      <td>159</td>\n",
       "      <td>26</td>\n",
       "    </tr>\n",
       "    <tr>\n",
       "      <th>2008-09</th>\n",
       "      <td>10</td>\n",
       "      <td>593</td>\n",
       "      <td>71</td>\n",
       "    </tr>\n",
       "    <tr>\n",
       "      <th>2008-10</th>\n",
       "      <td>23</td>\n",
       "      <td>678</td>\n",
       "      <td>94</td>\n",
       "    </tr>\n",
       "    <tr>\n",
       "      <th>2008-11</th>\n",
       "      <td>15</td>\n",
       "      <td>508</td>\n",
       "      <td>107</td>\n",
       "    </tr>\n",
       "    <tr>\n",
       "      <th>...</th>\n",
       "      <td>...</td>\n",
       "      <td>...</td>\n",
       "      <td>...</td>\n",
       "    </tr>\n",
       "    <tr>\n",
       "      <th>2020-05</th>\n",
       "      <td>806</td>\n",
       "      <td>9930</td>\n",
       "      <td>669</td>\n",
       "    </tr>\n",
       "    <tr>\n",
       "      <th>2020-06</th>\n",
       "      <td>819</td>\n",
       "      <td>9127</td>\n",
       "      <td>564</td>\n",
       "    </tr>\n",
       "    <tr>\n",
       "      <th>2020-07</th>\n",
       "      <td>845</td>\n",
       "      <td>8839</td>\n",
       "      <td>587</td>\n",
       "    </tr>\n",
       "    <tr>\n",
       "      <th>2020-08</th>\n",
       "      <td>764</td>\n",
       "      <td>8509</td>\n",
       "      <td>566</td>\n",
       "    </tr>\n",
       "    <tr>\n",
       "      <th>2020-09</th>\n",
       "      <td>127</td>\n",
       "      <td>1560</td>\n",
       "      <td>102</td>\n",
       "    </tr>\n",
       "  </tbody>\n",
       "</table>\n",
       "<p>147 rows × 3 columns</p>\n",
       "</div>"
      ],
      "text/plain": [
       "technology  new  none  old\n",
       "month                     \n",
       "2008-07       0     1    0\n",
       "2008-08       3   159   26\n",
       "2008-09      10   593   71\n",
       "2008-10      23   678   94\n",
       "2008-11      15   508  107\n",
       "...         ...   ...  ...\n",
       "2020-05     806  9930  669\n",
       "2020-06     819  9127  564\n",
       "2020-07     845  8839  587\n",
       "2020-08     764  8509  566\n",
       "2020-09     127  1560  102\n",
       "\n",
       "[147 rows x 3 columns]"
      ]
     },
     "execution_count": 29,
     "metadata": {},
     "output_type": "execute_result"
    }
   ],
   "source": [
    "####### BACKEND - group ##########\n",
    "tab_ovn = backend_ovn.groupby([\"month\", \"technology\"]).size().unstack(fill_value=0)\n",
    "tab_ovn"
   ]
  },
  {
   "cell_type": "code",
   "execution_count": 31,
   "metadata": {},
   "outputs": [
    {
     "data": {
      "application/vnd.plotly.v1+json": {
       "config": {
        "plotlyServerURL": "https://plot.ly"
       },
       "data": [
        {
         "line": {
          "color": "#e74c3c",
          "width": 2
         },
         "mode": "lines",
         "name": "Old Technologies",
         "type": "scatter",
         "x": [
          "2008-07",
          "2008-08",
          "2008-09",
          "2008-10",
          "2008-11",
          "2008-12",
          "2009-01",
          "2009-02",
          "2009-03",
          "2009-04",
          "2009-05",
          "2009-06",
          "2009-07",
          "2009-08",
          "2009-09",
          "2009-10",
          "2009-11",
          "2009-12",
          "2010-01",
          "2010-02",
          "2010-03",
          "2010-04",
          "2010-05",
          "2010-06",
          "2010-07",
          "2010-08",
          "2010-09",
          "2010-10",
          "2010-11",
          "2010-12",
          "2011-01",
          "2011-02",
          "2011-03",
          "2011-04",
          "2011-05",
          "2011-06",
          "2011-07",
          "2011-08",
          "2011-09",
          "2011-10",
          "2011-11",
          "2011-12",
          "2012-01",
          "2012-02",
          "2012-03",
          "2012-04",
          "2012-05",
          "2012-06",
          "2012-07",
          "2012-08",
          "2012-09",
          "2012-10",
          "2012-11",
          "2012-12",
          "2013-01",
          "2013-02",
          "2013-03",
          "2013-04",
          "2013-05",
          "2013-06",
          "2013-07",
          "2013-08",
          "2013-09",
          "2013-10",
          "2013-11",
          "2013-12",
          "2014-01",
          "2014-02",
          "2014-03",
          "2014-04",
          "2014-05",
          "2014-06",
          "2014-07",
          "2014-08",
          "2014-09",
          "2014-10",
          "2014-11",
          "2014-12",
          "2015-01",
          "2015-02",
          "2015-03",
          "2015-04",
          "2015-05",
          "2015-06",
          "2015-07",
          "2015-08",
          "2015-09",
          "2015-10",
          "2015-11",
          "2015-12",
          "2016-01",
          "2016-02",
          "2016-03",
          "2016-04",
          "2016-05",
          "2016-06",
          "2016-07",
          "2016-08",
          "2016-09",
          "2016-10",
          "2016-11",
          "2016-12",
          "2017-01",
          "2017-02",
          "2017-03",
          "2017-04",
          "2017-05",
          "2017-06",
          "2017-07",
          "2017-08",
          "2017-09",
          "2017-10",
          "2017-11",
          "2017-12",
          "2018-01",
          "2018-02",
          "2018-03",
          "2018-04",
          "2018-05",
          "2018-06",
          "2018-07",
          "2018-08",
          "2018-09",
          "2018-10",
          "2018-11",
          "2018-12",
          "2019-01",
          "2019-02",
          "2019-03",
          "2019-04",
          "2019-05",
          "2019-06",
          "2019-07",
          "2019-08",
          "2019-09",
          "2019-10",
          "2019-11",
          "2019-12",
          "2020-01",
          "2020-02",
          "2020-03",
          "2020-04",
          "2020-05",
          "2020-06",
          "2020-07",
          "2020-08",
          "2020-09"
         ],
         "y": [
          0,
          26,
          71,
          94,
          107,
          77,
          92,
          122,
          155,
          167,
          177,
          192,
          247,
          239,
          276,
          254,
          279,
          274,
          351,
          353,
          355,
          366,
          366,
          363,
          432,
          487,
          429,
          412,
          463,
          466,
          582,
          599,
          699,
          683,
          735,
          703,
          769,
          782,
          734,
          704,
          716,
          738,
          794,
          880,
          921,
          880,
          905,
          903,
          926,
          926,
          902,
          971,
          980,
          861,
          1072,
          1064,
          1125,
          1108,
          1136,
          1009,
          1161,
          1132,
          1112,
          1196,
          1120,
          1116,
          1304,
          1323,
          1319,
          1353,
          1180,
          1002,
          1053,
          1019,
          979,
          1082,
          967,
          901,
          998,
          929,
          1080,
          1099,
          1087,
          1056,
          1128,
          1004,
          1016,
          976,
          909,
          952,
          1058,
          1023,
          1120,
          1066,
          1033,
          960,
          899,
          905,
          851,
          865,
          854,
          838,
          890,
          911,
          1016,
          868,
          902,
          824,
          837,
          801,
          770,
          808,
          777,
          684,
          726,
          659,
          728,
          657,
          665,
          604,
          659,
          630,
          594,
          598,
          517,
          474,
          518,
          549,
          586,
          520,
          558,
          449,
          505,
          476,
          471,
          565,
          539,
          466,
          545,
          496,
          565,
          675,
          669,
          564,
          587,
          566,
          102
         ]
        },
        {
         "line": {
          "color": "#74b9ff",
          "width": 2
         },
         "mode": "lines",
         "name": "New Technologies",
         "type": "scatter",
         "x": [
          "2008-07",
          "2008-08",
          "2008-09",
          "2008-10",
          "2008-11",
          "2008-12",
          "2009-01",
          "2009-02",
          "2009-03",
          "2009-04",
          "2009-05",
          "2009-06",
          "2009-07",
          "2009-08",
          "2009-09",
          "2009-10",
          "2009-11",
          "2009-12",
          "2010-01",
          "2010-02",
          "2010-03",
          "2010-04",
          "2010-05",
          "2010-06",
          "2010-07",
          "2010-08",
          "2010-09",
          "2010-10",
          "2010-11",
          "2010-12",
          "2011-01",
          "2011-02",
          "2011-03",
          "2011-04",
          "2011-05",
          "2011-06",
          "2011-07",
          "2011-08",
          "2011-09",
          "2011-10",
          "2011-11",
          "2011-12",
          "2012-01",
          "2012-02",
          "2012-03",
          "2012-04",
          "2012-05",
          "2012-06",
          "2012-07",
          "2012-08",
          "2012-09",
          "2012-10",
          "2012-11",
          "2012-12",
          "2013-01",
          "2013-02",
          "2013-03",
          "2013-04",
          "2013-05",
          "2013-06",
          "2013-07",
          "2013-08",
          "2013-09",
          "2013-10",
          "2013-11",
          "2013-12",
          "2014-01",
          "2014-02",
          "2014-03",
          "2014-04",
          "2014-05",
          "2014-06",
          "2014-07",
          "2014-08",
          "2014-09",
          "2014-10",
          "2014-11",
          "2014-12",
          "2015-01",
          "2015-02",
          "2015-03",
          "2015-04",
          "2015-05",
          "2015-06",
          "2015-07",
          "2015-08",
          "2015-09",
          "2015-10",
          "2015-11",
          "2015-12",
          "2016-01",
          "2016-02",
          "2016-03",
          "2016-04",
          "2016-05",
          "2016-06",
          "2016-07",
          "2016-08",
          "2016-09",
          "2016-10",
          "2016-11",
          "2016-12",
          "2017-01",
          "2017-02",
          "2017-03",
          "2017-04",
          "2017-05",
          "2017-06",
          "2017-07",
          "2017-08",
          "2017-09",
          "2017-10",
          "2017-11",
          "2017-12",
          "2018-01",
          "2018-02",
          "2018-03",
          "2018-04",
          "2018-05",
          "2018-06",
          "2018-07",
          "2018-08",
          "2018-09",
          "2018-10",
          "2018-11",
          "2018-12",
          "2019-01",
          "2019-02",
          "2019-03",
          "2019-04",
          "2019-05",
          "2019-06",
          "2019-07",
          "2019-08",
          "2019-09",
          "2019-10",
          "2019-11",
          "2019-12",
          "2020-01",
          "2020-02",
          "2020-03",
          "2020-04",
          "2020-05",
          "2020-06",
          "2020-07",
          "2020-08",
          "2020-09"
         ],
         "y": [
          0,
          3,
          10,
          23,
          15,
          21,
          21,
          22,
          39,
          38,
          64,
          62,
          67,
          62,
          70,
          78,
          67,
          77,
          93,
          106,
          110,
          111,
          116,
          120,
          154,
          146,
          156,
          184,
          186,
          203,
          207,
          242,
          300,
          280,
          299,
          302,
          305,
          310,
          337,
          316,
          324,
          310,
          375,
          364,
          404,
          402,
          404,
          392,
          434,
          432,
          391,
          441,
          397,
          382,
          488,
          479,
          519,
          482,
          486,
          509,
          495,
          559,
          459,
          530,
          503,
          489,
          579,
          539,
          599,
          584,
          561,
          563,
          589,
          524,
          553,
          487,
          521,
          501,
          507,
          537,
          597,
          633,
          611,
          665,
          695,
          607,
          599,
          592,
          566,
          575,
          664,
          671,
          698,
          674,
          627,
          631,
          603,
          630,
          587,
          572,
          587,
          556,
          608,
          578,
          674,
          598,
          669,
          604,
          630,
          581,
          616,
          570,
          598,
          504,
          595,
          553,
          568,
          594,
          607,
          500,
          546,
          594,
          515,
          578,
          525,
          491,
          534,
          517,
          582,
          584,
          570,
          487,
          573,
          527,
          586,
          637,
          637,
          595,
          647,
          617,
          745,
          857,
          806,
          819,
          845,
          764,
          127
         ]
        }
       ],
       "layout": {
        "annotations": [
         {
          "showarrow": false,
          "text": "Old Technologies: PHP, Java servlet, ASP\n                                                 New Technologies: Express, Django, Spring exc.",
          "x": 0.5,
          "xref": "paper",
          "y": -0.25,
          "yref": "paper"
         }
        ],
        "margin": {
         "b": 90
        },
        "template": {
         "data": {
          "bar": [
           {
            "error_x": {
             "color": "#2a3f5f"
            },
            "error_y": {
             "color": "#2a3f5f"
            },
            "marker": {
             "line": {
              "color": "#E5ECF6",
              "width": 0.5
             }
            },
            "type": "bar"
           }
          ],
          "barpolar": [
           {
            "marker": {
             "line": {
              "color": "#E5ECF6",
              "width": 0.5
             }
            },
            "type": "barpolar"
           }
          ],
          "carpet": [
           {
            "aaxis": {
             "endlinecolor": "#2a3f5f",
             "gridcolor": "white",
             "linecolor": "white",
             "minorgridcolor": "white",
             "startlinecolor": "#2a3f5f"
            },
            "baxis": {
             "endlinecolor": "#2a3f5f",
             "gridcolor": "white",
             "linecolor": "white",
             "minorgridcolor": "white",
             "startlinecolor": "#2a3f5f"
            },
            "type": "carpet"
           }
          ],
          "choropleth": [
           {
            "colorbar": {
             "outlinewidth": 0,
             "ticks": ""
            },
            "type": "choropleth"
           }
          ],
          "contour": [
           {
            "colorbar": {
             "outlinewidth": 0,
             "ticks": ""
            },
            "colorscale": [
             [
              0,
              "#0d0887"
             ],
             [
              0.1111111111111111,
              "#46039f"
             ],
             [
              0.2222222222222222,
              "#7201a8"
             ],
             [
              0.3333333333333333,
              "#9c179e"
             ],
             [
              0.4444444444444444,
              "#bd3786"
             ],
             [
              0.5555555555555556,
              "#d8576b"
             ],
             [
              0.6666666666666666,
              "#ed7953"
             ],
             [
              0.7777777777777778,
              "#fb9f3a"
             ],
             [
              0.8888888888888888,
              "#fdca26"
             ],
             [
              1,
              "#f0f921"
             ]
            ],
            "type": "contour"
           }
          ],
          "contourcarpet": [
           {
            "colorbar": {
             "outlinewidth": 0,
             "ticks": ""
            },
            "type": "contourcarpet"
           }
          ],
          "heatmap": [
           {
            "colorbar": {
             "outlinewidth": 0,
             "ticks": ""
            },
            "colorscale": [
             [
              0,
              "#0d0887"
             ],
             [
              0.1111111111111111,
              "#46039f"
             ],
             [
              0.2222222222222222,
              "#7201a8"
             ],
             [
              0.3333333333333333,
              "#9c179e"
             ],
             [
              0.4444444444444444,
              "#bd3786"
             ],
             [
              0.5555555555555556,
              "#d8576b"
             ],
             [
              0.6666666666666666,
              "#ed7953"
             ],
             [
              0.7777777777777778,
              "#fb9f3a"
             ],
             [
              0.8888888888888888,
              "#fdca26"
             ],
             [
              1,
              "#f0f921"
             ]
            ],
            "type": "heatmap"
           }
          ],
          "heatmapgl": [
           {
            "colorbar": {
             "outlinewidth": 0,
             "ticks": ""
            },
            "colorscale": [
             [
              0,
              "#0d0887"
             ],
             [
              0.1111111111111111,
              "#46039f"
             ],
             [
              0.2222222222222222,
              "#7201a8"
             ],
             [
              0.3333333333333333,
              "#9c179e"
             ],
             [
              0.4444444444444444,
              "#bd3786"
             ],
             [
              0.5555555555555556,
              "#d8576b"
             ],
             [
              0.6666666666666666,
              "#ed7953"
             ],
             [
              0.7777777777777778,
              "#fb9f3a"
             ],
             [
              0.8888888888888888,
              "#fdca26"
             ],
             [
              1,
              "#f0f921"
             ]
            ],
            "type": "heatmapgl"
           }
          ],
          "histogram": [
           {
            "marker": {
             "colorbar": {
              "outlinewidth": 0,
              "ticks": ""
             }
            },
            "type": "histogram"
           }
          ],
          "histogram2d": [
           {
            "colorbar": {
             "outlinewidth": 0,
             "ticks": ""
            },
            "colorscale": [
             [
              0,
              "#0d0887"
             ],
             [
              0.1111111111111111,
              "#46039f"
             ],
             [
              0.2222222222222222,
              "#7201a8"
             ],
             [
              0.3333333333333333,
              "#9c179e"
             ],
             [
              0.4444444444444444,
              "#bd3786"
             ],
             [
              0.5555555555555556,
              "#d8576b"
             ],
             [
              0.6666666666666666,
              "#ed7953"
             ],
             [
              0.7777777777777778,
              "#fb9f3a"
             ],
             [
              0.8888888888888888,
              "#fdca26"
             ],
             [
              1,
              "#f0f921"
             ]
            ],
            "type": "histogram2d"
           }
          ],
          "histogram2dcontour": [
           {
            "colorbar": {
             "outlinewidth": 0,
             "ticks": ""
            },
            "colorscale": [
             [
              0,
              "#0d0887"
             ],
             [
              0.1111111111111111,
              "#46039f"
             ],
             [
              0.2222222222222222,
              "#7201a8"
             ],
             [
              0.3333333333333333,
              "#9c179e"
             ],
             [
              0.4444444444444444,
              "#bd3786"
             ],
             [
              0.5555555555555556,
              "#d8576b"
             ],
             [
              0.6666666666666666,
              "#ed7953"
             ],
             [
              0.7777777777777778,
              "#fb9f3a"
             ],
             [
              0.8888888888888888,
              "#fdca26"
             ],
             [
              1,
              "#f0f921"
             ]
            ],
            "type": "histogram2dcontour"
           }
          ],
          "mesh3d": [
           {
            "colorbar": {
             "outlinewidth": 0,
             "ticks": ""
            },
            "type": "mesh3d"
           }
          ],
          "parcoords": [
           {
            "line": {
             "colorbar": {
              "outlinewidth": 0,
              "ticks": ""
             }
            },
            "type": "parcoords"
           }
          ],
          "pie": [
           {
            "automargin": true,
            "type": "pie"
           }
          ],
          "scatter": [
           {
            "marker": {
             "colorbar": {
              "outlinewidth": 0,
              "ticks": ""
             }
            },
            "type": "scatter"
           }
          ],
          "scatter3d": [
           {
            "line": {
             "colorbar": {
              "outlinewidth": 0,
              "ticks": ""
             }
            },
            "marker": {
             "colorbar": {
              "outlinewidth": 0,
              "ticks": ""
             }
            },
            "type": "scatter3d"
           }
          ],
          "scattercarpet": [
           {
            "marker": {
             "colorbar": {
              "outlinewidth": 0,
              "ticks": ""
             }
            },
            "type": "scattercarpet"
           }
          ],
          "scattergeo": [
           {
            "marker": {
             "colorbar": {
              "outlinewidth": 0,
              "ticks": ""
             }
            },
            "type": "scattergeo"
           }
          ],
          "scattergl": [
           {
            "marker": {
             "colorbar": {
              "outlinewidth": 0,
              "ticks": ""
             }
            },
            "type": "scattergl"
           }
          ],
          "scattermapbox": [
           {
            "marker": {
             "colorbar": {
              "outlinewidth": 0,
              "ticks": ""
             }
            },
            "type": "scattermapbox"
           }
          ],
          "scatterpolar": [
           {
            "marker": {
             "colorbar": {
              "outlinewidth": 0,
              "ticks": ""
             }
            },
            "type": "scatterpolar"
           }
          ],
          "scatterpolargl": [
           {
            "marker": {
             "colorbar": {
              "outlinewidth": 0,
              "ticks": ""
             }
            },
            "type": "scatterpolargl"
           }
          ],
          "scatterternary": [
           {
            "marker": {
             "colorbar": {
              "outlinewidth": 0,
              "ticks": ""
             }
            },
            "type": "scatterternary"
           }
          ],
          "surface": [
           {
            "colorbar": {
             "outlinewidth": 0,
             "ticks": ""
            },
            "colorscale": [
             [
              0,
              "#0d0887"
             ],
             [
              0.1111111111111111,
              "#46039f"
             ],
             [
              0.2222222222222222,
              "#7201a8"
             ],
             [
              0.3333333333333333,
              "#9c179e"
             ],
             [
              0.4444444444444444,
              "#bd3786"
             ],
             [
              0.5555555555555556,
              "#d8576b"
             ],
             [
              0.6666666666666666,
              "#ed7953"
             ],
             [
              0.7777777777777778,
              "#fb9f3a"
             ],
             [
              0.8888888888888888,
              "#fdca26"
             ],
             [
              1,
              "#f0f921"
             ]
            ],
            "type": "surface"
           }
          ],
          "table": [
           {
            "cells": {
             "fill": {
              "color": "#EBF0F8"
             },
             "line": {
              "color": "white"
             }
            },
            "header": {
             "fill": {
              "color": "#C8D4E3"
             },
             "line": {
              "color": "white"
             }
            },
            "type": "table"
           }
          ]
         },
         "layout": {
          "annotationdefaults": {
           "arrowcolor": "#2a3f5f",
           "arrowhead": 0,
           "arrowwidth": 1
          },
          "coloraxis": {
           "colorbar": {
            "outlinewidth": 0,
            "ticks": ""
           }
          },
          "colorscale": {
           "diverging": [
            [
             0,
             "#8e0152"
            ],
            [
             0.1,
             "#c51b7d"
            ],
            [
             0.2,
             "#de77ae"
            ],
            [
             0.3,
             "#f1b6da"
            ],
            [
             0.4,
             "#fde0ef"
            ],
            [
             0.5,
             "#f7f7f7"
            ],
            [
             0.6,
             "#e6f5d0"
            ],
            [
             0.7,
             "#b8e186"
            ],
            [
             0.8,
             "#7fbc41"
            ],
            [
             0.9,
             "#4d9221"
            ],
            [
             1,
             "#276419"
            ]
           ],
           "sequential": [
            [
             0,
             "#0d0887"
            ],
            [
             0.1111111111111111,
             "#46039f"
            ],
            [
             0.2222222222222222,
             "#7201a8"
            ],
            [
             0.3333333333333333,
             "#9c179e"
            ],
            [
             0.4444444444444444,
             "#bd3786"
            ],
            [
             0.5555555555555556,
             "#d8576b"
            ],
            [
             0.6666666666666666,
             "#ed7953"
            ],
            [
             0.7777777777777778,
             "#fb9f3a"
            ],
            [
             0.8888888888888888,
             "#fdca26"
            ],
            [
             1,
             "#f0f921"
            ]
           ],
           "sequentialminus": [
            [
             0,
             "#0d0887"
            ],
            [
             0.1111111111111111,
             "#46039f"
            ],
            [
             0.2222222222222222,
             "#7201a8"
            ],
            [
             0.3333333333333333,
             "#9c179e"
            ],
            [
             0.4444444444444444,
             "#bd3786"
            ],
            [
             0.5555555555555556,
             "#d8576b"
            ],
            [
             0.6666666666666666,
             "#ed7953"
            ],
            [
             0.7777777777777778,
             "#fb9f3a"
            ],
            [
             0.8888888888888888,
             "#fdca26"
            ],
            [
             1,
             "#f0f921"
            ]
           ]
          },
          "colorway": [
           "#636efa",
           "#EF553B",
           "#00cc96",
           "#ab63fa",
           "#FFA15A",
           "#19d3f3",
           "#FF6692",
           "#B6E880",
           "#FF97FF",
           "#FECB52"
          ],
          "font": {
           "color": "#2a3f5f"
          },
          "geo": {
           "bgcolor": "white",
           "lakecolor": "white",
           "landcolor": "#E5ECF6",
           "showlakes": true,
           "showland": true,
           "subunitcolor": "white"
          },
          "hoverlabel": {
           "align": "left"
          },
          "hovermode": "closest",
          "mapbox": {
           "style": "light"
          },
          "paper_bgcolor": "white",
          "plot_bgcolor": "#E5ECF6",
          "polar": {
           "angularaxis": {
            "gridcolor": "white",
            "linecolor": "white",
            "ticks": ""
           },
           "bgcolor": "#E5ECF6",
           "radialaxis": {
            "gridcolor": "white",
            "linecolor": "white",
            "ticks": ""
           }
          },
          "scene": {
           "xaxis": {
            "backgroundcolor": "#E5ECF6",
            "gridcolor": "white",
            "gridwidth": 2,
            "linecolor": "white",
            "showbackground": true,
            "ticks": "",
            "zerolinecolor": "white"
           },
           "yaxis": {
            "backgroundcolor": "#E5ECF6",
            "gridcolor": "white",
            "gridwidth": 2,
            "linecolor": "white",
            "showbackground": true,
            "ticks": "",
            "zerolinecolor": "white"
           },
           "zaxis": {
            "backgroundcolor": "#E5ECF6",
            "gridcolor": "white",
            "gridwidth": 2,
            "linecolor": "white",
            "showbackground": true,
            "ticks": "",
            "zerolinecolor": "white"
           }
          },
          "shapedefaults": {
           "line": {
            "color": "#2a3f5f"
           }
          },
          "ternary": {
           "aaxis": {
            "gridcolor": "white",
            "linecolor": "white",
            "ticks": ""
           },
           "baxis": {
            "gridcolor": "white",
            "linecolor": "white",
            "ticks": ""
           },
           "bgcolor": "#E5ECF6",
           "caxis": {
            "gridcolor": "white",
            "linecolor": "white",
            "ticks": ""
           }
          },
          "title": {
           "x": 0.05
          },
          "xaxis": {
           "automargin": true,
           "gridcolor": "white",
           "linecolor": "white",
           "ticks": "",
           "title": {
            "standoff": 15
           },
           "zerolinecolor": "white",
           "zerolinewidth": 2
          },
          "yaxis": {
           "automargin": true,
           "gridcolor": "white",
           "linecolor": "white",
           "ticks": "",
           "title": {
            "standoff": 15
           },
           "zerolinecolor": "white",
           "zerolinewidth": 2
          }
         }
        },
        "title": {
         "text": "Old vs New Web Backend Technologies over 2008-2020 (based on a 1mln sample)"
        },
        "xaxis": {
         "title": {
          "text": "Years"
         }
        },
        "yaxis": {
         "title": {
          "text": "Number of questions (sample relative)"
         }
        }
       }
      },
      "text/html": [
       "<div>                            <div id=\"11c5f465-f23d-4a2a-a1d2-4a9f5d2edd57\" class=\"plotly-graph-div\" style=\"height:525px; width:100%;\"></div>            <script type=\"text/javascript\">                require([\"plotly\"], function(Plotly) {                    window.PLOTLYENV=window.PLOTLYENV || {};                                    if (document.getElementById(\"11c5f465-f23d-4a2a-a1d2-4a9f5d2edd57\")) {                    Plotly.newPlot(                        \"11c5f465-f23d-4a2a-a1d2-4a9f5d2edd57\",                        [{\"line\": {\"color\": \"#e74c3c\", \"width\": 2}, \"mode\": \"lines\", \"name\": \"Old Technologies\", \"type\": \"scatter\", \"x\": [\"2008-07\", \"2008-08\", \"2008-09\", \"2008-10\", \"2008-11\", \"2008-12\", \"2009-01\", \"2009-02\", \"2009-03\", \"2009-04\", \"2009-05\", \"2009-06\", \"2009-07\", \"2009-08\", \"2009-09\", \"2009-10\", \"2009-11\", \"2009-12\", \"2010-01\", \"2010-02\", \"2010-03\", \"2010-04\", \"2010-05\", \"2010-06\", \"2010-07\", \"2010-08\", \"2010-09\", \"2010-10\", \"2010-11\", \"2010-12\", \"2011-01\", \"2011-02\", \"2011-03\", \"2011-04\", \"2011-05\", \"2011-06\", \"2011-07\", \"2011-08\", \"2011-09\", \"2011-10\", \"2011-11\", \"2011-12\", \"2012-01\", \"2012-02\", \"2012-03\", \"2012-04\", \"2012-05\", \"2012-06\", \"2012-07\", \"2012-08\", \"2012-09\", \"2012-10\", \"2012-11\", \"2012-12\", \"2013-01\", \"2013-02\", \"2013-03\", \"2013-04\", \"2013-05\", \"2013-06\", \"2013-07\", \"2013-08\", \"2013-09\", \"2013-10\", \"2013-11\", \"2013-12\", \"2014-01\", \"2014-02\", \"2014-03\", \"2014-04\", \"2014-05\", \"2014-06\", \"2014-07\", \"2014-08\", \"2014-09\", \"2014-10\", \"2014-11\", \"2014-12\", \"2015-01\", \"2015-02\", \"2015-03\", \"2015-04\", \"2015-05\", \"2015-06\", \"2015-07\", \"2015-08\", \"2015-09\", \"2015-10\", \"2015-11\", \"2015-12\", \"2016-01\", \"2016-02\", \"2016-03\", \"2016-04\", \"2016-05\", \"2016-06\", \"2016-07\", \"2016-08\", \"2016-09\", \"2016-10\", \"2016-11\", \"2016-12\", \"2017-01\", \"2017-02\", \"2017-03\", \"2017-04\", \"2017-05\", \"2017-06\", \"2017-07\", \"2017-08\", \"2017-09\", \"2017-10\", \"2017-11\", \"2017-12\", \"2018-01\", \"2018-02\", \"2018-03\", \"2018-04\", \"2018-05\", \"2018-06\", \"2018-07\", \"2018-08\", \"2018-09\", \"2018-10\", \"2018-11\", \"2018-12\", \"2019-01\", \"2019-02\", \"2019-03\", \"2019-04\", \"2019-05\", \"2019-06\", \"2019-07\", \"2019-08\", \"2019-09\", \"2019-10\", \"2019-11\", \"2019-12\", \"2020-01\", \"2020-02\", \"2020-03\", \"2020-04\", \"2020-05\", \"2020-06\", \"2020-07\", \"2020-08\", \"2020-09\"], \"y\": [0, 26, 71, 94, 107, 77, 92, 122, 155, 167, 177, 192, 247, 239, 276, 254, 279, 274, 351, 353, 355, 366, 366, 363, 432, 487, 429, 412, 463, 466, 582, 599, 699, 683, 735, 703, 769, 782, 734, 704, 716, 738, 794, 880, 921, 880, 905, 903, 926, 926, 902, 971, 980, 861, 1072, 1064, 1125, 1108, 1136, 1009, 1161, 1132, 1112, 1196, 1120, 1116, 1304, 1323, 1319, 1353, 1180, 1002, 1053, 1019, 979, 1082, 967, 901, 998, 929, 1080, 1099, 1087, 1056, 1128, 1004, 1016, 976, 909, 952, 1058, 1023, 1120, 1066, 1033, 960, 899, 905, 851, 865, 854, 838, 890, 911, 1016, 868, 902, 824, 837, 801, 770, 808, 777, 684, 726, 659, 728, 657, 665, 604, 659, 630, 594, 598, 517, 474, 518, 549, 586, 520, 558, 449, 505, 476, 471, 565, 539, 466, 545, 496, 565, 675, 669, 564, 587, 566, 102]}, {\"line\": {\"color\": \"#74b9ff\", \"width\": 2}, \"mode\": \"lines\", \"name\": \"New Technologies\", \"type\": \"scatter\", \"x\": [\"2008-07\", \"2008-08\", \"2008-09\", \"2008-10\", \"2008-11\", \"2008-12\", \"2009-01\", \"2009-02\", \"2009-03\", \"2009-04\", \"2009-05\", \"2009-06\", \"2009-07\", \"2009-08\", \"2009-09\", \"2009-10\", \"2009-11\", \"2009-12\", \"2010-01\", \"2010-02\", \"2010-03\", \"2010-04\", \"2010-05\", \"2010-06\", \"2010-07\", \"2010-08\", \"2010-09\", \"2010-10\", \"2010-11\", \"2010-12\", \"2011-01\", \"2011-02\", \"2011-03\", \"2011-04\", \"2011-05\", \"2011-06\", \"2011-07\", \"2011-08\", \"2011-09\", \"2011-10\", \"2011-11\", \"2011-12\", \"2012-01\", \"2012-02\", \"2012-03\", \"2012-04\", \"2012-05\", \"2012-06\", \"2012-07\", \"2012-08\", \"2012-09\", \"2012-10\", \"2012-11\", \"2012-12\", \"2013-01\", \"2013-02\", \"2013-03\", \"2013-04\", \"2013-05\", \"2013-06\", \"2013-07\", \"2013-08\", \"2013-09\", \"2013-10\", \"2013-11\", \"2013-12\", \"2014-01\", \"2014-02\", \"2014-03\", \"2014-04\", \"2014-05\", \"2014-06\", \"2014-07\", \"2014-08\", \"2014-09\", \"2014-10\", \"2014-11\", \"2014-12\", \"2015-01\", \"2015-02\", \"2015-03\", \"2015-04\", \"2015-05\", \"2015-06\", \"2015-07\", \"2015-08\", \"2015-09\", \"2015-10\", \"2015-11\", \"2015-12\", \"2016-01\", \"2016-02\", \"2016-03\", \"2016-04\", \"2016-05\", \"2016-06\", \"2016-07\", \"2016-08\", \"2016-09\", \"2016-10\", \"2016-11\", \"2016-12\", \"2017-01\", \"2017-02\", \"2017-03\", \"2017-04\", \"2017-05\", \"2017-06\", \"2017-07\", \"2017-08\", \"2017-09\", \"2017-10\", \"2017-11\", \"2017-12\", \"2018-01\", \"2018-02\", \"2018-03\", \"2018-04\", \"2018-05\", \"2018-06\", \"2018-07\", \"2018-08\", \"2018-09\", \"2018-10\", \"2018-11\", \"2018-12\", \"2019-01\", \"2019-02\", \"2019-03\", \"2019-04\", \"2019-05\", \"2019-06\", \"2019-07\", \"2019-08\", \"2019-09\", \"2019-10\", \"2019-11\", \"2019-12\", \"2020-01\", \"2020-02\", \"2020-03\", \"2020-04\", \"2020-05\", \"2020-06\", \"2020-07\", \"2020-08\", \"2020-09\"], \"y\": [0, 3, 10, 23, 15, 21, 21, 22, 39, 38, 64, 62, 67, 62, 70, 78, 67, 77, 93, 106, 110, 111, 116, 120, 154, 146, 156, 184, 186, 203, 207, 242, 300, 280, 299, 302, 305, 310, 337, 316, 324, 310, 375, 364, 404, 402, 404, 392, 434, 432, 391, 441, 397, 382, 488, 479, 519, 482, 486, 509, 495, 559, 459, 530, 503, 489, 579, 539, 599, 584, 561, 563, 589, 524, 553, 487, 521, 501, 507, 537, 597, 633, 611, 665, 695, 607, 599, 592, 566, 575, 664, 671, 698, 674, 627, 631, 603, 630, 587, 572, 587, 556, 608, 578, 674, 598, 669, 604, 630, 581, 616, 570, 598, 504, 595, 553, 568, 594, 607, 500, 546, 594, 515, 578, 525, 491, 534, 517, 582, 584, 570, 487, 573, 527, 586, 637, 637, 595, 647, 617, 745, 857, 806, 819, 845, 764, 127]}],                        {\"annotations\": [{\"showarrow\": false, \"text\": \"Old Technologies: PHP, Java servlet, ASP\\n                                                 New Technologies: Express, Django, Spring exc.\", \"x\": 0.5, \"xref\": \"paper\", \"y\": -0.25, \"yref\": \"paper\"}], \"margin\": {\"b\": 90}, \"template\": {\"data\": {\"bar\": [{\"error_x\": {\"color\": \"#2a3f5f\"}, \"error_y\": {\"color\": \"#2a3f5f\"}, \"marker\": {\"line\": {\"color\": \"#E5ECF6\", \"width\": 0.5}}, \"type\": \"bar\"}], \"barpolar\": [{\"marker\": {\"line\": {\"color\": \"#E5ECF6\", \"width\": 0.5}}, \"type\": \"barpolar\"}], \"carpet\": [{\"aaxis\": {\"endlinecolor\": \"#2a3f5f\", \"gridcolor\": \"white\", \"linecolor\": \"white\", \"minorgridcolor\": \"white\", \"startlinecolor\": \"#2a3f5f\"}, \"baxis\": {\"endlinecolor\": \"#2a3f5f\", \"gridcolor\": \"white\", \"linecolor\": \"white\", \"minorgridcolor\": \"white\", \"startlinecolor\": \"#2a3f5f\"}, \"type\": \"carpet\"}], \"choropleth\": [{\"colorbar\": {\"outlinewidth\": 0, \"ticks\": \"\"}, \"type\": \"choropleth\"}], \"contour\": [{\"colorbar\": {\"outlinewidth\": 0, \"ticks\": \"\"}, \"colorscale\": [[0.0, \"#0d0887\"], [0.1111111111111111, \"#46039f\"], [0.2222222222222222, \"#7201a8\"], [0.3333333333333333, \"#9c179e\"], [0.4444444444444444, \"#bd3786\"], [0.5555555555555556, \"#d8576b\"], [0.6666666666666666, \"#ed7953\"], [0.7777777777777778, \"#fb9f3a\"], [0.8888888888888888, \"#fdca26\"], [1.0, \"#f0f921\"]], \"type\": \"contour\"}], \"contourcarpet\": [{\"colorbar\": {\"outlinewidth\": 0, \"ticks\": \"\"}, \"type\": \"contourcarpet\"}], \"heatmap\": [{\"colorbar\": {\"outlinewidth\": 0, \"ticks\": \"\"}, \"colorscale\": [[0.0, \"#0d0887\"], [0.1111111111111111, \"#46039f\"], [0.2222222222222222, \"#7201a8\"], [0.3333333333333333, \"#9c179e\"], [0.4444444444444444, \"#bd3786\"], [0.5555555555555556, \"#d8576b\"], [0.6666666666666666, \"#ed7953\"], [0.7777777777777778, \"#fb9f3a\"], [0.8888888888888888, \"#fdca26\"], [1.0, \"#f0f921\"]], \"type\": \"heatmap\"}], \"heatmapgl\": [{\"colorbar\": {\"outlinewidth\": 0, \"ticks\": \"\"}, \"colorscale\": [[0.0, \"#0d0887\"], [0.1111111111111111, \"#46039f\"], [0.2222222222222222, \"#7201a8\"], [0.3333333333333333, \"#9c179e\"], [0.4444444444444444, \"#bd3786\"], [0.5555555555555556, \"#d8576b\"], [0.6666666666666666, \"#ed7953\"], [0.7777777777777778, \"#fb9f3a\"], [0.8888888888888888, \"#fdca26\"], [1.0, \"#f0f921\"]], \"type\": \"heatmapgl\"}], \"histogram\": [{\"marker\": {\"colorbar\": {\"outlinewidth\": 0, \"ticks\": \"\"}}, \"type\": \"histogram\"}], \"histogram2d\": [{\"colorbar\": {\"outlinewidth\": 0, \"ticks\": \"\"}, \"colorscale\": [[0.0, \"#0d0887\"], [0.1111111111111111, \"#46039f\"], [0.2222222222222222, \"#7201a8\"], [0.3333333333333333, \"#9c179e\"], [0.4444444444444444, \"#bd3786\"], [0.5555555555555556, \"#d8576b\"], [0.6666666666666666, \"#ed7953\"], [0.7777777777777778, \"#fb9f3a\"], [0.8888888888888888, \"#fdca26\"], [1.0, \"#f0f921\"]], \"type\": \"histogram2d\"}], \"histogram2dcontour\": [{\"colorbar\": {\"outlinewidth\": 0, \"ticks\": \"\"}, \"colorscale\": [[0.0, \"#0d0887\"], [0.1111111111111111, \"#46039f\"], [0.2222222222222222, \"#7201a8\"], [0.3333333333333333, \"#9c179e\"], [0.4444444444444444, \"#bd3786\"], [0.5555555555555556, \"#d8576b\"], [0.6666666666666666, \"#ed7953\"], [0.7777777777777778, \"#fb9f3a\"], [0.8888888888888888, \"#fdca26\"], [1.0, \"#f0f921\"]], \"type\": \"histogram2dcontour\"}], \"mesh3d\": [{\"colorbar\": {\"outlinewidth\": 0, \"ticks\": \"\"}, \"type\": \"mesh3d\"}], \"parcoords\": [{\"line\": {\"colorbar\": {\"outlinewidth\": 0, \"ticks\": \"\"}}, \"type\": \"parcoords\"}], \"pie\": [{\"automargin\": true, \"type\": \"pie\"}], \"scatter\": [{\"marker\": {\"colorbar\": {\"outlinewidth\": 0, \"ticks\": \"\"}}, \"type\": \"scatter\"}], \"scatter3d\": [{\"line\": {\"colorbar\": {\"outlinewidth\": 0, \"ticks\": \"\"}}, \"marker\": {\"colorbar\": {\"outlinewidth\": 0, \"ticks\": \"\"}}, \"type\": \"scatter3d\"}], \"scattercarpet\": [{\"marker\": {\"colorbar\": {\"outlinewidth\": 0, \"ticks\": \"\"}}, \"type\": \"scattercarpet\"}], \"scattergeo\": [{\"marker\": {\"colorbar\": {\"outlinewidth\": 0, \"ticks\": \"\"}}, \"type\": \"scattergeo\"}], \"scattergl\": [{\"marker\": {\"colorbar\": {\"outlinewidth\": 0, \"ticks\": \"\"}}, \"type\": \"scattergl\"}], \"scattermapbox\": [{\"marker\": {\"colorbar\": {\"outlinewidth\": 0, \"ticks\": \"\"}}, \"type\": \"scattermapbox\"}], \"scatterpolar\": [{\"marker\": {\"colorbar\": {\"outlinewidth\": 0, \"ticks\": \"\"}}, \"type\": \"scatterpolar\"}], \"scatterpolargl\": [{\"marker\": {\"colorbar\": {\"outlinewidth\": 0, \"ticks\": \"\"}}, \"type\": \"scatterpolargl\"}], \"scatterternary\": [{\"marker\": {\"colorbar\": {\"outlinewidth\": 0, \"ticks\": \"\"}}, \"type\": \"scatterternary\"}], \"surface\": [{\"colorbar\": {\"outlinewidth\": 0, \"ticks\": \"\"}, \"colorscale\": [[0.0, \"#0d0887\"], [0.1111111111111111, \"#46039f\"], [0.2222222222222222, \"#7201a8\"], [0.3333333333333333, \"#9c179e\"], [0.4444444444444444, \"#bd3786\"], [0.5555555555555556, \"#d8576b\"], [0.6666666666666666, \"#ed7953\"], [0.7777777777777778, \"#fb9f3a\"], [0.8888888888888888, \"#fdca26\"], [1.0, \"#f0f921\"]], \"type\": \"surface\"}], \"table\": [{\"cells\": {\"fill\": {\"color\": \"#EBF0F8\"}, \"line\": {\"color\": \"white\"}}, \"header\": {\"fill\": {\"color\": \"#C8D4E3\"}, \"line\": {\"color\": \"white\"}}, \"type\": \"table\"}]}, \"layout\": {\"annotationdefaults\": {\"arrowcolor\": \"#2a3f5f\", \"arrowhead\": 0, \"arrowwidth\": 1}, \"coloraxis\": {\"colorbar\": {\"outlinewidth\": 0, \"ticks\": \"\"}}, \"colorscale\": {\"diverging\": [[0, \"#8e0152\"], [0.1, \"#c51b7d\"], [0.2, \"#de77ae\"], [0.3, \"#f1b6da\"], [0.4, \"#fde0ef\"], [0.5, \"#f7f7f7\"], [0.6, \"#e6f5d0\"], [0.7, \"#b8e186\"], [0.8, \"#7fbc41\"], [0.9, \"#4d9221\"], [1, \"#276419\"]], \"sequential\": [[0.0, \"#0d0887\"], [0.1111111111111111, \"#46039f\"], [0.2222222222222222, \"#7201a8\"], [0.3333333333333333, \"#9c179e\"], [0.4444444444444444, \"#bd3786\"], [0.5555555555555556, \"#d8576b\"], [0.6666666666666666, \"#ed7953\"], [0.7777777777777778, \"#fb9f3a\"], [0.8888888888888888, \"#fdca26\"], [1.0, \"#f0f921\"]], \"sequentialminus\": [[0.0, \"#0d0887\"], [0.1111111111111111, \"#46039f\"], [0.2222222222222222, \"#7201a8\"], [0.3333333333333333, \"#9c179e\"], [0.4444444444444444, \"#bd3786\"], [0.5555555555555556, \"#d8576b\"], [0.6666666666666666, \"#ed7953\"], [0.7777777777777778, \"#fb9f3a\"], [0.8888888888888888, \"#fdca26\"], [1.0, \"#f0f921\"]]}, \"colorway\": [\"#636efa\", \"#EF553B\", \"#00cc96\", \"#ab63fa\", \"#FFA15A\", \"#19d3f3\", \"#FF6692\", \"#B6E880\", \"#FF97FF\", \"#FECB52\"], \"font\": {\"color\": \"#2a3f5f\"}, \"geo\": {\"bgcolor\": \"white\", \"lakecolor\": \"white\", \"landcolor\": \"#E5ECF6\", \"showlakes\": true, \"showland\": true, \"subunitcolor\": \"white\"}, \"hoverlabel\": {\"align\": \"left\"}, \"hovermode\": \"closest\", \"mapbox\": {\"style\": \"light\"}, \"paper_bgcolor\": \"white\", \"plot_bgcolor\": \"#E5ECF6\", \"polar\": {\"angularaxis\": {\"gridcolor\": \"white\", \"linecolor\": \"white\", \"ticks\": \"\"}, \"bgcolor\": \"#E5ECF6\", \"radialaxis\": {\"gridcolor\": \"white\", \"linecolor\": \"white\", \"ticks\": \"\"}}, \"scene\": {\"xaxis\": {\"backgroundcolor\": \"#E5ECF6\", \"gridcolor\": \"white\", \"gridwidth\": 2, \"linecolor\": \"white\", \"showbackground\": true, \"ticks\": \"\", \"zerolinecolor\": \"white\"}, \"yaxis\": {\"backgroundcolor\": \"#E5ECF6\", \"gridcolor\": \"white\", \"gridwidth\": 2, \"linecolor\": \"white\", \"showbackground\": true, \"ticks\": \"\", \"zerolinecolor\": \"white\"}, \"zaxis\": {\"backgroundcolor\": \"#E5ECF6\", \"gridcolor\": \"white\", \"gridwidth\": 2, \"linecolor\": \"white\", \"showbackground\": true, \"ticks\": \"\", \"zerolinecolor\": \"white\"}}, \"shapedefaults\": {\"line\": {\"color\": \"#2a3f5f\"}}, \"ternary\": {\"aaxis\": {\"gridcolor\": \"white\", \"linecolor\": \"white\", \"ticks\": \"\"}, \"baxis\": {\"gridcolor\": \"white\", \"linecolor\": \"white\", \"ticks\": \"\"}, \"bgcolor\": \"#E5ECF6\", \"caxis\": {\"gridcolor\": \"white\", \"linecolor\": \"white\", \"ticks\": \"\"}}, \"title\": {\"x\": 0.05}, \"xaxis\": {\"automargin\": true, \"gridcolor\": \"white\", \"linecolor\": \"white\", \"ticks\": \"\", \"title\": {\"standoff\": 15}, \"zerolinecolor\": \"white\", \"zerolinewidth\": 2}, \"yaxis\": {\"automargin\": true, \"gridcolor\": \"white\", \"linecolor\": \"white\", \"ticks\": \"\", \"title\": {\"standoff\": 15}, \"zerolinecolor\": \"white\", \"zerolinewidth\": 2}}}, \"title\": {\"text\": \"Old vs New Web Backend Technologies over 2008-2020 (based on a 1mln sample)\"}, \"xaxis\": {\"title\": {\"text\": \"Years\"}}, \"yaxis\": {\"title\": {\"text\": \"Number of questions (sample relative)\"}}},                        {\"responsive\": true}                    ).then(function(){\n",
       "                            \n",
       "var gd = document.getElementById('11c5f465-f23d-4a2a-a1d2-4a9f5d2edd57');\n",
       "var x = new MutationObserver(function (mutations, observer) {{\n",
       "        var display = window.getComputedStyle(gd).display;\n",
       "        if (!display || display === 'none') {{\n",
       "            console.log([gd, 'removed!']);\n",
       "            Plotly.purge(gd);\n",
       "            observer.disconnect();\n",
       "        }}\n",
       "}});\n",
       "\n",
       "// Listen for the removal of the full notebook cells\n",
       "var notebookContainer = gd.closest('#notebook-container');\n",
       "if (notebookContainer) {{\n",
       "    x.observe(notebookContainer, {childList: true});\n",
       "}}\n",
       "\n",
       "// Listen for the clearing of the current output cell\n",
       "var outputEl = gd.closest('.output');\n",
       "if (outputEl) {{\n",
       "    x.observe(outputEl, {childList: true});\n",
       "}}\n",
       "\n",
       "                        })                };                });            </script>        </div>"
      ]
     },
     "metadata": {},
     "output_type": "display_data"
    }
   ],
   "source": [
    "####### 2 backend - plot ##########\n",
    "\n",
    "layout = go.Layout(xaxis_title='x', \n",
    "                   yaxis_title='y',\n",
    "                    margin_b=90, #increase the bottom margin to have space for caption\n",
    "                    annotations = [dict(xref='paper',\n",
    "                                        yref='paper',\n",
    "                                        x=0.5, y=-0.25,\n",
    "                                        showarrow=False,\n",
    "                                        text ='''Old Technologies: PHP, Java servlet, ASP\n",
    "                                                 New Technologies: Express, Django, Spring exc.''' )])\n",
    "\n",
    "fig = go.Figure(layout = layout)\n",
    "fig.add_trace(go.Scatter(x=tab_ovn.index, y=tab_ovn.old, mode='lines', name=\"Old Technologies\", \n",
    "              line=dict(color='#e74c3c', width=2)))\n",
    "fig.add_trace(go.Scatter(x=tab_ovn.index, y=tab_ovn.new, mode='lines', name=\"New Technologies\", \n",
    "              line=dict(color='#74b9ff', width=2)))\n",
    "\n",
    "fig.update_layout(title='Old vs New Web Backend Technologies over 2008-2020 (based on a 1mln sample)',\n",
    "                   xaxis_title='Years',\n",
    "                   yaxis_title='Number of questions (sample relative)')\n",
    "\n",
    "\n",
    "fig.show()"
   ]
  },
  {
   "cell_type": "code",
   "execution_count": null,
   "metadata": {},
   "outputs": [],
   "source": []
  }
 ],
 "metadata": {
  "kernelspec": {
   "display_name": "Python 3",
   "language": "python",
   "name": "python3"
  },
  "language_info": {
   "codemirror_mode": {
    "name": "ipython",
    "version": 3
   },
   "file_extension": ".py",
   "mimetype": "text/x-python",
   "name": "python",
   "nbconvert_exporter": "python",
   "pygments_lexer": "ipython3",
   "version": "3.8.5"
  }
 },
 "nbformat": 4,
 "nbformat_minor": 4
}
